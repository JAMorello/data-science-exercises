{
 "cells": [
  {
   "cell_type": "markdown",
   "metadata": {},
   "source": [
    "# Setting up the data frame"
   ]
  },
  {
   "cell_type": "code",
   "execution_count": 99,
   "metadata": {},
   "outputs": [],
   "source": [
    "import pandas as pd\n",
    "import numpy as np\n",
    "\n",
    "# Path of the file to read\n",
    "train_path = 'train.csv'\n",
    "test_path = 'test.csv'\n",
    "\n",
    "# Read csv data\n",
    "train_df = pd.read_csv(train_path, index_col='PassengerId')\n",
    "test_df = pd.read_csv(test_path, index_col='PassengerId')\n",
    "\n",
    "# NOTE: Training data contains 891 samples (40%) compared to 2205 total passengers on board\n",
    "# NOTE: Test data cointans 418 samples (19%)"
   ]
  },
  {
   "cell_type": "code",
   "execution_count": 100,
   "metadata": {},
   "outputs": [],
   "source": [
    "# For reference: Changing display of data frame\n",
    "pd.set_option('display.max_columns', 50)\n",
    "pd.set_option('display.max_rows', 50)"
   ]
  },
  {
   "cell_type": "code",
   "execution_count": 102,
   "metadata": {},
   "outputs": [
    {
     "name": "stdout",
     "output_type": "stream",
     "text": [
      "<class 'pandas.core.frame.DataFrame'>\n",
      "Int64Index: 418 entries, 892 to 1309\n",
      "Data columns (total 10 columns):\n",
      " #   Column    Non-Null Count  Dtype  \n",
      "---  ------    --------------  -----  \n",
      " 0   Pclass    418 non-null    int64  \n",
      " 1   Name      418 non-null    object \n",
      " 2   Sex       418 non-null    object \n",
      " 3   Age       332 non-null    float64\n",
      " 4   SibSp     418 non-null    int64  \n",
      " 5   Parch     418 non-null    int64  \n",
      " 6   Ticket    418 non-null    object \n",
      " 7   Fare      417 non-null    float64\n",
      " 8   Cabin     91 non-null     object \n",
      " 9   Embarked  418 non-null    object \n",
      "dtypes: float64(2), int64(3), object(5)\n",
      "memory usage: 35.9+ KB\n"
     ]
    }
   ],
   "source": [
    "train_df.info()\n",
    "# test_df.info()"
   ]
  },
  {
   "cell_type": "code",
   "execution_count": 104,
   "metadata": {},
   "outputs": [
    {
     "data": {
      "text/plain": [
       "Cabin       687\n",
       "Age         177\n",
       "Embarked      2\n",
       "Fare          0\n",
       "Ticket        0\n",
       "Parch         0\n",
       "SibSp         0\n",
       "Sex           0\n",
       "Name          0\n",
       "Pclass        0\n",
       "Survived      0\n",
       "dtype: int64"
      ]
     },
     "execution_count": 104,
     "metadata": {},
     "output_type": "execute_result"
    }
   ],
   "source": [
    "train_df.isnull().sum().sort_values(ascending=False)\n",
    "# train_df: Null in Age (177), Cabin (687) and Embarked (2)"
   ]
  },
  {
   "cell_type": "code",
   "execution_count": 105,
   "metadata": {},
   "outputs": [
    {
     "data": {
      "text/plain": [
       "Cabin       327\n",
       "Age          86\n",
       "Fare          1\n",
       "Embarked      0\n",
       "Ticket        0\n",
       "Parch         0\n",
       "SibSp         0\n",
       "Sex           0\n",
       "Name          0\n",
       "Pclass        0\n",
       "dtype: int64"
      ]
     },
     "execution_count": 105,
     "metadata": {},
     "output_type": "execute_result"
    }
   ],
   "source": [
    "test_df.isnull().sum().sort_values(ascending=False)\n",
    "# test_df: Null in Age (86), Cabin (327) and Fare (1)"
   ]
  },
  {
   "cell_type": "code",
   "execution_count": 5,
   "metadata": {},
   "outputs": [
    {
     "data": {
      "text/html": [
       "<div>\n",
       "<style scoped>\n",
       "    .dataframe tbody tr th:only-of-type {\n",
       "        vertical-align: middle;\n",
       "    }\n",
       "\n",
       "    .dataframe tbody tr th {\n",
       "        vertical-align: top;\n",
       "    }\n",
       "\n",
       "    .dataframe thead th {\n",
       "        text-align: right;\n",
       "    }\n",
       "</style>\n",
       "<table border=\"1\" class=\"dataframe\">\n",
       "  <thead>\n",
       "    <tr style=\"text-align: right;\">\n",
       "      <th></th>\n",
       "      <th>Survived</th>\n",
       "      <th>Pclass</th>\n",
       "      <th>Age</th>\n",
       "      <th>SibSp</th>\n",
       "      <th>Parch</th>\n",
       "      <th>Fare</th>\n",
       "    </tr>\n",
       "  </thead>\n",
       "  <tbody>\n",
       "    <tr>\n",
       "      <th>count</th>\n",
       "      <td>891.000000</td>\n",
       "      <td>891.000000</td>\n",
       "      <td>714.000000</td>\n",
       "      <td>891.000000</td>\n",
       "      <td>891.000000</td>\n",
       "      <td>891.000000</td>\n",
       "    </tr>\n",
       "    <tr>\n",
       "      <th>mean</th>\n",
       "      <td>0.383838</td>\n",
       "      <td>2.308642</td>\n",
       "      <td>29.699118</td>\n",
       "      <td>0.523008</td>\n",
       "      <td>0.381594</td>\n",
       "      <td>32.204208</td>\n",
       "    </tr>\n",
       "    <tr>\n",
       "      <th>std</th>\n",
       "      <td>0.486592</td>\n",
       "      <td>0.836071</td>\n",
       "      <td>14.526497</td>\n",
       "      <td>1.102743</td>\n",
       "      <td>0.806057</td>\n",
       "      <td>49.693429</td>\n",
       "    </tr>\n",
       "    <tr>\n",
       "      <th>min</th>\n",
       "      <td>0.000000</td>\n",
       "      <td>1.000000</td>\n",
       "      <td>0.420000</td>\n",
       "      <td>0.000000</td>\n",
       "      <td>0.000000</td>\n",
       "      <td>0.000000</td>\n",
       "    </tr>\n",
       "    <tr>\n",
       "      <th>25%</th>\n",
       "      <td>0.000000</td>\n",
       "      <td>2.000000</td>\n",
       "      <td>20.125000</td>\n",
       "      <td>0.000000</td>\n",
       "      <td>0.000000</td>\n",
       "      <td>7.910400</td>\n",
       "    </tr>\n",
       "    <tr>\n",
       "      <th>50%</th>\n",
       "      <td>0.000000</td>\n",
       "      <td>3.000000</td>\n",
       "      <td>28.000000</td>\n",
       "      <td>0.000000</td>\n",
       "      <td>0.000000</td>\n",
       "      <td>14.454200</td>\n",
       "    </tr>\n",
       "    <tr>\n",
       "      <th>75%</th>\n",
       "      <td>1.000000</td>\n",
       "      <td>3.000000</td>\n",
       "      <td>38.000000</td>\n",
       "      <td>1.000000</td>\n",
       "      <td>0.000000</td>\n",
       "      <td>31.000000</td>\n",
       "    </tr>\n",
       "    <tr>\n",
       "      <th>max</th>\n",
       "      <td>1.000000</td>\n",
       "      <td>3.000000</td>\n",
       "      <td>80.000000</td>\n",
       "      <td>8.000000</td>\n",
       "      <td>6.000000</td>\n",
       "      <td>512.329200</td>\n",
       "    </tr>\n",
       "  </tbody>\n",
       "</table>\n",
       "</div>"
      ],
      "text/plain": [
       "         Survived      Pclass         Age       SibSp       Parch        Fare\n",
       "count  891.000000  891.000000  714.000000  891.000000  891.000000  891.000000\n",
       "mean     0.383838    2.308642   29.699118    0.523008    0.381594   32.204208\n",
       "std      0.486592    0.836071   14.526497    1.102743    0.806057   49.693429\n",
       "min      0.000000    1.000000    0.420000    0.000000    0.000000    0.000000\n",
       "25%      0.000000    2.000000   20.125000    0.000000    0.000000    7.910400\n",
       "50%      0.000000    3.000000   28.000000    0.000000    0.000000   14.454200\n",
       "75%      1.000000    3.000000   38.000000    1.000000    0.000000   31.000000\n",
       "max      1.000000    3.000000   80.000000    8.000000    6.000000  512.329200"
      ]
     },
     "execution_count": 5,
     "metadata": {},
     "output_type": "execute_result"
    }
   ],
   "source": [
    "train_df.describe()  # For reference. Describes only numerical columns"
   ]
  },
  {
   "cell_type": "code",
   "execution_count": 6,
   "metadata": {},
   "outputs": [
    {
     "data": {
      "text/html": [
       "<div>\n",
       "<style scoped>\n",
       "    .dataframe tbody tr th:only-of-type {\n",
       "        vertical-align: middle;\n",
       "    }\n",
       "\n",
       "    .dataframe tbody tr th {\n",
       "        vertical-align: top;\n",
       "    }\n",
       "\n",
       "    .dataframe thead th {\n",
       "        text-align: right;\n",
       "    }\n",
       "</style>\n",
       "<table border=\"1\" class=\"dataframe\">\n",
       "  <thead>\n",
       "    <tr style=\"text-align: right;\">\n",
       "      <th></th>\n",
       "      <th>Name</th>\n",
       "      <th>Sex</th>\n",
       "      <th>Ticket</th>\n",
       "      <th>Cabin</th>\n",
       "      <th>Embarked</th>\n",
       "    </tr>\n",
       "  </thead>\n",
       "  <tbody>\n",
       "    <tr>\n",
       "      <th>count</th>\n",
       "      <td>891</td>\n",
       "      <td>891</td>\n",
       "      <td>891</td>\n",
       "      <td>204</td>\n",
       "      <td>889</td>\n",
       "    </tr>\n",
       "    <tr>\n",
       "      <th>unique</th>\n",
       "      <td>891</td>\n",
       "      <td>2</td>\n",
       "      <td>681</td>\n",
       "      <td>147</td>\n",
       "      <td>3</td>\n",
       "    </tr>\n",
       "    <tr>\n",
       "      <th>top</th>\n",
       "      <td>Carter, Miss. Lucile Polk</td>\n",
       "      <td>male</td>\n",
       "      <td>1601</td>\n",
       "      <td>B96 B98</td>\n",
       "      <td>S</td>\n",
       "    </tr>\n",
       "    <tr>\n",
       "      <th>freq</th>\n",
       "      <td>1</td>\n",
       "      <td>577</td>\n",
       "      <td>7</td>\n",
       "      <td>4</td>\n",
       "      <td>644</td>\n",
       "    </tr>\n",
       "  </tbody>\n",
       "</table>\n",
       "</div>"
      ],
      "text/plain": [
       "                             Name   Sex Ticket    Cabin Embarked\n",
       "count                         891   891    891      204      889\n",
       "unique                        891     2    681      147        3\n",
       "top     Carter, Miss. Lucile Polk  male   1601  B96 B98        S\n",
       "freq                            1   577      7        4      644"
      ]
     },
     "execution_count": 6,
     "metadata": {},
     "output_type": "execute_result"
    }
   ],
   "source": [
    "train_df.describe(include=['O'])  # For reference"
   ]
  },
  {
   "cell_type": "code",
   "execution_count": 7,
   "metadata": {},
   "outputs": [
    {
     "data": {
      "text/html": [
       "<div>\n",
       "<style scoped>\n",
       "    .dataframe tbody tr th:only-of-type {\n",
       "        vertical-align: middle;\n",
       "    }\n",
       "\n",
       "    .dataframe tbody tr th {\n",
       "        vertical-align: top;\n",
       "    }\n",
       "\n",
       "    .dataframe thead th {\n",
       "        text-align: right;\n",
       "    }\n",
       "</style>\n",
       "<table border=\"1\" class=\"dataframe\">\n",
       "  <thead>\n",
       "    <tr style=\"text-align: right;\">\n",
       "      <th></th>\n",
       "      <th>Name</th>\n",
       "      <th>Age</th>\n",
       "      <th>Fare</th>\n",
       "    </tr>\n",
       "    <tr>\n",
       "      <th>PassengerId</th>\n",
       "      <th></th>\n",
       "      <th></th>\n",
       "      <th></th>\n",
       "    </tr>\n",
       "  </thead>\n",
       "  <tbody>\n",
       "    <tr>\n",
       "      <th>3</th>\n",
       "      <td>Heikkinen, Miss. Laina</td>\n",
       "      <td>26.0</td>\n",
       "      <td>7.9250</td>\n",
       "    </tr>\n",
       "    <tr>\n",
       "      <th>4</th>\n",
       "      <td>Futrelle, Mrs. Jacques Heath (Lily May Peel)</td>\n",
       "      <td>35.0</td>\n",
       "      <td>53.1000</td>\n",
       "    </tr>\n",
       "    <tr>\n",
       "      <th>5</th>\n",
       "      <td>Allen, Mr. William Henry</td>\n",
       "      <td>35.0</td>\n",
       "      <td>8.0500</td>\n",
       "    </tr>\n",
       "    <tr>\n",
       "      <th>6</th>\n",
       "      <td>Moran, Mr. James</td>\n",
       "      <td>NaN</td>\n",
       "      <td>8.4583</td>\n",
       "    </tr>\n",
       "    <tr>\n",
       "      <th>7</th>\n",
       "      <td>McCarthy, Mr. Timothy J</td>\n",
       "      <td>54.0</td>\n",
       "      <td>51.8625</td>\n",
       "    </tr>\n",
       "  </tbody>\n",
       "</table>\n",
       "</div>"
      ],
      "text/plain": [
       "                                                     Name   Age     Fare\n",
       "PassengerId                                                             \n",
       "3                                  Heikkinen, Miss. Laina  26.0   7.9250\n",
       "4            Futrelle, Mrs. Jacques Heath (Lily May Peel)  35.0  53.1000\n",
       "5                                Allen, Mr. William Henry  35.0   8.0500\n",
       "6                                        Moran, Mr. James   NaN   8.4583\n",
       "7                                 McCarthy, Mr. Timothy J  54.0  51.8625"
      ]
     },
     "execution_count": 7,
     "metadata": {},
     "output_type": "execute_result"
    }
   ],
   "source": [
    "# For reference\n",
    "# Same ways to access the same data\n",
    "train_df.iloc[[2,3,4,5,6], [2,4,8]]  # Integer location, exclusive: [:3] returns 0, 1 and 2; same with columns\n",
    "train_df.loc[3:7, ['Name', 'Age', 'Fare']]  # Inclusive: [:3] return 0, 1, 2 and 3; same with columns\n",
    "# To see columns data types:\n",
    "# df.dtypes"
   ]
  },
  {
   "cell_type": "markdown",
   "metadata": {},
   "source": [
    "# Preparing data for analysis"
   ]
  },
  {
   "cell_type": "code",
   "execution_count": 8,
   "metadata": {},
   "outputs": [
    {
     "data": {
      "text/plain": [
       "0    549\n",
       "1    342\n",
       "Name: Survived, dtype: int64"
      ]
     },
     "execution_count": 8,
     "metadata": {},
     "output_type": "execute_result"
    }
   ],
   "source": [
    "train_df['Survived'].value_counts()  # Ammount of passengers that survived (only in train_df)"
   ]
  },
  {
   "cell_type": "code",
   "execution_count": 9,
   "metadata": {},
   "outputs": [],
   "source": [
    "# Changing numeric values of 'Survived' columns for boolean ones (only in train_df)\n",
    "train_df['Survived'] = df['Survived'].map({1: True, 0: False})"
   ]
  },
  {
   "cell_type": "code",
   "execution_count": 107,
   "metadata": {},
   "outputs": [
    {
     "data": {
      "text/plain": [
       "array([ 0.17,  0.33,  0.75,  0.83,  0.92,  1.  ,  2.  ,  3.  ,  5.  ,\n",
       "        6.  ,  7.  ,  8.  ,  9.  , 10.  , 11.5 , 12.  , 13.  , 14.  ,\n",
       "       14.5 , 15.  , 16.  , 17.  , 18.  , 18.5 , 19.  , 20.  , 21.  ,\n",
       "       22.  , 22.5 , 23.  , 24.  , 25.  , 26.  , 26.5 , 27.  , 28.  ,\n",
       "       28.5 , 29.  , 30.  , 31.  , 32.  , 32.5 , 33.  , 34.  , 34.5 ,\n",
       "       35.  , 36.  , 36.5 , 37.  , 38.  , 38.5 , 39.  , 40.  , 40.5 ,\n",
       "       41.  , 42.  , 43.  , 44.  , 45.  , 46.  , 47.  , 48.  , 49.  ,\n",
       "       50.  , 51.  , 53.  , 54.  , 55.  , 57.  , 58.  , 59.  , 60.  ,\n",
       "       60.5 , 61.  , 62.  , 63.  , 64.  , 67.  , 76.  ,   nan])"
      ]
     },
     "execution_count": 107,
     "metadata": {},
     "output_type": "execute_result"
    }
   ],
   "source": [
    "train_df['Age'].sort_values().unique()  # To know how many different age are and the range. You could check in test_df too."
   ]
  },
  {
   "cell_type": "code",
   "execution_count": 108,
   "metadata": {},
   "outputs": [],
   "source": [
    "# Adding new column with passengers grouped by age\n",
    "# Range goes from 0 (inclusive) to 80, by 10.\n",
    "\n",
    "for df in [train_df, test_df]:\n",
    "    df['Age_group'] = pd.cut(df['Age'], bins=[g for g in range(0, 81, 10)], include_lowest=True)"
   ]
  },
  {
   "cell_type": "code",
   "execution_count": 110,
   "metadata": {},
   "outputs": [
    {
     "data": {
      "text/plain": [
       "array([  0.    ,   3.1708,   6.4375,   6.4958,   6.95  ,   7.    ,\n",
       "         7.05  ,   7.225 ,   7.2292,   7.25  ,   7.2833,   7.55  ,\n",
       "         7.575 ,   7.5792,   7.6292,   7.65  ,   7.7208,   7.725 ,\n",
       "         7.7333,   7.75  ,   7.775 ,   7.7792,   7.7958,   7.8208,\n",
       "         7.8292,   7.85  ,   7.8542,   7.8792,   7.8875,   7.8958,\n",
       "         7.925 ,   8.05  ,   8.1125,   8.5167,   8.6625,   8.7125,\n",
       "         8.9625,   9.225 ,   9.325 ,   9.35  ,   9.5   ,   9.6875,\n",
       "        10.5   ,  10.7083,  11.5   ,  12.1833,  12.2875,  12.35  ,\n",
       "        12.7375,  12.875 ,  13.    ,  13.4167,  13.5   ,  13.775 ,\n",
       "        13.8583,  13.8625,  13.9   ,  14.1083,  14.4   ,  14.4542,\n",
       "        14.4583,  14.5   ,  15.0333,  15.0458,  15.1   ,  15.2458,\n",
       "        15.5   ,  15.55  ,  15.5792,  15.7417,  15.75  ,  15.9   ,\n",
       "        16.    ,  16.1   ,  16.7   ,  17.4   ,  18.    ,  20.2125,\n",
       "        20.25  ,  20.575 ,  21.    ,  21.075 ,  21.6792,  22.025 ,\n",
       "        22.3583,  22.525 ,  23.    ,  23.25  ,  23.45  ,  24.15  ,\n",
       "        25.4667,  25.7   ,  25.7417,  26.    ,  26.55  ,  27.4458,\n",
       "        27.7208,  27.75  ,  28.5   ,  28.5375,  29.    ,  29.125 ,\n",
       "        29.7   ,  30.    ,  30.5   ,  31.3875,  31.5   ,  31.6792,\n",
       "        31.6833,  32.5   ,  34.375 ,  36.75  ,  37.0042,  39.    ,\n",
       "        39.4   ,  39.6   ,  39.6875,  41.5792,  42.4   ,  42.5   ,\n",
       "        45.5   ,  46.9   ,  47.1   ,  50.    ,  50.4958,  51.4792,\n",
       "        51.8625,  52.    ,  52.5542,  53.1   ,  55.4417,  56.4958,\n",
       "        57.75  ,  59.4   ,  60.    ,  61.175 ,  61.3792,  61.9792,\n",
       "        63.3583,  65.    ,  69.55  ,  71.2833,  73.5   ,  75.2417,\n",
       "        75.25  ,  76.2917,  78.85  ,  79.2   ,  81.8583,  82.2667,\n",
       "        83.1583,  90.    ,  93.5   , 106.425 , 108.9   , 134.5   ,\n",
       "       135.6333, 136.7792, 146.5208, 151.55  , 164.8667, 211.3375,\n",
       "       211.5   , 221.7792, 227.525 , 247.5208, 262.375 , 263.    ,\n",
       "       512.3292,      nan])"
      ]
     },
     "execution_count": 110,
     "metadata": {},
     "output_type": "execute_result"
    }
   ],
   "source": [
    "train_df['Fare'].sort_values().unique()  # To know how many different fares are and the range. You could check in test_df too.\n",
    "# df['Fare'].sort_values().unique().size --> 248 different fares"
   ]
  },
  {
   "cell_type": "code",
   "execution_count": 111,
   "metadata": {},
   "outputs": [],
   "source": [
    "# Changing char values of 'Embarked' column for string ones\n",
    "\n",
    "for df in [train_df, test_df]:\n",
    "    df['Embarked'].replace({'C': 'Cherbourg', 'Q': 'Queenstown', 'S':'Southampton'}, inplace=True)"
   ]
  },
  {
   "cell_type": "code",
   "execution_count": 14,
   "metadata": {},
   "outputs": [],
   "source": [
    "# Adding new columns to data frame relative to fare groups\n",
    "# Lower fare: between 0 and 30 (0 inclusive) [groups going up by 2]\n",
    "# Middle fare: between 30 and 150 (30 inclusive) [groups going up by 15]\n",
    "# Higher fare: between 150 and 551 (150 inclusive) [groups going up by 50]\n",
    "\n",
    "for df in [train_df, test_df]:\n",
    "    df['Fare_group_lower'] = pd.cut(df['Fare'], bins=[g for g in range(0, 31, 2)], include_lowest=True)\n",
    "    df['Fare_group_middle'] = pd.cut(df['Fare'], bins=[g for g in range(30, 151, 15)], include_lowest=True)\n",
    "    df['Fare_group_higher'] = pd.cut(df['Fare'], bins=[g for g in range(150, 551, 50)], include_lowest=True)"
   ]
  },
  {
   "cell_type": "code",
   "execution_count": 15,
   "metadata": {},
   "outputs": [],
   "source": [
    "# Put all Fare groups in a single column \n",
    "for df in [train_df, test_df]:\n",
    "    # Idea from: https://stackoverflow.com/questions/39291499/how-to-concatenate-multiple-column-values-into-a-single-column-in-panda-datafram/39291596\n",
    "    cols = ['Fare_group_lower', 'Fare_group_middle', 'Fare_group_higher']\n",
    "    df['Fare_group'] = df[cols].apply(lambda row: ''.join(row.values.astype(str)), axis=1)\n",
    "    # Idea from https://stackoverflow.com/questions/38565849/pandas-replace-substring-in-string\n",
    "    df['Fare_group'].replace({'nan': ''}, inplace=True, regex=True)\n",
    "    df['Fare_group'].replace({'': np.nan}, inplace=True)\n",
    "    df['Fare_group'] = df['Fare_group'].astype('category')"
   ]
  },
  {
   "cell_type": "code",
   "execution_count": 16,
   "metadata": {},
   "outputs": [
    {
     "data": {
      "text/plain": [
       "Mr          517\n",
       "Miss        182\n",
       "Mrs         125\n",
       "Master       40\n",
       "Dr            7\n",
       "Rev           6\n",
       "Mlle          2\n",
       "Col           2\n",
       "Major         2\n",
       "Don           1\n",
       "Jonkheer      1\n",
       "Lady          1\n",
       "Sir           1\n",
       "Countess      1\n",
       "Capt          1\n",
       "Mme           1\n",
       "Ms            1\n",
       "Name: Title, dtype: int64"
      ]
     },
     "execution_count": 16,
     "metadata": {},
     "output_type": "execute_result"
    }
   ],
   "source": [
    "# Extracting Title from the Name column\n",
    "for df in [train_df, test_df]:\n",
    "    df['Title'] = df.Name.str.extract('([A-Za-z]+)\\.')\n",
    "    \n",
    "train_df['Title'].value_counts()"
   ]
  },
  {
   "cell_type": "code",
   "execution_count": 17,
   "metadata": {},
   "outputs": [
    {
     "data": {
      "text/html": [
       "<div>\n",
       "<style scoped>\n",
       "    .dataframe tbody tr th:only-of-type {\n",
       "        vertical-align: middle;\n",
       "    }\n",
       "\n",
       "    .dataframe tbody tr th {\n",
       "        vertical-align: top;\n",
       "    }\n",
       "\n",
       "    .dataframe thead th {\n",
       "        text-align: right;\n",
       "    }\n",
       "</style>\n",
       "<table border=\"1\" class=\"dataframe\">\n",
       "  <thead>\n",
       "    <tr style=\"text-align: right;\">\n",
       "      <th>Sex</th>\n",
       "      <th>female</th>\n",
       "      <th>male</th>\n",
       "    </tr>\n",
       "    <tr>\n",
       "      <th>Title</th>\n",
       "      <th></th>\n",
       "      <th></th>\n",
       "    </tr>\n",
       "  </thead>\n",
       "  <tbody>\n",
       "    <tr>\n",
       "      <th>Capt</th>\n",
       "      <td>0</td>\n",
       "      <td>1</td>\n",
       "    </tr>\n",
       "    <tr>\n",
       "      <th>Col</th>\n",
       "      <td>0</td>\n",
       "      <td>2</td>\n",
       "    </tr>\n",
       "    <tr>\n",
       "      <th>Countess</th>\n",
       "      <td>1</td>\n",
       "      <td>0</td>\n",
       "    </tr>\n",
       "    <tr>\n",
       "      <th>Don</th>\n",
       "      <td>0</td>\n",
       "      <td>1</td>\n",
       "    </tr>\n",
       "    <tr>\n",
       "      <th>Dr</th>\n",
       "      <td>1</td>\n",
       "      <td>6</td>\n",
       "    </tr>\n",
       "    <tr>\n",
       "      <th>Jonkheer</th>\n",
       "      <td>0</td>\n",
       "      <td>1</td>\n",
       "    </tr>\n",
       "    <tr>\n",
       "      <th>Lady</th>\n",
       "      <td>1</td>\n",
       "      <td>0</td>\n",
       "    </tr>\n",
       "    <tr>\n",
       "      <th>Major</th>\n",
       "      <td>0</td>\n",
       "      <td>2</td>\n",
       "    </tr>\n",
       "    <tr>\n",
       "      <th>Master</th>\n",
       "      <td>0</td>\n",
       "      <td>40</td>\n",
       "    </tr>\n",
       "    <tr>\n",
       "      <th>Miss</th>\n",
       "      <td>182</td>\n",
       "      <td>0</td>\n",
       "    </tr>\n",
       "    <tr>\n",
       "      <th>Mlle</th>\n",
       "      <td>2</td>\n",
       "      <td>0</td>\n",
       "    </tr>\n",
       "    <tr>\n",
       "      <th>Mme</th>\n",
       "      <td>1</td>\n",
       "      <td>0</td>\n",
       "    </tr>\n",
       "    <tr>\n",
       "      <th>Mr</th>\n",
       "      <td>0</td>\n",
       "      <td>517</td>\n",
       "    </tr>\n",
       "    <tr>\n",
       "      <th>Mrs</th>\n",
       "      <td>125</td>\n",
       "      <td>0</td>\n",
       "    </tr>\n",
       "    <tr>\n",
       "      <th>Ms</th>\n",
       "      <td>1</td>\n",
       "      <td>0</td>\n",
       "    </tr>\n",
       "    <tr>\n",
       "      <th>Rev</th>\n",
       "      <td>0</td>\n",
       "      <td>6</td>\n",
       "    </tr>\n",
       "    <tr>\n",
       "      <th>Sir</th>\n",
       "      <td>0</td>\n",
       "      <td>1</td>\n",
       "    </tr>\n",
       "  </tbody>\n",
       "</table>\n",
       "</div>"
      ],
      "text/plain": [
       "Sex       female  male\n",
       "Title                 \n",
       "Capt           0     1\n",
       "Col            0     2\n",
       "Countess       1     0\n",
       "Don            0     1\n",
       "Dr             1     6\n",
       "Jonkheer       0     1\n",
       "Lady           1     0\n",
       "Major          0     2\n",
       "Master         0    40\n",
       "Miss         182     0\n",
       "Mlle           2     0\n",
       "Mme            1     0\n",
       "Mr             0   517\n",
       "Mrs          125     0\n",
       "Ms             1     0\n",
       "Rev            0     6\n",
       "Sir            0     1"
      ]
     },
     "execution_count": 17,
     "metadata": {},
     "output_type": "execute_result"
    }
   ],
   "source": [
    "# Merging Titles\n",
    "# Comparing Titles with the Sex feature to figure out how rarely used titles can be merged with other titles\n",
    "pd.crosstab(train_df['Title'], df['Sex'])"
   ]
  },
  {
   "cell_type": "code",
   "execution_count": 18,
   "metadata": {},
   "outputs": [],
   "source": [
    "replace_titles = ['Capt','Col','Countess','Don','Jonkheer','Lady','Major','Dr','Rev','Sir', 'Dona']\n",
    "for df in [train_df, test_df]:\n",
    "    df['Title'] = df['Title'].replace(replace_titles, 'other')\n",
    "    df['Title'] = df['Title'].replace('Mlle', 'Miss')\n",
    "    df['Title'] = df['Title'].replace('Ms', 'Miss')\n",
    "    df['Title'] = df['Title'].replace('Mme', 'Mrs')"
   ]
  },
  {
   "cell_type": "code",
   "execution_count": 19,
   "metadata": {},
   "outputs": [
    {
     "data": {
      "text/plain": [
       "Survived                               False\n",
       "Pclass                                     1\n",
       "Name                 Kent, Mr. Edward Austin\n",
       "Sex                                     male\n",
       "Age                                       58\n",
       "SibSp                                      0\n",
       "Parch                                      0\n",
       "Ticket                                 11771\n",
       "Fare                                    29.7\n",
       "Cabin                                    B37\n",
       "Embarked                           Cherbourg\n",
       "Age_group                       (50.0, 60.0]\n",
       "Fare_group_lower                (28.0, 30.0]\n",
       "Fare_group_middle                        NaN\n",
       "Fare_group_higher                        NaN\n",
       "Fare_group                      (28.0, 30.0]\n",
       "Title                                     Mr\n",
       "Name: 488, dtype: object"
      ]
     },
     "execution_count": 19,
     "metadata": {},
     "output_type": "execute_result"
    }
   ],
   "source": [
    "# For reference. Checking the passengers that have the highest fare\n",
    "train_df[train_df['Fare_group_higher'].notnull()]['Fare'].sort_values(ascending=False)\n",
    "# df.loc[680]\n",
    "# df.loc[738]\n",
    "train_df.loc[488]\n",
    "\n",
    "# Nota de color: £1 de 1912 puede llegar a ser equivalente a £21.2 hoy en día. \n",
    "# Eso significa que la tarifa más alta (£512) equivale a £10,854, o sea, cerca de un millón de pesos argentinos."
   ]
  },
  {
   "cell_type": "markdown",
   "metadata": {},
   "source": [
    "# Visualizing data from train_df"
   ]
  },
  {
   "cell_type": "code",
   "execution_count": 20,
   "metadata": {},
   "outputs": [],
   "source": [
    "import seaborn as sns\n",
    "sns.set(style=\"darkgrid\", rc={'figure.figsize':(10,6)})\n",
    "\n",
    "import matplotlib.pyplot as plt"
   ]
  },
  {
   "cell_type": "markdown",
   "metadata": {},
   "source": [
    "#### Survivors\n",
    "549 Died\n",
    "342 Survived"
   ]
  },
  {
   "cell_type": "code",
   "execution_count": 21,
   "metadata": {},
   "outputs": [
    {
     "data": {
      "image/png": "[encoded data removed]",
      "text/plain": [
       "<Figure size 720x432 with 1 Axes>"
      ]
     },
     "metadata": {},
     "output_type": "display_data"
    }
   ],
   "source": [
    "# Idea from https://datatofish.com/pie-chart-matplotlib/\n",
    "\n",
    "my_data = 100.0*train_df['Survived'].value_counts() / len(df)\n",
    "my_labels = ['Died', 'Survived']\n",
    "plt.pie(my_data,labels=my_labels,autopct='%1.1f%%')\n",
    "plt.title('Percentaje of survivors')\n",
    "plt.axis('equal')\n",
    "plt.show()"
   ]
  },
  {
   "cell_type": "markdown",
   "metadata": {},
   "source": [
    "#### Survivors by sex"
   ]
  },
  {
   "cell_type": "code",
   "execution_count": 22,
   "metadata": {},
   "outputs": [
    {
     "data": {
      "text/plain": [
       "<matplotlib.axes._subplots.AxesSubplot at 0x23bea883708>"
      ]
     },
     "execution_count": 22,
     "metadata": {},
     "output_type": "execute_result"
    },
    {
     "data": {
      "image/png": "[encoded data removed]",
      "text/plain": [
       "<Figure size 720x432 with 1 Axes>"
      ]
     },
     "metadata": {},
     "output_type": "display_data"
    }
   ],
   "source": [
    "# sns.countplot(y='Survived', hue='Sex', data=df, palette=\"Greens_d\")  # Previous plot\n",
    "sns.countplot(x='Survived', hue='Sex', data=train_df)"
   ]
  },
  {
   "cell_type": "markdown",
   "metadata": {},
   "source": [
    "#### Age distribution"
   ]
  },
  {
   "cell_type": "code",
   "execution_count": 23,
   "metadata": {},
   "outputs": [
    {
     "data": {
      "text/plain": [
       "<matplotlib.axes._subplots.AxesSubplot at 0x23beb25f408>"
      ]
     },
     "execution_count": 23,
     "metadata": {},
     "output_type": "execute_result"
    },
    {
     "data": {
      "image/png": "[encoded data removed]",
      "text/plain": [
       "<Figure size 720x432 with 1 Axes>"
      ]
     },
     "metadata": {},
     "output_type": "display_data"
    }
   ],
   "source": [
    "sns.kdeplot(data=train_df['Age'], label=\"Age\", shade=True)  # Density plot\n",
    "# Its important to know that there are 177 rows in which Age data is missing\n",
    "# Check: df.loc[df[\"Age\"].isna()]"
   ]
  },
  {
   "cell_type": "markdown",
   "metadata": {},
   "source": [
    "#### Survivors by age"
   ]
  },
  {
   "cell_type": "code",
   "execution_count": 24,
   "metadata": {},
   "outputs": [
    {
     "data": {
      "text/plain": [
       "<matplotlib.axes._subplots.AxesSubplot at 0x23beb301708>"
      ]
     },
     "execution_count": 24,
     "metadata": {},
     "output_type": "execute_result"
    },
    {
     "data": {
      "image/png": "[encoded data removed]",
      "text/plain": [
       "<Figure size 720x432 with 1 Axes>"
      ]
     },
     "metadata": {},
     "output_type": "display_data"
    }
   ],
   "source": [
    "# Idea sacada de: https://stackoverflow.com/questions/34251641/how-to-make-a-bar-plot-of-non-numerical-data-in-pandas\n",
    "sns.countplot(y='Survived', hue='Age_group', data=train_df, palette=\"Greens_d\")"
   ]
  },
  {
   "cell_type": "code",
   "execution_count": 25,
   "metadata": {},
   "outputs": [
    {
     "data": {
      "text/plain": [
       "<matplotlib.axes._subplots.AxesSubplot at 0x23be9593488>"
      ]
     },
     "execution_count": 25,
     "metadata": {},
     "output_type": "execute_result"
    },
    {
     "data": {
      "image/png": "[encoded data removed]",
      "text/plain": [
       "<Figure size 720x432 with 1 Axes>"
      ]
     },
     "metadata": {},
     "output_type": "display_data"
    }
   ],
   "source": [
    "# Idea sacada de: https://stackoverflow.com/questions/34251641/how-to-make-a-bar-plot-of-non-numerical-data-in-pandas\n",
    "graph=train_df.groupby(['Age_group','Survived']).size().unstack()\n",
    "graph.plot(kind='bar')"
   ]
  },
  {
   "cell_type": "markdown",
   "metadata": {},
   "source": [
    "#### Survivors by sex and age"
   ]
  },
  {
   "cell_type": "code",
   "execution_count": 26,
   "metadata": {},
   "outputs": [
    {
     "data": {
      "text/plain": [
       "<matplotlib.axes._subplots.AxesSubplot at 0x23be9593688>"
      ]
     },
     "execution_count": 26,
     "metadata": {},
     "output_type": "execute_result"
    },
    {
     "data": {
      "image/png": "[encoded data removed]",
      "text/plain": [
       "<Figure size 720x432 with 1 Axes>"
      ]
     },
     "metadata": {},
     "output_type": "display_data"
    }
   ],
   "source": [
    "graph = train_df.groupby(['Sex','Age_group','Survived']).size().unstack()\n",
    "graph.plot(kind='bar')"
   ]
  },
  {
   "cell_type": "markdown",
   "metadata": {},
   "source": [
    "#### Survivors by passenger class"
   ]
  },
  {
   "cell_type": "code",
   "execution_count": 27,
   "metadata": {},
   "outputs": [
    {
     "data": {
      "text/plain": [
       "<matplotlib.axes._subplots.AxesSubplot at 0x23beb5b7c48>"
      ]
     },
     "execution_count": 27,
     "metadata": {},
     "output_type": "execute_result"
    },
    {
     "data": {
      "image/png": "[encoded data removed]",
      "text/plain": [
       "<Figure size 720x432 with 1 Axes>"
      ]
     },
     "metadata": {},
     "output_type": "display_data"
    }
   ],
   "source": [
    "sns.countplot(y='Survived', hue='Pclass', data=train_df, palette=\"Greens_d\")"
   ]
  },
  {
   "cell_type": "markdown",
   "metadata": {},
   "source": [
    "#### Survivors by sex and passenger class"
   ]
  },
  {
   "cell_type": "code",
   "execution_count": 28,
   "metadata": {},
   "outputs": [
    {
     "data": {
      "text/plain": [
       "<matplotlib.axes._subplots.AxesSubplot at 0x23beb631e88>"
      ]
     },
     "execution_count": 28,
     "metadata": {},
     "output_type": "execute_result"
    },
    {
     "data": {
      "image/png": "[encoded data removed]",
      "text/plain": [
       "<Figure size 720x432 with 1 Axes>"
      ]
     },
     "metadata": {},
     "output_type": "display_data"
    }
   ],
   "source": [
    "graph = train_df.groupby(['Sex','Pclass','Survived']).size().unstack()\n",
    "graph.plot(kind='bar')"
   ]
  },
  {
   "cell_type": "markdown",
   "metadata": {},
   "source": [
    "#### Fare distribution"
   ]
  },
  {
   "cell_type": "code",
   "execution_count": 29,
   "metadata": {},
   "outputs": [
    {
     "data": {
      "text/plain": [
       "<matplotlib.axes._subplots.AxesSubplot at 0x23beb61e1c8>"
      ]
     },
     "execution_count": 29,
     "metadata": {},
     "output_type": "execute_result"
    },
    {
     "data": {
      "image/png": "[encoded data removed]",
      "text/plain": [
       "<Figure size 720x432 with 1 Axes>"
      ]
     },
     "metadata": {},
     "output_type": "display_data"
    }
   ],
   "source": [
    "sns.kdeplot(data=train_df['Fare'], label=\"Fare\" ,shade=True)  # Density plot"
   ]
  },
  {
   "cell_type": "markdown",
   "metadata": {},
   "source": [
    "#### Survivors by fare groups\n",
    "This is done in groups due the large quantity of different fares (248)."
   ]
  },
  {
   "cell_type": "code",
   "execution_count": 30,
   "metadata": {},
   "outputs": [
    {
     "data": {
      "text/plain": [
       "<matplotlib.axes._subplots.AxesSubplot at 0x23beb6e3648>"
      ]
     },
     "execution_count": 30,
     "metadata": {},
     "output_type": "execute_result"
    },
    {
     "data": {
      "image/png": "[encoded data removed]",
      "text/plain": [
       "<Figure size 720x432 with 1 Axes>"
      ]
     },
     "metadata": {},
     "output_type": "display_data"
    }
   ],
   "source": [
    "sns.countplot(y='Survived', hue='Fare_group_lower', data=train_df, palette=\"Greens_d\")"
   ]
  },
  {
   "cell_type": "code",
   "execution_count": 31,
   "metadata": {},
   "outputs": [
    {
     "data": {
      "text/plain": [
       "<matplotlib.axes._subplots.AxesSubplot at 0x23beba39848>"
      ]
     },
     "execution_count": 31,
     "metadata": {},
     "output_type": "execute_result"
    },
    {
     "data": {
      "image/png": "[encoded data removed]",
      "text/plain": [
       "<Figure size 720x432 with 1 Axes>"
      ]
     },
     "metadata": {},
     "output_type": "display_data"
    }
   ],
   "source": [
    "sns.countplot(y='Survived', hue='Fare_group_middle', data=train_df, palette=\"Greens_d\")"
   ]
  },
  {
   "cell_type": "code",
   "execution_count": 32,
   "metadata": {},
   "outputs": [
    {
     "data": {
      "text/plain": [
       "<matplotlib.axes._subplots.AxesSubplot at 0x23beb91b088>"
      ]
     },
     "execution_count": 32,
     "metadata": {},
     "output_type": "execute_result"
    },
    {
     "data": {
      "image/png": "[encoded data removed]",
      "text/plain": [
       "<Figure size 720x432 with 1 Axes>"
      ]
     },
     "metadata": {},
     "output_type": "display_data"
    }
   ],
   "source": [
    "sns.countplot(y='Survived', hue='Fare_group_higher', data=train_df, palette=\"Greens_d\")"
   ]
  },
  {
   "cell_type": "markdown",
   "metadata": {},
   "source": [
    "#### Survivors by sex and fare groups "
   ]
  },
  {
   "cell_type": "code",
   "execution_count": 33,
   "metadata": {},
   "outputs": [
    {
     "data": {
      "text/plain": [
       "<matplotlib.axes._subplots.AxesSubplot at 0x23beb9c1548>"
      ]
     },
     "execution_count": 33,
     "metadata": {},
     "output_type": "execute_result"
    },
    {
     "data": {
      "image/png": "[encoded data removed]",
      "text/plain": [
       "<Figure size 720x432 with 1 Axes>"
      ]
     },
     "metadata": {},
     "output_type": "display_data"
    }
   ],
   "source": [
    "graph=train_df.groupby(['Sex','Fare_group_lower','Survived']).size().unstack()\n",
    "graph.plot(kind='bar')"
   ]
  },
  {
   "cell_type": "code",
   "execution_count": 34,
   "metadata": {},
   "outputs": [
    {
     "data": {
      "text/plain": [
       "<matplotlib.axes._subplots.AxesSubplot at 0x23beccb4648>"
      ]
     },
     "execution_count": 34,
     "metadata": {},
     "output_type": "execute_result"
    },
    {
     "data": {
      "image/png": "[encoded data removed]",
      "text/plain": [
       "<Figure size 720x432 with 1 Axes>"
      ]
     },
     "metadata": {},
     "output_type": "display_data"
    }
   ],
   "source": [
    "graph=train_df.groupby(['Sex','Fare_group_middle','Survived']).size().unstack()\n",
    "graph.plot(kind='bar')"
   ]
  },
  {
   "cell_type": "code",
   "execution_count": 35,
   "metadata": {},
   "outputs": [
    {
     "data": {
      "text/plain": [
       "<matplotlib.axes._subplots.AxesSubplot at 0x23bebc3cf48>"
      ]
     },
     "execution_count": 35,
     "metadata": {},
     "output_type": "execute_result"
    },
    {
     "data": {
      "image/png": "[encoded data removed]",
      "text/plain": [
       "<Figure size 720x432 with 1 Axes>"
      ]
     },
     "metadata": {},
     "output_type": "display_data"
    }
   ],
   "source": [
    "graph=train_df.groupby(['Sex','Fare_group_higher','Survived']).size().unstack()\n",
    "graph.plot(kind='bar')"
   ]
  },
  {
   "cell_type": "markdown",
   "metadata": {},
   "source": [
    "#### Survivors by Embarkment"
   ]
  },
  {
   "cell_type": "code",
   "execution_count": 36,
   "metadata": {},
   "outputs": [
    {
     "data": {
      "text/plain": [
       "<matplotlib.axes._subplots.AxesSubplot at 0x23bebc11448>"
      ]
     },
     "execution_count": 36,
     "metadata": {},
     "output_type": "execute_result"
    },
    {
     "data": {
      "image/png": "[encoded data removed]",
      "text/plain": [
       "<Figure size 720x432 with 1 Axes>"
      ]
     },
     "metadata": {},
     "output_type": "display_data"
    }
   ],
   "source": [
    "graph=train_df.groupby(['Embarked','Survived']).size().unstack()\n",
    "graph.plot(kind='bar')"
   ]
  },
  {
   "cell_type": "markdown",
   "metadata": {},
   "source": [
    "# Conclusions on data visualization"
   ]
  },
  {
   "cell_type": "code",
   "execution_count": 38,
   "metadata": {},
   "outputs": [
    {
     "data": {
      "text/plain": [
       "Survived    1.000000\n",
       "Pclass     -0.338481\n",
       "Age        -0.077221\n",
       "SibSp      -0.035322\n",
       "Parch       0.081629\n",
       "Fare        0.257307\n",
       "Name: Survived, dtype: float64"
      ]
     },
     "execution_count": 38,
     "metadata": {},
     "output_type": "execute_result"
    }
   ],
   "source": [
    "train_df.corr()['Survived']\n",
    "# For technical reference only; it doesn´t have much to offer in this context"
   ]
  },
  {
   "cell_type": "code",
   "execution_count": 39,
   "metadata": {},
   "outputs": [],
   "source": [
    "# Ratios\n",
    "\n",
    "# Sex survival ratio  --> Could use too:  df[['Sex', 'Survived']].groupby('Sex', as_index=False).mean()\n",
    "sex_ratio = train_df.groupby(\"Sex\")['Survived'].mean()\n",
    "# female    0.742038 --> 74% of females survived\n",
    "# male      0.188908 --> 19% of males survived\n",
    "\n",
    "# Title survival ratio\n",
    "title_ratio = train_df[['Title','Survived']].groupby('Title').mean().sort_values('Survived', ascending=False)\n",
    "# Mrs      0.788991 --> 79%\n",
    "# Miss     0.724832 --> 72%\n",
    "# Master   0.583333 --> 58%\n",
    "# other    0.363636 --> 36%\n",
    "# Mr       0.168342 --> 17%\n",
    "\n",
    "# Class survival ratio  --> Could use too: df[['Pclass','Survived']].groupby('Pclass', as_index=False).mean()\n",
    "class_ratio = train_df.groupby(\"Pclass\")['Survived'].mean()\n",
    "# 1    0.629630 --> 63% of first class survived\n",
    "# 2    0.472826 --> 47% of second class survived\n",
    "# 3    0.242363 --> 24% of third class survived\n",
    "\n",
    "# Number of Sibling/Spouse survival ratio\n",
    "sibsp_ratio = train_df[['SibSp', 'Survived']].groupby('SibSp', as_index=False).mean().sort_values('Survived', ascending=False)\n",
    "# 1    0.535885  --> 53%\n",
    "# 2    0.464286  --> 46%\n",
    "# 0    0.345395  --> 34%\n",
    "# 3    0.250000  --> 25%\n",
    "# 4    0.166667  --> 16%\n",
    "# 5    0.000000  --> 0%\n",
    "# 6    0.000000  --> 0%\n",
    "\n",
    "# Number of Parents/Children survival ratio\n",
    "parch_ratio = train_df[['Parch','Survived']].groupby('Parch', as_index=False).mean().sort_values('Survived', ascending=False)\n",
    "# 3    0.600000  --> 60%\n",
    "# 1    0.550847  --> 55%\n",
    "# 2    0.500000  --> 50%\n",
    "# 5    0.343658  --> 34%\n",
    "# 0    0.200000  --> 20%\n",
    "# 4    0.000000  --> 0%\n",
    "# 6    0.000000  --> 0%\n",
    "\n",
    "# Lower fare survival ratio\n",
    "total_lower = train_df[train_df['Fare_group_lower'].notnull()].size\n",
    "surv_lower = train_df[(train_df['Fare_group_lower'].notnull()) & (df['Survived'] == 1)].size\n",
    "ratio_lower_surv = surv_lower/total_lower  # 31% of lower fare survived\n",
    "# Middle fare survival ratio\n",
    "total_middle = train_df[train_df['Fare_group_middle'].notnull()].size\n",
    "surv_middle = train_df[(train_df['Fare_group_middle'].notnull()) & (df['Survived'] == 1)].size\n",
    "ratio_middle_surv = surv_middle/total_middle  # 56% of middle fare survived\n",
    "# Higher fare survival ratio\n",
    "total_higher = train_df[train_df['Fare_group_higher'].notnull()].size\n",
    "surv_higher = train_df[(train_df['Fare_group_higher'].notnull()) & (df['Survived'] == 1)].size\n",
    "ratio_higher_surv = surv_higher/total_higher  # 65% of higher fare survived\n",
    "\n",
    "# Age survival ratio\n",
    "total = train_df.groupby(\"Age_group\")['Survived'].mean()\n",
    "# (-0.001, 10.0]    0.593750 --> 59%\n",
    "# (30.0, 40.0]      0.445161 --> 44%\n",
    "# (50.0, 60.0]      0.404762 --> 40%\n",
    "# (40.0, 50.0]      0.383721 --> 38%\n",
    "# (10.0, 20.0]      0.382609 --> 38%\n",
    "# (20.0, 30.0]      0.365217 --> 36%\n",
    "# (60.0, 70.0]      0.235294 --> 23%\n",
    "# (70.0, 80.0]      0.200000 --> 20%\n",
    "\n",
    "# Embarkment survival ratio  --> Could use too: \n",
    "# df[['Embarked','Survived']].groupby('Embarked', as_index=False).mean().sort_values('Survived', ascending=False)\n",
    "total = train_df.groupby(\"Embarked\")['Survived'].mean()\n",
    "# Cherbourg        0.607692 --> 60%\n",
    "# Southampton      0.362816 --> 36%\n",
    "# Queenstown       0.285714 --> 28%"
   ]
  },
  {
   "cell_type": "markdown",
   "metadata": {},
   "source": [
    "#### Conclusions:\n",
    "\n",
    "- A male that payed a lower fare for a class 3 has very low probabilities to survive.\n",
    "- A female that payed a higher fare for a class 1 has very high probabilities to survive.\n",
    "- Its more probable for a female to survive; the contrary is for a male.\n",
    "- Its more probable for a class 1 passeger to survive than a class 2, and even more than a class 3.\n",
    "- Its more probable for someone that payed a higher fare survives than some that payed a middle or, even more, a lower fare.\n",
    "- Children have high probabilities to survive; the elder people have very low chances to survive.\n",
    "- Middle aged men have very low probabilities to survive. Middle aged women have very high probabilities to survive.\n",
    "- People that embarked in Southampton and Queenstown has low probabilities to survive.\n",
    "- Passangers with lesser SibSp have a higher survival rate\n",
    "- SibSp and Parch have zero correlation for certain values\n"
   ]
  },
  {
   "cell_type": "markdown",
   "metadata": {},
   "source": [
    "# Feature Engineering\n",
    "#### Preparing data for machine learning"
   ]
  },
  {
   "cell_type": "code",
   "execution_count": null,
   "metadata": {},
   "outputs": [],
   "source": [
    "# Changing boolean to int of 'Survived'\n",
    "for df in [train_df, test_df]:\n",
    "    df['Survived'] = df['Survived'].map({True: 1, False: 0})"
   ]
  },
  {
   "cell_type": "code",
   "execution_count": 40,
   "metadata": {},
   "outputs": [],
   "source": [
    "# Changing string to int of 'Sex'\n",
    "for df in [train_df, test_df]:\n",
    "    df['Sex'] = df['Sex'].map({'male': 1, 'female': 0})"
   ]
  },
  {
   "cell_type": "code",
   "execution_count": 41,
   "metadata": {},
   "outputs": [
    {
     "name": "stdout",
     "output_type": "stream",
     "text": [
      "Number of age entries missing for title Miss: 36\n",
      "Number of age entries missing for title Mr: 119\n",
      "Number of age entries missing for title Mrs: 17\n",
      "Number of age entries missing for title other: 1\n",
      "Number of age entries missing for title Master: 4\n"
     ]
    }
   ],
   "source": [
    "print('Number of age entries missing for title Miss:', train_df[train_df['Title'] == 'Miss']['Age'].isnull().sum())\n",
    "print('Number of age entries missing for title Mr:', train_df[train_df['Title'] == 'Mr']['Age'].isnull().sum())\n",
    "print('Number of age entries missing for title Mrs:', train_df[train_df['Title'] == 'Mrs']['Age'].isnull().sum())\n",
    "print('Number of age entries missing for title other:', train_df[train_df['Title'] == 'other']['Age'].isnull().sum())\n",
    "print('Number of age entries missing for title Master:', train_df[train_df['Title'] == 'Master']['Age'].isnull().sum())"
   ]
  },
  {
   "cell_type": "code",
   "execution_count": 42,
   "metadata": {},
   "outputs": [
    {
     "name": "stdout",
     "output_type": "stream",
     "text": [
      "Mean age for title Miss: 21.845637583892618\n",
      "Mean age for title Mr: 32.368090452261306\n",
      "Mean age for title Mrs: 35.788990825688074\n",
      "Mean age for title other: 45.54545454545455\n",
      "Mean age for title Master: 4.574166666666667\n"
     ]
    }
   ],
   "source": [
    "print('Mean age for title Miss:', train_df[train_df['Title'] == 'Miss']['Age'].mean())\n",
    "print('Mean age for title Mr:', train_df[train_df['Title'] == 'Mr']['Age'].mean())\n",
    "print('Mean age for title Mrs:', train_df[train_df['Title'] == 'Mrs']['Age'].mean())\n",
    "print('Mean age for title other:', train_df[train_df['Title'] == 'other']['Age'].mean())\n",
    "print('Mean age for title Master:', train_df[train_df['Title'] == 'Master']['Age'].mean())"
   ]
  },
  {
   "cell_type": "code",
   "execution_count": 43,
   "metadata": {},
   "outputs": [],
   "source": [
    "for df in [train_df, test_df]:\n",
    "    df.loc[(df['Title']== 'Miss') & (df['Age'].isnull()), 'Age'] = 22\n",
    "    df.loc[(df['Title']== 'Mr') & (df['Age'].isnull()), 'Age'] = 32\n",
    "    df.loc[(df['Title']== 'Mrs') & (df['Age'].isnull()), 'Age'] = 36\n",
    "    df.loc[(df['Title']== 'other') & (df['Age'].isnull()), 'Age'] = 46\n",
    "    df.loc[(df['Title']== 'Master') & (df['Age'].isnull()), 'Age'] = 5"
   ]
  },
  {
   "cell_type": "code",
   "execution_count": 44,
   "metadata": {},
   "outputs": [],
   "source": [
    "# Mrs      79% --> 0\n",
    "# Miss     72% --> 1\n",
    "# Master   58% --> 2\n",
    "# other    36% --> 3\n",
    "# Mr   17% --> 4\n",
    "\n",
    "for df in [train_df, test_df]:\n",
    "    df['Title'] = df['Title'].map({'Mrs': 0, 'Miss': 1, 'Master': 2, 'other': 3, 'Mr': 4})"
   ]
  },
  {
   "cell_type": "code",
   "execution_count": 45,
   "metadata": {},
   "outputs": [],
   "source": [
    "# Changing string values of 'Embarked' column for int ones by survival rate\n",
    "# Cherbourg        60% --> 0\n",
    "# Southampton      36% --> 1\n",
    "# Queenstown       28% --> 2\n",
    "\n",
    "for df in [train_df, test_df]:\n",
    "    df['Embarked'] = df['Embarked'].fillna('Southampton')\n",
    "    df['Embarked'].replace({'Cherbourg': 0, 'Queenstown': 2, 'Southampton': 1}, inplace=True)\n"
   ]
  },
  {
   "cell_type": "code",
   "execution_count": 46,
   "metadata": {},
   "outputs": [],
   "source": [
    "# (-0.001, 10.0]    0.593750 --> Asigned: 0\n",
    "# (30.0, 40.0]      0.445161 --> Asigned: 1\n",
    "# (50.0, 60.0]      0.404762 --> Asigned: 2\n",
    "# (40.0, 50.0]      0.383721 --> Asigned: 3\n",
    "# (10.0, 20.0]      0.382609 --> Asigned: 4\n",
    "# (20.0, 30.0]      0.365217 --> Asigned: 5\n",
    "# (60.0, 70.0]      0.235294 --> Asigned: 6\n",
    "# (70.0, 80.0]      0.200000 --> Asigned: 7\n",
    "\n",
    "for df in [train_df, test_df]:\n",
    "    df.loc[df['Age'] > 70, 'Age'] = 7\n",
    "    df.loc[(df['Age'] > 60) & (df['Age'] <= 70), 'Age'] = 6\n",
    "    df.loc[(df['Age'] > 50) & (df['Age'] <= 60), 'Age'] = 2\n",
    "    df.loc[(df['Age'] > 40) & (df['Age'] <= 50), 'Age'] = 3\n",
    "    df.loc[(df['Age'] > 30) & (df['Age'] <= 40), 'Age'] = 1\n",
    "    df.loc[(df['Age'] > 20) & (df['Age'] <= 30), 'Age'] = 5\n",
    "    df.loc[(df['Age'] > 10) & (df['Age'] <= 20), 'Age'] = 4\n",
    "    df.loc[(df['Age'] >= 0) & (df['Age'] <= 10), 'Age'] = 0"
   ]
  },
  {
   "cell_type": "code",
   "execution_count": 47,
   "metadata": {},
   "outputs": [],
   "source": [
    "#test_df[test_df['Fare'].isnull()]\n",
    "# train_df[train_df['Pclass'] == 3]['Fare'].mean() --> 13.675550101832997\n",
    "\n",
    "# 65% of higher fare (150, 551] survived --> Asigned: 0\n",
    "# 56% of middle fare (30, 150] survived --> Asigned: 1\n",
    "# 31% of lower fare (0, 30] survived --> Asigned: 2\n",
    "\n",
    "for df in [train_df, test_df]:\n",
    "    df['Fare'] = df['Fare'].fillna(14)\n",
    "    df.loc[(df['Fare'] > 150), 'Fare'] = 0\n",
    "    df.loc[(df['Fare'] > 30) & (df['Fare'] <= 150), 'Fare'] = 1\n",
    "    df.loc[(df['Fare'] >= 0) & (df['Fare'] <= 30), 'Fare'] = 0"
   ]
  },
  {
   "cell_type": "code",
   "execution_count": 48,
   "metadata": {},
   "outputs": [],
   "source": [
    "for df in [train_df, test_df]:\n",
    "    df['FamilySize'] = df['SibSp'] + df['Parch'] + 1\n",
    "# The logic adding adding 1 is for solo passengers that don't have any siblings/spouses or parents/children. \n",
    "# This feature takes care of all the information in the features SibSp and Parch"
   ]
  },
  {
   "cell_type": "markdown",
   "metadata": {},
   "source": [
    "#### Getting features, target, and dummies"
   ]
  },
  {
   "cell_type": "code",
   "execution_count": 49,
   "metadata": {},
   "outputs": [],
   "source": [
    "features = ['Pclass', 'Sex', 'Age', 'Fare', 'Embarked', 'Title', 'FamilySize']\n",
    "\n",
    "# Separating features and target\n",
    "X = train_df[features]\n",
    "y = train_df['Survived']\n",
    "\n",
    "test_df = test_df[features]"
   ]
  },
  {
   "cell_type": "code",
   "execution_count": 50,
   "metadata": {},
   "outputs": [],
   "source": [
    "# Creating dummies for all features\n",
    "dummy_cols = ['Pclass','Sex', 'Age',  'Fare', 'Embarked', 'Title', 'FamilySize']\n",
    "prefix_cats = ['pcl', 'sex', 'age', 'fare', 'emb', 'title', 'fsize']\n",
    "\n",
    "X = train_pd.get_dummies(X, columns=dummy_cols, prefix=prefix_cats, drop_first=True)\n",
    "test_df = test_pd.get_dummies(test_df, columns=dummy_cols, prefix=prefix_cats, drop_first=True)"
   ]
  },
  {
   "cell_type": "code",
   "execution_count": 51,
   "metadata": {},
   "outputs": [
    {
     "data": {
      "text/html": [
       "<div>\n",
       "<style scoped>\n",
       "    .dataframe tbody tr th:only-of-type {\n",
       "        vertical-align: middle;\n",
       "    }\n",
       "\n",
       "    .dataframe tbody tr th {\n",
       "        vertical-align: top;\n",
       "    }\n",
       "\n",
       "    .dataframe thead th {\n",
       "        text-align: right;\n",
       "    }\n",
       "</style>\n",
       "<table border=\"1\" class=\"dataframe\">\n",
       "  <thead>\n",
       "    <tr style=\"text-align: right;\">\n",
       "      <th></th>\n",
       "      <th>pcl_2</th>\n",
       "      <th>pcl_3</th>\n",
       "      <th>sex_1</th>\n",
       "      <th>emb_1</th>\n",
       "      <th>emb_2</th>\n",
       "      <th>title_1</th>\n",
       "      <th>title_2</th>\n",
       "      <th>title_3</th>\n",
       "      <th>title_4</th>\n",
       "      <th>fsize_2</th>\n",
       "      <th>fsize_3</th>\n",
       "      <th>fsize_4</th>\n",
       "      <th>fsize_5</th>\n",
       "      <th>fsize_6</th>\n",
       "      <th>fsize_7</th>\n",
       "      <th>fsize_8</th>\n",
       "      <th>fsize_11</th>\n",
       "    </tr>\n",
       "    <tr>\n",
       "      <th>PassengerId</th>\n",
       "      <th></th>\n",
       "      <th></th>\n",
       "      <th></th>\n",
       "      <th></th>\n",
       "      <th></th>\n",
       "      <th></th>\n",
       "      <th></th>\n",
       "      <th></th>\n",
       "      <th></th>\n",
       "      <th></th>\n",
       "      <th></th>\n",
       "      <th></th>\n",
       "      <th></th>\n",
       "      <th></th>\n",
       "      <th></th>\n",
       "      <th></th>\n",
       "      <th></th>\n",
       "    </tr>\n",
       "  </thead>\n",
       "  <tbody>\n",
       "    <tr>\n",
       "      <th>1</th>\n",
       "      <td>0</td>\n",
       "      <td>1</td>\n",
       "      <td>1</td>\n",
       "      <td>1</td>\n",
       "      <td>0</td>\n",
       "      <td>0</td>\n",
       "      <td>0</td>\n",
       "      <td>0</td>\n",
       "      <td>1</td>\n",
       "      <td>1</td>\n",
       "      <td>0</td>\n",
       "      <td>0</td>\n",
       "      <td>0</td>\n",
       "      <td>0</td>\n",
       "      <td>0</td>\n",
       "      <td>0</td>\n",
       "      <td>0</td>\n",
       "    </tr>\n",
       "    <tr>\n",
       "      <th>2</th>\n",
       "      <td>0</td>\n",
       "      <td>0</td>\n",
       "      <td>0</td>\n",
       "      <td>0</td>\n",
       "      <td>0</td>\n",
       "      <td>0</td>\n",
       "      <td>0</td>\n",
       "      <td>0</td>\n",
       "      <td>0</td>\n",
       "      <td>1</td>\n",
       "      <td>0</td>\n",
       "      <td>0</td>\n",
       "      <td>0</td>\n",
       "      <td>0</td>\n",
       "      <td>0</td>\n",
       "      <td>0</td>\n",
       "      <td>0</td>\n",
       "    </tr>\n",
       "    <tr>\n",
       "      <th>3</th>\n",
       "      <td>0</td>\n",
       "      <td>1</td>\n",
       "      <td>0</td>\n",
       "      <td>1</td>\n",
       "      <td>0</td>\n",
       "      <td>1</td>\n",
       "      <td>0</td>\n",
       "      <td>0</td>\n",
       "      <td>0</td>\n",
       "      <td>0</td>\n",
       "      <td>0</td>\n",
       "      <td>0</td>\n",
       "      <td>0</td>\n",
       "      <td>0</td>\n",
       "      <td>0</td>\n",
       "      <td>0</td>\n",
       "      <td>0</td>\n",
       "    </tr>\n",
       "    <tr>\n",
       "      <th>4</th>\n",
       "      <td>0</td>\n",
       "      <td>0</td>\n",
       "      <td>0</td>\n",
       "      <td>1</td>\n",
       "      <td>0</td>\n",
       "      <td>0</td>\n",
       "      <td>0</td>\n",
       "      <td>0</td>\n",
       "      <td>0</td>\n",
       "      <td>1</td>\n",
       "      <td>0</td>\n",
       "      <td>0</td>\n",
       "      <td>0</td>\n",
       "      <td>0</td>\n",
       "      <td>0</td>\n",
       "      <td>0</td>\n",
       "      <td>0</td>\n",
       "    </tr>\n",
       "    <tr>\n",
       "      <th>5</th>\n",
       "      <td>0</td>\n",
       "      <td>1</td>\n",
       "      <td>1</td>\n",
       "      <td>1</td>\n",
       "      <td>0</td>\n",
       "      <td>0</td>\n",
       "      <td>0</td>\n",
       "      <td>0</td>\n",
       "      <td>1</td>\n",
       "      <td>0</td>\n",
       "      <td>0</td>\n",
       "      <td>0</td>\n",
       "      <td>0</td>\n",
       "      <td>0</td>\n",
       "      <td>0</td>\n",
       "      <td>0</td>\n",
       "      <td>0</td>\n",
       "    </tr>\n",
       "  </tbody>\n",
       "</table>\n",
       "</div>"
      ],
      "text/plain": [
       "             pcl_2  pcl_3  sex_1  emb_1  emb_2  title_1  title_2  title_3  \\\n",
       "PassengerId                                                                 \n",
       "1                0      1      1      1      0        0        0        0   \n",
       "2                0      0      0      0      0        0        0        0   \n",
       "3                0      1      0      1      0        1        0        0   \n",
       "4                0      0      0      1      0        0        0        0   \n",
       "5                0      1      1      1      0        0        0        0   \n",
       "\n",
       "             title_4  fsize_2  fsize_3  fsize_4  fsize_5  fsize_6  fsize_7  \\\n",
       "PassengerId                                                                  \n",
       "1                  1        1        0        0        0        0        0   \n",
       "2                  0        1        0        0        0        0        0   \n",
       "3                  0        0        0        0        0        0        0   \n",
       "4                  0        1        0        0        0        0        0   \n",
       "5                  1        0        0        0        0        0        0   \n",
       "\n",
       "             fsize_8  fsize_11  \n",
       "PassengerId                     \n",
       "1                  0         0  \n",
       "2                  0         0  \n",
       "3                  0         0  \n",
       "4                  0         0  \n",
       "5                  0         0  "
      ]
     },
     "execution_count": 51,
     "metadata": {},
     "output_type": "execute_result"
    }
   ],
   "source": [
    "X.head()"
   ]
  },
  {
   "cell_type": "code",
   "execution_count": 66,
   "metadata": {},
   "outputs": [],
   "source": [
    "# from sklearn.model_selection import train_test_split\n",
    "# from sklearn.preprocessing import StandardScaler\n",
    "\n",
    "# X_train, X_test, y_train, y_test = train_test_split(X, y, test_size=0.20, random_state=0)\n",
    "\n",
    "# sc_X = StandardScaler()\n",
    "# X_train = sc_X.fit_transform(X_train)\n",
    "# X_test = sc_X.transform(X_test)"
   ]
  },
  {
   "cell_type": "markdown",
   "metadata": {},
   "source": [
    "# Machine Learning Models"
   ]
  },
  {
   "cell_type": "code",
   "execution_count": 67,
   "metadata": {},
   "outputs": [],
   "source": [
    "from sklearn.pipeline import Pipeline\n",
    "from sklearn.preprocessing import OneHotEncoder\n",
    "from sklearn.impute import SimpleImputer\n",
    "from sklearn.compose import ColumnTransformer\n",
    "from sklearn.metrics import mean_squared_error, accuracy_score\n",
    "from sklearn.model_selection import cross_val_score, cross_val_predict, GridSearchCV"
   ]
  },
  {
   "cell_type": "code",
   "execution_count": 68,
   "metadata": {},
   "outputs": [],
   "source": [
    "from sklearn.linear_model import LogisticRegression\n",
    "from sklearn.linear_model import SGDClassifier\n",
    "from sklearn.svm import SVC\n",
    "from sklearn.tree import DecisionTreeClassifier\n",
    "from sklearn.ensemble import RandomForestClassifier\n",
    "from sklearn.ensemble import ExtraTreesClassifier\n",
    "from sklearn.ensemble import GradientBoostingClassifier"
   ]
  },
  {
   "cell_type": "markdown",
   "metadata": {},
   "source": [
    "### Initialize all the predictors and fit the training data"
   ]
  },
  {
   "cell_type": "code",
   "execution_count": 69,
   "metadata": {},
   "outputs": [
    {
     "data": {
      "text/plain": [
       "GradientBoostingClassifier(ccp_alpha=0.0, criterion='friedman_mse', init=None,\n",
       "                           learning_rate=0.1, loss='deviance', max_depth=3,\n",
       "                           max_features=None, max_leaf_nodes=None,\n",
       "                           min_impurity_decrease=0.0, min_impurity_split=None,\n",
       "                           min_samples_leaf=1, min_samples_split=2,\n",
       "                           min_weight_fraction_leaf=0.0, n_estimators=100,\n",
       "                           n_iter_no_change=None, presort='deprecated',\n",
       "                           random_state=42, subsample=1.0, tol=0.0001,\n",
       "                           validation_fraction=0.1, verbose=0,\n",
       "                           warm_start=False)"
      ]
     },
     "execution_count": 69,
     "metadata": {},
     "output_type": "execute_result"
    }
   ],
   "source": [
    "# Logistic Regression\n",
    "log_clf = LogisticRegression(random_state=42)\n",
    "log_clf.fit(X, y)\n",
    "\n",
    "# SGDClassifier: Linear classifiers (SVM, logistic regression, a.o.) with SGD training.\n",
    "sgd_clf = SGDClassifier(random_state=42)\n",
    "sgd_clf.fit(X, y)\n",
    "\n",
    "# Support Vector Machine\n",
    "svc_clf = SVC(random_state=42)\n",
    "svc_clf.fit(X, y)\n",
    "\n",
    "# Decision Tree\n",
    "tree_clf = DecisionTreeClassifier(random_state=42)\n",
    "tree_clf.fit(X, y)\n",
    "\n",
    "# Random Forest\n",
    "forest_clf = RandomForestClassifier(random_state=42)\n",
    "forest_clf.fit(X, y)\n",
    "\n",
    "# Extra Trees\n",
    "extra_clf = ExtraTreesClassifier(random_state=42)\n",
    "extra_clf.fit(X, y)\n",
    "\n",
    "# Gradient Booster\n",
    "gb_clf = GradientBoostingClassifier(random_state=42)\n",
    "gb_clf.fit(X, y)"
   ]
  },
  {
   "cell_type": "markdown",
   "metadata": {},
   "source": [
    "### Cross_val_predict and generate accuracy scores for all the predictors"
   ]
  },
  {
   "cell_type": "code",
   "execution_count": 70,
   "metadata": {},
   "outputs": [],
   "source": [
    "# Logistic Regression\n",
    "log_preds = cross_val_predict(estimator=log_clf, X=X, y=y, cv=10)\n",
    "log_acc = accuracy_score(y, log_preds)\n",
    "\n",
    "# SGDClassifier\n",
    "sgd_preds = cross_val_predict(estimator = sgd_clf, X=X, y=y, cv=10)\n",
    "sgd_acc = accuracy_score(y, sgd_preds)\n",
    "\n",
    "# Support Vector Machine\n",
    "svc_preds = cross_val_predict(estimator = svc_clf, X=X, y=y, cv=10)\n",
    "svc_acc = accuracy_score(y, svc_preds)\n",
    "\n",
    "# Decision Tree\n",
    "tree_preds = cross_val_predict(estimator = tree_clf, X=X, y=y, cv=10)\n",
    "tree_acc = accuracy_score(y, tree_preds)\n",
    "\n",
    "# Random Forest\n",
    "forest_preds = cross_val_predict(estimator = forest_clf, X=X, y=y, cv=10)\n",
    "forest_acc = accuracy_score(y, forest_preds)\n",
    "\n",
    "# Extra Trees\n",
    "extra_preds = cross_val_predict(estimator = extra_clf, X=X, y=y, cv=10)\n",
    "extra_acc = accuracy_score(y, extra_preds)\n",
    "\n",
    "# Gradient Booster\n",
    "gb_preds = cross_val_predict(estimator = gb_clf, X=X, y=y, cv=10)\n",
    "gb_acc = accuracy_score(y, gb_preds)\n",
    "\n",
    "print('log_clf', log_acc)\n",
    "print('sgd_clf', sgd_acc)\n",
    "print('svc_clf', svc_acc)\n",
    "print('tree_clf', tree_acc)\n",
    "print('forest_clf', forest_acc)\n",
    "print('extra_clf', extra_acc)\n",
    "print('gb_clf', gb_acc)"
   ]
  },
  {
   "cell_type": "markdown",
   "metadata": {},
   "source": [
    "### Hyperparameter tuning"
   ]
  },
  {
   "cell_type": "markdown",
   "metadata": {},
   "source": [
    "#### Generating paramater grids for predictors"
   ]
  },
  {
   "cell_type": "code",
   "execution_count": 72,
   "metadata": {},
   "outputs": [],
   "source": [
    "# Logistic Regression\n",
    "log_param = [\n",
    "    {#'penalty':['l1', 'l2', 'elasticnet'],\n",
    "    'C':[0.001, 0.01, 0.1, 1.0, 10.0]\n",
    "    }\n",
    "]\n",
    "\n",
    "# SGDClassifier\n",
    "sgd_param = [\n",
    "    {'alpha':[0.00001, 0.0001, 0.001, 0.01, 0.1, 1.0, 10.0, 100.0],\n",
    "    #'penalty':['l1', 'l2', 'elasticnet']\n",
    "    }\n",
    "]\n",
    "\n",
    "# Support Vector Machine\n",
    "svc_param = [\n",
    "    {'C':[0.001, 0.01, 0.1, 1.0, 10.0],\n",
    "    'gamma':[0.001, 0.01, 0.1, 1.0],\n",
    "    'kernel':['rbf', 'sigmoid']}\n",
    "]\n",
    "\n",
    "# Decision Tree\n",
    "tree_param = [\n",
    "    {'max_depth':[2,4,8,12,16,20,30],\n",
    "    'min_samples_split':[2,4,6,8,10],\n",
    "    'min_samples_leaf':[2,4,6,8,10]\n",
    "    }\n",
    "]\n",
    "\n",
    "# Random Forest\n",
    "forest_param = [\n",
    "    {'max_depth':[2,4,8,12,16,20],\n",
    "    'min_samples_split':[2,4,6,8,10],\n",
    "    'min_samples_leaf':[2,4,6,8,10],\n",
    "    'n_estimators':[100,200,300]}\n",
    "]\n",
    "\n",
    "# Extra Trees\n",
    "extra_param = [\n",
    "    {'max_depth':[2,4,8,12,16,20,30],\n",
    "    'min_samples_split':[2,4,6,8,10],\n",
    "    'min_samples_leaf':[2,4,6,8,10]}\n",
    "]\n",
    "\n",
    "# Gradient Booster\n",
    "gb_param = [\n",
    "    {'max_depth':[2,8,16,20],\n",
    "    'min_samples_split':[2,4,6,10],\n",
    "    'min_samples_leaf':[2,4,6,10],\n",
    "    'learning_rate':[0.01, 0.05, 0.1],\n",
    "    'n_estimators':[100,200,300],\n",
    "    'subsample':[0.5, 0.8, 1.0]}\n",
    "]"
   ]
  },
  {
   "cell_type": "markdown",
   "metadata": {},
   "source": [
    "#### Initialize GridSearchCV and store best estimator"
   ]
  },
  {
   "cell_type": "code",
   "execution_count": 73,
   "metadata": {},
   "outputs": [
    {
     "data": {
      "text/plain": [
       "GridSearchCV(cv=5, error_score=nan,\n",
       "             estimator=LogisticRegression(C=1.0, class_weight=None, dual=False,\n",
       "                                          fit_intercept=True,\n",
       "                                          intercept_scaling=1, l1_ratio=None,\n",
       "                                          max_iter=100, multi_class='auto',\n",
       "                                          n_jobs=None, penalty='l2',\n",
       "                                          random_state=42, solver='lbfgs',\n",
       "                                          tol=0.0001, verbose=0,\n",
       "                                          warm_start=False),\n",
       "             iid='deprecated', n_jobs=None,\n",
       "             param_grid=[{'C': [0.001, 0.01, 0.1, 1.0, 10.0]}],\n",
       "             pre_dispatch='2*n_jobs', refit=True, return_train_score=False,\n",
       "             scoring=None, verbose=0)"
      ]
     },
     "execution_count": 73,
     "metadata": {},
     "output_type": "execute_result"
    }
   ],
   "source": [
    "# Logistic Regression\n",
    "log_grid = GridSearchCV(log_clf, log_param, cv=5)\n",
    "log_grid.fit(X, y)\n",
    "log_best = log_grid.best_estimator_"
   ]
  },
  {
   "cell_type": "code",
   "execution_count": 75,
   "metadata": {},
   "outputs": [
    {
     "data": {
      "text/plain": [
       "GridSearchCV(cv=5, error_score=nan,\n",
       "             estimator=SGDClassifier(alpha=0.0001, average=False,\n",
       "                                     class_weight=None, early_stopping=False,\n",
       "                                     epsilon=0.1, eta0=0.0, fit_intercept=True,\n",
       "                                     l1_ratio=0.15, learning_rate='optimal',\n",
       "                                     loss='hinge', max_iter=1000,\n",
       "                                     n_iter_no_change=5, n_jobs=None,\n",
       "                                     penalty='l2', power_t=0.5, random_state=42,\n",
       "                                     shuffle=True, tol=0.001,\n",
       "                                     validation_fraction=0.1, verbose=0,\n",
       "                                     warm_start=False),\n",
       "             iid='deprecated', n_jobs=None,\n",
       "             param_grid=[{'alpha': [1e-05, 0.0001, 0.001, 0.01, 0.1, 1.0, 10.0,\n",
       "                                    100.0]}],\n",
       "             pre_dispatch='2*n_jobs', refit=True, return_train_score=False,\n",
       "             scoring=None, verbose=0)"
      ]
     },
     "execution_count": 75,
     "metadata": {},
     "output_type": "execute_result"
    }
   ],
   "source": [
    "# SGDClassifier\n",
    "sgd_grid = GridSearchCV(sgd_clf, sgd_param, cv=5)\n",
    "sgd_grid.fit(X, y)\n",
    "sgd_best = sgd_grid.best_estimator_"
   ]
  },
  {
   "cell_type": "code",
   "execution_count": 77,
   "metadata": {},
   "outputs": [
    {
     "data": {
      "text/plain": [
       "GridSearchCV(cv=5, error_score=nan,\n",
       "             estimator=SVC(C=1.0, break_ties=False, cache_size=200,\n",
       "                           class_weight=None, coef0=0.0,\n",
       "                           decision_function_shape='ovr', degree=3,\n",
       "                           gamma='scale', kernel='rbf', max_iter=-1,\n",
       "                           probability=False, random_state=42, shrinking=True,\n",
       "                           tol=0.001, verbose=False),\n",
       "             iid='deprecated', n_jobs=None,\n",
       "             param_grid=[{'C': [0.001, 0.01, 0.1, 1.0, 10.0],\n",
       "                          'gamma': [0.001, 0.01, 0.1, 1.0],\n",
       "                          'kernel': ['rbf', 'sigmoid']}],\n",
       "             pre_dispatch='2*n_jobs', refit=True, return_train_score=False,\n",
       "             scoring=None, verbose=0)"
      ]
     },
     "execution_count": 77,
     "metadata": {},
     "output_type": "execute_result"
    }
   ],
   "source": [
    "# Support Vector Machine\n",
    "svc_grid = GridSearchCV(svc_clf, svc_param, cv=5)\n",
    "svc_grid.fit(X, y)\n",
    "svc_best = svc_grid.best_estimator_"
   ]
  },
  {
   "cell_type": "code",
   "execution_count": 79,
   "metadata": {},
   "outputs": [
    {
     "data": {
      "text/plain": [
       "GridSearchCV(cv=5, error_score=nan,\n",
       "             estimator=DecisionTreeClassifier(ccp_alpha=0.0, class_weight=None,\n",
       "                                              criterion='gini', max_depth=None,\n",
       "                                              max_features=None,\n",
       "                                              max_leaf_nodes=None,\n",
       "                                              min_impurity_decrease=0.0,\n",
       "                                              min_impurity_split=None,\n",
       "                                              min_samples_leaf=1,\n",
       "                                              min_samples_split=2,\n",
       "                                              min_weight_fraction_leaf=0.0,\n",
       "                                              presort='deprecated',\n",
       "                                              random_state=42,\n",
       "                                              splitter='best'),\n",
       "             iid='deprecated', n_jobs=None,\n",
       "             param_grid=[{'max_depth': [2, 4, 8, 12, 16, 20, 30],\n",
       "                          'min_samples_leaf': [2, 4, 6, 8, 10],\n",
       "                          'min_samples_split': [2, 4, 6, 8, 10]}],\n",
       "             pre_dispatch='2*n_jobs', refit=True, return_train_score=False,\n",
       "             scoring=None, verbose=0)"
      ]
     },
     "execution_count": 79,
     "metadata": {},
     "output_type": "execute_result"
    }
   ],
   "source": [
    "# Decision Tree\n",
    "tree_grid = GridSearchCV(tree_clf, tree_param, cv=5)\n",
    "tree_grid.fit(X, y)\n",
    "tree_best = tree_grid.best_estimator_"
   ]
  },
  {
   "cell_type": "code",
   "execution_count": 81,
   "metadata": {},
   "outputs": [
    {
     "name": "stdout",
     "output_type": "stream",
     "text": [
      "Fitting 5 folds for each of 450 candidates, totalling 2250 fits\n"
     ]
    },
    {
     "name": "stderr",
     "output_type": "stream",
     "text": [
      "[Parallel(n_jobs=-1)]: Using backend LokyBackend with 4 concurrent workers.\n",
      "[Parallel(n_jobs=-1)]: Done  42 tasks      | elapsed:   12.5s\n",
      "[Parallel(n_jobs=-1)]: Done 192 tasks      | elapsed:   43.4s\n",
      "[Parallel(n_jobs=-1)]: Done 442 tasks      | elapsed:  1.6min\n",
      "[Parallel(n_jobs=-1)]: Done 792 tasks      | elapsed:  3.1min\n",
      "[Parallel(n_jobs=-1)]: Done 1242 tasks      | elapsed:  5.2min\n",
      "[Parallel(n_jobs=-1)]: Done 1792 tasks      | elapsed:  7.5min\n",
      "[Parallel(n_jobs=-1)]: Done 2250 out of 2250 | elapsed:  9.4min finished\n"
     ]
    },
    {
     "data": {
      "text/plain": [
       "GridSearchCV(cv=5, error_score=nan,\n",
       "             estimator=RandomForestClassifier(bootstrap=True, ccp_alpha=0.0,\n",
       "                                              class_weight=None,\n",
       "                                              criterion='gini', max_depth=None,\n",
       "                                              max_features='auto',\n",
       "                                              max_leaf_nodes=None,\n",
       "                                              max_samples=None,\n",
       "                                              min_impurity_decrease=0.0,\n",
       "                                              min_impurity_split=None,\n",
       "                                              min_samples_leaf=1,\n",
       "                                              min_samples_split=2,\n",
       "                                              min_weight_fraction_leaf=0.0,\n",
       "                                              n_estimators=100, n_jobs=None,\n",
       "                                              oob_score=False, random_state=42,\n",
       "                                              verbose=0, warm_start=False),\n",
       "             iid='deprecated', n_jobs=-1,\n",
       "             param_grid=[{'max_depth': [2, 4, 8, 12, 16, 20],\n",
       "                          'min_samples_leaf': [2, 4, 6, 8, 10],\n",
       "                          'min_samples_split': [2, 4, 6, 8, 10],\n",
       "                          'n_estimators': [100, 200, 300]}],\n",
       "             pre_dispatch='2*n_jobs', refit=True, return_train_score=False,\n",
       "             scoring=None, verbose=1)"
      ]
     },
     "execution_count": 81,
     "metadata": {},
     "output_type": "execute_result"
    }
   ],
   "source": [
    "# Random Forest\n",
    "forest_grid = GridSearchCV(forest_clf, forest_param, cv=5, verbose=1, n_jobs=-1)\n",
    "forest_grid.fit(X, y)\n",
    "forest_best = forest_grid.best_estimator_"
   ]
  },
  {
   "cell_type": "code",
   "execution_count": 83,
   "metadata": {},
   "outputs": [
    {
     "name": "stdout",
     "output_type": "stream",
     "text": [
      "Fitting 5 folds for each of 175 candidates, totalling 875 fits\n"
     ]
    },
    {
     "name": "stderr",
     "output_type": "stream",
     "text": [
      "[Parallel(n_jobs=-1)]: Using backend LokyBackend with 4 concurrent workers.\n",
      "[Parallel(n_jobs=-1)]: Done  42 tasks      | elapsed:    4.0s\n",
      "[Parallel(n_jobs=-1)]: Done 192 tasks      | elapsed:   22.1s\n",
      "[Parallel(n_jobs=-1)]: Done 442 tasks      | elapsed:   45.9s\n",
      "[Parallel(n_jobs=-1)]: Done 792 tasks      | elapsed:  1.3min\n",
      "[Parallel(n_jobs=-1)]: Done 875 out of 875 | elapsed:  1.4min finished\n"
     ]
    },
    {
     "data": {
      "text/plain": [
       "GridSearchCV(cv=5, error_score=nan,\n",
       "             estimator=ExtraTreesClassifier(bootstrap=False, ccp_alpha=0.0,\n",
       "                                            class_weight=None, criterion='gini',\n",
       "                                            max_depth=None, max_features='auto',\n",
       "                                            max_leaf_nodes=None,\n",
       "                                            max_samples=None,\n",
       "                                            min_impurity_decrease=0.0,\n",
       "                                            min_impurity_split=None,\n",
       "                                            min_samples_leaf=1,\n",
       "                                            min_samples_split=2,\n",
       "                                            min_weight_fraction_leaf=0.0,\n",
       "                                            n_estimators=100, n_jobs=None,\n",
       "                                            oob_score=False, random_state=42,\n",
       "                                            verbose=0, warm_start=False),\n",
       "             iid='deprecated', n_jobs=-1,\n",
       "             param_grid=[{'max_depth': [2, 4, 8, 12, 16, 20, 30],\n",
       "                          'min_samples_leaf': [2, 4, 6, 8, 10],\n",
       "                          'min_samples_split': [2, 4, 6, 8, 10]}],\n",
       "             pre_dispatch='2*n_jobs', refit=True, return_train_score=False,\n",
       "             scoring=None, verbose=1)"
      ]
     },
     "execution_count": 83,
     "metadata": {},
     "output_type": "execute_result"
    }
   ],
   "source": [
    "# Extra Trees\n",
    "extra_grid = GridSearchCV(extra_clf, extra_param, cv=5, verbose=1, n_jobs=-1)\n",
    "extra_grid.fit(X, y)\n",
    "extra_best = extra_grid.best_estimator_"
   ]
  },
  {
   "cell_type": "code",
   "execution_count": 85,
   "metadata": {},
   "outputs": [
    {
     "name": "stdout",
     "output_type": "stream",
     "text": [
      "Fitting 5 folds for each of 1728 candidates, totalling 8640 fits\n"
     ]
    },
    {
     "name": "stderr",
     "output_type": "stream",
     "text": [
      "[Parallel(n_jobs=-1)]: Using backend LokyBackend with 4 concurrent workers.\n",
      "[Parallel(n_jobs=-1)]: Done  42 tasks      | elapsed:    3.9s\n",
      "[Parallel(n_jobs=-1)]: Done 192 tasks      | elapsed:   18.3s\n",
      "[Parallel(n_jobs=-1)]: Done 442 tasks      | elapsed:   44.0s\n",
      "[Parallel(n_jobs=-1)]: Done 792 tasks      | elapsed:  1.6min\n",
      "[Parallel(n_jobs=-1)]: Done 1242 tasks      | elapsed:  3.4min\n",
      "[Parallel(n_jobs=-1)]: Done 1792 tasks      | elapsed:  6.2min\n",
      "[Parallel(n_jobs=-1)]: Done 2442 tasks      | elapsed:  9.6min\n",
      "[Parallel(n_jobs=-1)]: Done 3192 tasks      | elapsed: 12.3min\n",
      "[Parallel(n_jobs=-1)]: Done 4042 tasks      | elapsed: 15.6min\n",
      "[Parallel(n_jobs=-1)]: Done 4992 tasks      | elapsed: 20.8min\n",
      "[Parallel(n_jobs=-1)]: Done 6042 tasks      | elapsed: 25.6min\n",
      "[Parallel(n_jobs=-1)]: Done 7192 tasks      | elapsed: 30.0min\n",
      "[Parallel(n_jobs=-1)]: Done 8442 tasks      | elapsed: 37.1min\n",
      "[Parallel(n_jobs=-1)]: Done 8640 out of 8640 | elapsed: 38.0min finished\n"
     ]
    },
    {
     "data": {
      "text/plain": [
       "GridSearchCV(cv=5, error_score=nan,\n",
       "             estimator=GradientBoostingClassifier(ccp_alpha=0.0,\n",
       "                                                  criterion='friedman_mse',\n",
       "                                                  init=None, learning_rate=0.1,\n",
       "                                                  loss='deviance', max_depth=3,\n",
       "                                                  max_features=None,\n",
       "                                                  max_leaf_nodes=None,\n",
       "                                                  min_impurity_decrease=0.0,\n",
       "                                                  min_impurity_split=None,\n",
       "                                                  min_samples_leaf=1,\n",
       "                                                  min_samples_split=2,\n",
       "                                                  min_weight_fraction_leaf=0.0,\n",
       "                                                  n_estimators=100,\n",
       "                                                  n_iter_no_c...\n",
       "                                                  subsample=1.0, tol=0.0001,\n",
       "                                                  validation_fraction=0.1,\n",
       "                                                  verbose=0, warm_start=False),\n",
       "             iid='deprecated', n_jobs=-1,\n",
       "             param_grid=[{'learning_rate': [0.01, 0.05, 0.1],\n",
       "                          'max_depth': [2, 8, 16, 20],\n",
       "                          'min_samples_leaf': [2, 4, 6, 10],\n",
       "                          'min_samples_split': [2, 4, 6, 10],\n",
       "                          'n_estimators': [100, 200, 300],\n",
       "                          'subsample': [0.5, 0.8, 1.0]}],\n",
       "             pre_dispatch='2*n_jobs', refit=True, return_train_score=False,\n",
       "             scoring=None, verbose=1)"
      ]
     },
     "execution_count": 85,
     "metadata": {},
     "output_type": "execute_result"
    }
   ],
   "source": [
    "# Gradient Booster\n",
    "gb_grid = GridSearchCV(gb_clf, gb_param, cv=5, verbose=1, n_jobs=-1)\n",
    "gb_grid.fit(X, y)\n",
    "gb_best = gb_grid.best_estimator_"
   ]
  },
  {
   "cell_type": "markdown",
   "metadata": {},
   "source": [
    "#### Fit the training data in the best predictors"
   ]
  },
  {
   "cell_type": "code",
   "execution_count": 87,
   "metadata": {},
   "outputs": [
    {
     "data": {
      "text/plain": [
       "LogisticRegression(C=0.01, class_weight=None, dual=False, fit_intercept=True,\n",
       "                   intercept_scaling=1, l1_ratio=None, max_iter=100,\n",
       "                   multi_class='auto', n_jobs=None, penalty='l2',\n",
       "                   random_state=42, solver='lbfgs', tol=0.0001, verbose=0,\n",
       "                   warm_start=False)"
      ]
     },
     "execution_count": 87,
     "metadata": {},
     "output_type": "execute_result"
    }
   ],
   "source": [
    "# Logistic Regression\n",
    "log_best.fit(X, y)"
   ]
  },
  {
   "cell_type": "code",
   "execution_count": 88,
   "metadata": {},
   "outputs": [
    {
     "data": {
      "text/plain": [
       "SGDClassifier(alpha=0.001, average=False, class_weight=None,\n",
       "              early_stopping=False, epsilon=0.1, eta0=0.0, fit_intercept=True,\n",
       "              l1_ratio=0.15, learning_rate='optimal', loss='hinge',\n",
       "              max_iter=1000, n_iter_no_change=5, n_jobs=None, penalty='l2',\n",
       "              power_t=0.5, random_state=42, shuffle=True, tol=0.001,\n",
       "              validation_fraction=0.1, verbose=0, warm_start=False)"
      ]
     },
     "execution_count": 88,
     "metadata": {},
     "output_type": "execute_result"
    }
   ],
   "source": [
    "#SGDClassifier\n",
    "sgd_best.fit(X, y)"
   ]
  },
  {
   "cell_type": "code",
   "execution_count": 89,
   "metadata": {},
   "outputs": [
    {
     "data": {
      "text/plain": [
       "SVC(C=10.0, break_ties=False, cache_size=200, class_weight=None, coef0=0.0,\n",
       "    decision_function_shape='ovr', degree=3, gamma=0.01, kernel='rbf',\n",
       "    max_iter=-1, probability=False, random_state=42, shrinking=True, tol=0.001,\n",
       "    verbose=False)"
      ]
     },
     "execution_count": 89,
     "metadata": {},
     "output_type": "execute_result"
    }
   ],
   "source": [
    "# Support Vector Machine\n",
    "svc_best.fit(X, y)"
   ]
  },
  {
   "cell_type": "code",
   "execution_count": 90,
   "metadata": {},
   "outputs": [
    {
     "data": {
      "text/plain": [
       "DecisionTreeClassifier(ccp_alpha=0.0, class_weight=None, criterion='gini',\n",
       "                       max_depth=4, max_features=None, max_leaf_nodes=None,\n",
       "                       min_impurity_decrease=0.0, min_impurity_split=None,\n",
       "                       min_samples_leaf=2, min_samples_split=2,\n",
       "                       min_weight_fraction_leaf=0.0, presort='deprecated',\n",
       "                       random_state=42, splitter='best')"
      ]
     },
     "execution_count": 90,
     "metadata": {},
     "output_type": "execute_result"
    }
   ],
   "source": [
    "# Decision Tree\n",
    "tree_best.fit(X, y)"
   ]
  },
  {
   "cell_type": "code",
   "execution_count": 91,
   "metadata": {},
   "outputs": [
    {
     "data": {
      "text/plain": [
       "RandomForestClassifier(bootstrap=True, ccp_alpha=0.0, class_weight=None,\n",
       "                       criterion='gini', max_depth=8, max_features='auto',\n",
       "                       max_leaf_nodes=None, max_samples=None,\n",
       "                       min_impurity_decrease=0.0, min_impurity_split=None,\n",
       "                       min_samples_leaf=4, min_samples_split=10,\n",
       "                       min_weight_fraction_leaf=0.0, n_estimators=200,\n",
       "                       n_jobs=None, oob_score=False, random_state=42, verbose=0,\n",
       "                       warm_start=False)"
      ]
     },
     "execution_count": 91,
     "metadata": {},
     "output_type": "execute_result"
    }
   ],
   "source": [
    "# Random Forest\n",
    "forest_best.fit(X, y)"
   ]
  },
  {
   "cell_type": "code",
   "execution_count": 92,
   "metadata": {},
   "outputs": [
    {
     "data": {
      "text/plain": [
       "ExtraTreesClassifier(bootstrap=False, ccp_alpha=0.0, class_weight=None,\n",
       "                     criterion='gini', max_depth=4, max_features='auto',\n",
       "                     max_leaf_nodes=None, max_samples=None,\n",
       "                     min_impurity_decrease=0.0, min_impurity_split=None,\n",
       "                     min_samples_leaf=2, min_samples_split=8,\n",
       "                     min_weight_fraction_leaf=0.0, n_estimators=100,\n",
       "                     n_jobs=None, oob_score=False, random_state=42, verbose=0,\n",
       "                     warm_start=False)"
      ]
     },
     "execution_count": 92,
     "metadata": {},
     "output_type": "execute_result"
    }
   ],
   "source": [
    "# Extra Trees\n",
    "extra_best.fit(X, y)"
   ]
  },
  {
   "cell_type": "code",
   "execution_count": 93,
   "metadata": {},
   "outputs": [
    {
     "data": {
      "text/plain": [
       "GradientBoostingClassifier(ccp_alpha=0.0, criterion='friedman_mse', init=None,\n",
       "                           learning_rate=0.05, loss='deviance', max_depth=8,\n",
       "                           max_features=None, max_leaf_nodes=None,\n",
       "                           min_impurity_decrease=0.0, min_impurity_split=None,\n",
       "                           min_samples_leaf=10, min_samples_split=2,\n",
       "                           min_weight_fraction_leaf=0.0, n_estimators=100,\n",
       "                           n_iter_no_change=None, presort='deprecated',\n",
       "                           random_state=42, subsample=0.5, tol=0.0001,\n",
       "                           validation_fraction=0.1, verbose=0,\n",
       "                           warm_start=False)"
      ]
     },
     "execution_count": 93,
     "metadata": {},
     "output_type": "execute_result"
    }
   ],
   "source": [
    "# Gradient Booster\n",
    "gb_best.fit(X, y)"
   ]
  },
  {
   "cell_type": "markdown",
   "metadata": {},
   "source": [
    "#### Cross_val_predict and generate accuracy scores for all the best predictors"
   ]
  },
  {
   "cell_type": "code",
   "execution_count": 94,
   "metadata": {},
   "outputs": [],
   "source": [
    "# Logistic Regression\n",
    "log_best_preds = cross_val_predict(estimator = log_best, X=X, y=y, cv=10)\n",
    "log_best_acc = accuracy_score(y, log_best_preds)\n",
    "\n",
    "#SGDClassifier\n",
    "sgd_best_preds = cross_val_predict(estimator = sgd_best, X=X, y=y, cv=10)\n",
    "sgd_best_acc = accuracy_score(y, sgd_best_preds)\n",
    "\n",
    "# Support Vector Machine\n",
    "svc_best_preds = cross_val_predict(estimator = svc_best, X=X, y=y, cv=10)\n",
    "svc_best_acc = accuracy_score(y, svc_best_preds)\n",
    "\n",
    "# Decision Tree\n",
    "tree_best_preds = cross_val_predict(estimator = tree_best, X=X, y=y, cv=10)\n",
    "tree_best_acc = accuracy_score(y, tree_best_preds)\n",
    "\n",
    "# Random Forest\n",
    "forest_best_preds = cross_val_predict(estimator = forest_best, X=X, y=y, cv=10)\n",
    "forest_best_acc = accuracy_score(y, forest_best_preds)\n",
    "\n",
    "# Extra Trees\n",
    "extra_best_preds = cross_val_predict(estimator = extra_best, X=X, y=y, cv=10)\n",
    "extra_best_acc = accuracy_score(y, extra_best_preds)\n",
    "\n",
    "# Gradient Booster\n",
    "gb_best_preds = cross_val_predict(estimator = gb_best, X=X, y=y, cv=10)\n",
    "gb_best_acc = accuracy_score(y, gb_best_preds)"
   ]
  },
  {
   "cell_type": "code",
   "execution_count": 95,
   "metadata": {},
   "outputs": [],
   "source": [
    "pred_df = pd.DataFrame()\n",
    "pred_df = pred_df.append({'b.Best Estimtor Accuracy': log_best_acc, 'b.Accuracy': log_acc, 'a.Model':'log_clf'}, ignore_index=True)\n",
    "pred_df = pred_df.append({'b.Best Estimtor Accuracy': sgd_best_acc, 'b.Accuracy': sgd_acc, 'a.Model':'sgd_clf'}, ignore_index=True)\n",
    "pred_df = pred_df.append({'b.Best Estimtor Accuracy': svc_best_acc, 'b.Accuracy': svc_acc, 'a.Model':'svc_clf'}, ignore_index=True)\n",
    "pred_df = pred_df.append({'b.Best Estimtor Accuracy': tree_best_acc, 'b.Accuracy': tree_acc, 'a.Model':'tree_clf'}, ignore_index=True)\n",
    "pred_df = pred_df.append({'b.Best Estimtor Accuracy': forest_best_acc, 'b.Accuracy': forest_acc, 'a.Model':'forest_clf'}, ignore_index=True)\n",
    "pred_df = pred_df.append({'b.Best Estimtor Accuracy': extra_best_acc, 'b.Accuracy': extra_acc, 'a.Model':'extra_clf'}, ignore_index=True)\n",
    "pred_df = pred_df.append({'b.Best Estimtor Accuracy': gb_best_acc, 'b.Accuracy': gb_acc, 'a.Model':'gb_clf'}, ignore_index=True)"
   ]
  },
  {
   "cell_type": "code",
   "execution_count": 96,
   "metadata": {},
   "outputs": [
    {
     "data": {
      "text/html": [
       "<div>\n",
       "<style scoped>\n",
       "    .dataframe tbody tr th:only-of-type {\n",
       "        vertical-align: middle;\n",
       "    }\n",
       "\n",
       "    .dataframe tbody tr th {\n",
       "        vertical-align: top;\n",
       "    }\n",
       "\n",
       "    .dataframe thead th {\n",
       "        text-align: right;\n",
       "    }\n",
       "</style>\n",
       "<table border=\"1\" class=\"dataframe\">\n",
       "  <thead>\n",
       "    <tr style=\"text-align: right;\">\n",
       "      <th></th>\n",
       "      <th>a.Model</th>\n",
       "      <th>b.Accuracy</th>\n",
       "      <th>b.Best Estimtor Accuracy</th>\n",
       "    </tr>\n",
       "  </thead>\n",
       "  <tbody>\n",
       "    <tr>\n",
       "      <th>0</th>\n",
       "      <td>log_clf</td>\n",
       "      <td>0.823034</td>\n",
       "      <td>0.827247</td>\n",
       "    </tr>\n",
       "    <tr>\n",
       "      <th>1</th>\n",
       "      <td>sgd_clf</td>\n",
       "      <td>0.771067</td>\n",
       "      <td>0.821629</td>\n",
       "    </tr>\n",
       "    <tr>\n",
       "      <th>2</th>\n",
       "      <td>svc_clf</td>\n",
       "      <td>0.824438</td>\n",
       "      <td>0.825843</td>\n",
       "    </tr>\n",
       "    <tr>\n",
       "      <th>3</th>\n",
       "      <td>tree_clf</td>\n",
       "      <td>0.793539</td>\n",
       "      <td>0.824438</td>\n",
       "    </tr>\n",
       "    <tr>\n",
       "      <th>4</th>\n",
       "      <td>forest_clf</td>\n",
       "      <td>0.796348</td>\n",
       "      <td>0.816011</td>\n",
       "    </tr>\n",
       "    <tr>\n",
       "      <th>5</th>\n",
       "      <td>extra_clf</td>\n",
       "      <td>0.804775</td>\n",
       "      <td>0.817416</td>\n",
       "    </tr>\n",
       "    <tr>\n",
       "      <th>6</th>\n",
       "      <td>gb_clf</td>\n",
       "      <td>0.810393</td>\n",
       "      <td>0.823034</td>\n",
       "    </tr>\n",
       "  </tbody>\n",
       "</table>\n",
       "</div>"
      ],
      "text/plain": [
       "      a.Model  b.Accuracy  b.Best Estimtor Accuracy\n",
       "0     log_clf    0.823034                  0.827247\n",
       "1     sgd_clf    0.771067                  0.821629\n",
       "2     svc_clf    0.824438                  0.825843\n",
       "3    tree_clf    0.793539                  0.824438\n",
       "4  forest_clf    0.796348                  0.816011\n",
       "5   extra_clf    0.804775                  0.817416\n",
       "6      gb_clf    0.810393                  0.823034"
      ]
     },
     "execution_count": 96,
     "metadata": {},
     "output_type": "execute_result"
    }
   ],
   "source": [
    "pred_df"
   ]
  },
  {
   "cell_type": "markdown",
   "metadata": {},
   "source": [
    "# Outputing predictions to a csv document for submission"
   ]
  },
  {
   "cell_type": "code",
   "execution_count": null,
   "metadata": {},
   "outputs": [],
   "source": [
    "# incognita_preds = incognita.predict(test_df)\n",
    "\n",
    "# submission = pd.read_csv('gender_submission.csv', index_col='PassengerId')\n",
    "# submission['Survived'] = incognita_preds\n",
    "# submission.to_csv('svc_final_submission.csv')"
   ]
  }
 ],
 "metadata": {
  "kernelspec": {
   "display_name": "Python 3",
   "language": "python",
   "name": "python3"
  },
  "language_info": {
   "codemirror_mode": {
    "name": "ipython",
    "version": 3
   },
   "file_extension": ".py",
   "mimetype": "text/x-python",
   "name": "python",
   "nbconvert_exporter": "python",
   "pygments_lexer": "ipython3",
   "version": "3.7.4"
  }
 },
 "nbformat": 4,
 "nbformat_minor": 4
}
