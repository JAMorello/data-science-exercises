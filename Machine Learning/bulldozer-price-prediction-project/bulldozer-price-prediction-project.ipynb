{
 "cells": [
  {
   "cell_type": "markdown",
   "metadata": {},
   "source": [
    "<h1><center>Predicting the Sale Price of Bulldozer using Machine Learning</h1></center>\n",
    "\n",
    "<img src=\"data/bulldozer.jpg\">"
   ]
  },
  {
   "cell_type": "markdown",
   "metadata": {},
   "source": [
    "## Problem Definition\n",
    "\n",
    "The goal of this project is to predict the sale price of a particular piece of heavy equiment at auction based on it's usage, equipment type, and configuration. As the machine learning model has to predict a number and not a category, this kind of problem is known as **regression problem**.\n",
    "\n",
    "In a statement:\n",
    "\n",
    "> How well can we predict the future sale price of a bulldozer, given its characteristics and previous examples of how much similar bulldozers have been sold for?"
   ]
  },
  {
   "cell_type": "markdown",
   "metadata": {},
   "source": [
    "## Data\n",
    "\n",
    "The data is downloaded from the [Kaggle Bluebook for Bulldozers competition](https://www.kaggle.com/c/bluebook-for-bulldozers/data).\n",
    "\n",
    "The data is sourced from auction result postings and includes information on usage and equipment configurations.\n",
    "It has historical sales data of bulldozers, including things like, model type, size, sale date and more.\n",
    "\n",
    "It's a time series problem, we´re using past events to try and predict future events, so there's a time attribute to dataset. \n",
    "\n",
    "There are 3 main datasets:\n",
    "\n",
    "* `Train.csv` - Training set, which contains data through the end of 2011 (close to 400,000 examples with 50+ different attributes, including `SalePrice` which is the target variable).\n",
    "* `Valid.csv` - Validation set, which contains data from January 1, 2012 - April 30, 2012 (close to 12,000 examples with the same attributes as Train.csv; but doesn´t have the `SalePrice` label).\n",
    "* `TrainAndValid.csv` - Both `Train.csv` and `Valid.csv` with the `SalePrice` label. I´ll work with this dataset.\n",
    "* `Test.csv` - It contains data from May 1, 2012 - November 2012 (close to 12,000 examples but missing the `SalePrice` label, as this is what I'll be trying to predict)."
   ]
  },
  {
   "cell_type": "markdown",
   "metadata": {},
   "source": [
    "## Evaluation Metric\n",
    "\n",
    "As the goal for most regression evaluation metrics is to minimize the error, the evaluation metric for this project is the RMSLE (root mean squared log error) between the actual and predicted auction prices.\n",
    "\n",
    "To see how well our model is doing, we'll calculate the RMSLE and then compare our results to others on the [Kaggle leaderboard](https://www.kaggle.com/c/bluebook-for-bulldozers/leaderboard)."
   ]
  },
  {
   "cell_type": "markdown",
   "metadata": {},
   "source": [
    "# Preparing the tools\n",
    "\n",
    "I'll be going to use pandas, Matplotlib and NumPy for data analysis and manipulation.\n",
    "For the machine learning model, I use SciKit-Learn."
   ]
  },
  {
   "cell_type": "code",
   "execution_count": 1,
   "metadata": {},
   "outputs": [],
   "source": [
    "# Import utility\n",
    "import re\n",
    "\n",
    "# Regular EDA (exploratory data analysis) and plotting libraries\n",
    "import numpy as np\n",
    "import pandas as pd\n",
    "import matplotlib.pyplot as plt\n",
    "import seaborn as sns\n",
    "\n",
    "# we want our plots to appear inside the notebook\n",
    "%matplotlib inline \n",
    "\n",
    "# Model from Scikit-Learn\n",
    "from sklearn.ensemble import RandomForestRegressor\n",
    "\n",
    "# Model Evaluations\n",
    "from sklearn.metrics import mean_squared_log_error, mean_absolute_error, r2_score\n",
    "\n",
    "# Hyperparameter optimization\n",
    "from sklearn.model_selection import RandomizedSearchCV"
   ]
  },
  {
   "cell_type": "markdown",
   "metadata": {},
   "source": [
    "# Load Data"
   ]
  },
  {
   "cell_type": "code",
   "execution_count": 2,
   "metadata": {},
   "outputs": [
    {
     "name": "stdout",
     "output_type": "stream",
     "text": [
      "TrainAndValid dataset shape: (412698, 53)\n",
      "Test dataset shape: (12457, 52)\n"
     ]
    }
   ],
   "source": [
    "df_orig = pd.read_csv(\"data/TrainAndValid.csv\", \n",
    "                       low_memory=False, \n",
    "                       parse_dates=[\"saledate\"])\n",
    "df_test = pd.read_csv(\"data/Test.csv\", \n",
    "                       low_memory=False, \n",
    "                       parse_dates=[\"saledate\"])\n",
    "\n",
    "print(f\"TrainAndValid dataset shape: {df_orig.shape}\")\n",
    "print(f\"Test dataset shape: {df_test.shape}\")"
   ]
  },
  {
   "cell_type": "markdown",
   "metadata": {},
   "source": [
    "## Features\n",
    "\n",
    "There are 53 variables in the dataset. The key fields are:\n",
    "\n",
    "* `SalesID`: the unique identifier of the sale.\n",
    "* `MachineID`: the unique identifier of a machine. A machine can be sold multiple times.\n",
    "* `saleprice`: what the machine sold for at auction (only provided in train.csv).\n",
    "* `saledate`: the date of the sale.\n",
    "\n",
    "There are several fields on the different options a machine can have. The descriptions all start with \"machine configuration\" in the data dictionary. Some product types do not have a particular option, so all the records for that option variable will be null for that product type. Also, some sources do not provide good option and/or hours data.\n",
    "\n",
    "<br>\n",
    "<details> <summary><b>Click here to see the data dictionary</b></summary>\n",
    "    \n",
    "| Variable | Description |\n",
    "|:---:|:---|\n",
    "| `SalesID` | unique identifier of a particular sale of a machine at auction |\n",
    "| `MachineID` | identifier for a particular machine;  machines may have multiple sales |\n",
    "| `ModelID` | identifier for a unique machine model (i.e. fiModelDesc) |\n",
    "| `datasource` | source of the sale record;  some sources are more diligent about reporting attributes of the machine than others. Note that a particular datasource may report on multiple auctioneerIDs. |\n",
    "| `auctioneerID` | identifier of a particular auctioneer, i.e. company that sold the machine at auction. Not the same as datasource. |\n",
    "| `YearMade` | year of manufacturer of the machine |\n",
    "| `MachineHoursCurrentMeter` | current usage of the machine in hours at time of sale (saledate);  null or 0 means no hours have been reported for that sale |\n",
    "| `UsageBand` | value (low, medium, high) calculated comparing this particular Machine-Sale hours to average usage for the fiBaseModel;  e.g. 'Low' means this machine has less hours given it's lifespan relative to average of fiBaseModel. |\n",
    "| `saledate` | time of sale |\n",
    "| `saleprice` | cost of sale in USD |\n",
    "| `fiModelDesc` | Description of a unique machine model (see ModelID); concatenation of fiBaseModel & fiSecondaryDesc & fiModelSeries & fiModelDescriptor |\n",
    "| `fiBaseModel` | disaggregation of fiModelDesc |\n",
    "| `fiSecondaryDesc` | disaggregation of fiModelDesc |\n",
    "| `fiModelSeries` | disaggregation of fiModelDesc |\n",
    "| `fiModelDescriptor` | disaggregation of fiModelDesc |\n",
    "| `ProductSize` | The size class grouping for a product group. Subsets within product group. |\n",
    "| `fiProductClassDesc` | description of 2nd level hierarchical grouping (below ProductGroup) of fiModelDesc |\n",
    "| `State` | US State in which sale occurred |\n",
    "| `ProductGroup` | identifier for top-level hierarchical grouping of fiModelDesc |\n",
    "| `ProductGroupDesc` | description of top-level hierarchical grouping of fiModelDesc |\n",
    "| `Drive_System` | machine configuration;  typcially describes whether 2 or 4 wheel drive |\n",
    "| `Enclosure` | machine configuration - does machine have an enclosed cab or not |\n",
    "| `Forks` | machine configuration - attachment used for lifting |\n",
    "| `Pad_Type` | machine configuration - type of treads a crawler machine uses |\n",
    "| `Ride_Control` | machine configuration - optional feature on loaders to make the ride smoother |\n",
    "| `Stick` | machine configuration - type of control |\n",
    "| `Transmission` | machine configuration - describes type of transmission;  typically automatic or manual |\n",
    "| `Turbocharged` | machine configuration - engine naturally aspirated or turbocharged |\n",
    "| `Blade_Extension` |\tmachine configuration - extension of standard blade |\n",
    "| `Blade_Width` |\tmachine configuration - width of blade |\n",
    "| `Enclosure_Type` | machine configuration - does machine have an enclosed cab or not |\n",
    "| `Engine_Horsepower` | machine configuration - engine horsepower rating |\n",
    "| `Hydraulics` | machine configuration - type of hydraulics |\n",
    "| `Pushblock` | machine configuration - option |\n",
    "| `Ripper` | machine configuration - implement attached to machine to till soil |\n",
    "| `Scarifier` | machine configuration - implement attached to machine to condition soil |\n",
    "| `Tip_control` |\tmachine configuration - type of blade control |\n",
    "| `Tire_Size` | machine configuration - size of primary tires |\n",
    "| `Coupler` |\tmachine configuration - type of implement interface |\n",
    "| `Coupler_System` | machine configuration - type of implement interface |\n",
    "| `Grouser_Tracks` | machine configuration - describes ground contact interface |\n",
    "| `Hydraulics_Flow` | machine configuration - normal or high flow hydraulic system |\n",
    "| `Track_Type` | machine configuration - type of treads a crawler machine uses |\n",
    "| `Undercarriage_Pad_Width` | machine configuration - width of crawler treads |\n",
    "| `Stick_Length` | machine configuration - length of machine digging implement |\n",
    "| `Thumb` | machine configuration - attachment used for grabbing |\n",
    "| `Pattern_Changer` |\tmachine configuration - can adjust the operator control configuration to suit the user |\n",
    "| `Grouser_Type` | machine configuration - type of treads a crawler machine uses |\n",
    "| `Backhoe_Mounting` | machine configuration - optional interface used to add a backhoe attachment |\n",
    "| `Blade_Type` | machine configuration - describes type of blade |\n",
    "| `Travel_Controls` |\tmachine configuration - describes operator control configuration |\n",
    "| `Differential_Type` | machine configuration - differential type, typically locking or standard |\n",
    "| `Steering_Controls` | machine configuration - describes operator control configuration |\n",
    "    \n",
    "</details>\n",
    "<br>"
   ]
  },
  {
   "cell_type": "markdown",
   "metadata": {},
   "source": [
    "#  Exploratory Data Analysis\n",
    "\n",
    "As there are a lot of features in the dataset, here I´ll only check the info, datatypes, head, and _NaNs_ in there. An EDA of the features will be made after building a model and looking at the Feature Importance."
   ]
  },
  {
   "cell_type": "code",
   "execution_count": 3,
   "metadata": {},
   "outputs": [
    {
     "name": "stdout",
     "output_type": "stream",
     "text": [
      "<class 'pandas.core.frame.DataFrame'>\n",
      "RangeIndex: 412698 entries, 0 to 412697\n",
      "Data columns (total 53 columns):\n",
      " #   Column                    Non-Null Count   Dtype         \n",
      "---  ------                    --------------   -----         \n",
      " 0   SalesID                   412698 non-null  int64         \n",
      " 1   SalePrice                 412698 non-null  float64       \n",
      " 2   MachineID                 412698 non-null  int64         \n",
      " 3   ModelID                   412698 non-null  int64         \n",
      " 4   datasource                412698 non-null  int64         \n",
      " 5   auctioneerID              392562 non-null  float64       \n",
      " 6   YearMade                  412698 non-null  int64         \n",
      " 7   MachineHoursCurrentMeter  147504 non-null  float64       \n",
      " 8   UsageBand                 73670 non-null   object        \n",
      " 9   saledate                  412698 non-null  datetime64[ns]\n",
      " 10  fiModelDesc               412698 non-null  object        \n",
      " 11  fiBaseModel               412698 non-null  object        \n",
      " 12  fiSecondaryDesc           271971 non-null  object        \n",
      " 13  fiModelSeries             58667 non-null   object        \n",
      " 14  fiModelDescriptor         74816 non-null   object        \n",
      " 15  ProductSize               196093 non-null  object        \n",
      " 16  fiProductClassDesc        412698 non-null  object        \n",
      " 17  state                     412698 non-null  object        \n",
      " 18  ProductGroup              412698 non-null  object        \n",
      " 19  ProductGroupDesc          412698 non-null  object        \n",
      " 20  Drive_System              107087 non-null  object        \n",
      " 21  Enclosure                 412364 non-null  object        \n",
      " 22  Forks                     197715 non-null  object        \n",
      " 23  Pad_Type                  81096 non-null   object        \n",
      " 24  Ride_Control              152728 non-null  object        \n",
      " 25  Stick                     81096 non-null   object        \n",
      " 26  Transmission              188007 non-null  object        \n",
      " 27  Turbocharged              81096 non-null   object        \n",
      " 28  Blade_Extension           25983 non-null   object        \n",
      " 29  Blade_Width               25983 non-null   object        \n",
      " 30  Enclosure_Type            25983 non-null   object        \n",
      " 31  Engine_Horsepower         25983 non-null   object        \n",
      " 32  Hydraulics                330133 non-null  object        \n",
      " 33  Pushblock                 25983 non-null   object        \n",
      " 34  Ripper                    106945 non-null  object        \n",
      " 35  Scarifier                 25994 non-null   object        \n",
      " 36  Tip_Control               25983 non-null   object        \n",
      " 37  Tire_Size                 97638 non-null   object        \n",
      " 38  Coupler                   220679 non-null  object        \n",
      " 39  Coupler_System            44974 non-null   object        \n",
      " 40  Grouser_Tracks            44875 non-null   object        \n",
      " 41  Hydraulics_Flow           44875 non-null   object        \n",
      " 42  Track_Type                102193 non-null  object        \n",
      " 43  Undercarriage_Pad_Width   102916 non-null  object        \n",
      " 44  Stick_Length              102261 non-null  object        \n",
      " 45  Thumb                     102332 non-null  object        \n",
      " 46  Pattern_Changer           102261 non-null  object        \n",
      " 47  Grouser_Type              102193 non-null  object        \n",
      " 48  Backhoe_Mounting          80712 non-null   object        \n",
      " 49  Blade_Type                81875 non-null   object        \n",
      " 50  Travel_Controls           81877 non-null   object        \n",
      " 51  Differential_Type         71564 non-null   object        \n",
      " 52  Steering_Controls         71522 non-null   object        \n",
      "dtypes: datetime64[ns](1), float64(3), int64(5), object(44)\n",
      "memory usage: 166.9+ MB\n"
     ]
    }
   ],
   "source": [
    "df_orig.info()"
   ]
  },
  {
   "cell_type": "code",
   "execution_count": 4,
   "metadata": {},
   "outputs": [
    {
     "data": {
      "text/html": [
       "<div>\n",
       "<style scoped>\n",
       "    .dataframe tbody tr th:only-of-type {\n",
       "        vertical-align: middle;\n",
       "    }\n",
       "\n",
       "    .dataframe tbody tr th {\n",
       "        vertical-align: top;\n",
       "    }\n",
       "\n",
       "    .dataframe thead th {\n",
       "        text-align: right;\n",
       "    }\n",
       "</style>\n",
       "<table border=\"1\" class=\"dataframe\">\n",
       "  <thead>\n",
       "    <tr style=\"text-align: right;\">\n",
       "      <th></th>\n",
       "      <th>0</th>\n",
       "      <th>1</th>\n",
       "      <th>2</th>\n",
       "      <th>3</th>\n",
       "      <th>4</th>\n",
       "    </tr>\n",
       "  </thead>\n",
       "  <tbody>\n",
       "    <tr>\n",
       "      <th>SalesID</th>\n",
       "      <td>1139246</td>\n",
       "      <td>1139248</td>\n",
       "      <td>1139249</td>\n",
       "      <td>1139251</td>\n",
       "      <td>1139253</td>\n",
       "    </tr>\n",
       "    <tr>\n",
       "      <th>SalePrice</th>\n",
       "      <td>66000</td>\n",
       "      <td>57000</td>\n",
       "      <td>10000</td>\n",
       "      <td>38500</td>\n",
       "      <td>11000</td>\n",
       "    </tr>\n",
       "    <tr>\n",
       "      <th>MachineID</th>\n",
       "      <td>999089</td>\n",
       "      <td>117657</td>\n",
       "      <td>434808</td>\n",
       "      <td>1026470</td>\n",
       "      <td>1057373</td>\n",
       "    </tr>\n",
       "    <tr>\n",
       "      <th>ModelID</th>\n",
       "      <td>3157</td>\n",
       "      <td>77</td>\n",
       "      <td>7009</td>\n",
       "      <td>332</td>\n",
       "      <td>17311</td>\n",
       "    </tr>\n",
       "    <tr>\n",
       "      <th>datasource</th>\n",
       "      <td>121</td>\n",
       "      <td>121</td>\n",
       "      <td>121</td>\n",
       "      <td>121</td>\n",
       "      <td>121</td>\n",
       "    </tr>\n",
       "    <tr>\n",
       "      <th>auctioneerID</th>\n",
       "      <td>3</td>\n",
       "      <td>3</td>\n",
       "      <td>3</td>\n",
       "      <td>3</td>\n",
       "      <td>3</td>\n",
       "    </tr>\n",
       "    <tr>\n",
       "      <th>YearMade</th>\n",
       "      <td>2004</td>\n",
       "      <td>1996</td>\n",
       "      <td>2001</td>\n",
       "      <td>2001</td>\n",
       "      <td>2007</td>\n",
       "    </tr>\n",
       "    <tr>\n",
       "      <th>MachineHoursCurrentMeter</th>\n",
       "      <td>68</td>\n",
       "      <td>4640</td>\n",
       "      <td>2838</td>\n",
       "      <td>3486</td>\n",
       "      <td>722</td>\n",
       "    </tr>\n",
       "    <tr>\n",
       "      <th>UsageBand</th>\n",
       "      <td>Low</td>\n",
       "      <td>Low</td>\n",
       "      <td>High</td>\n",
       "      <td>High</td>\n",
       "      <td>Medium</td>\n",
       "    </tr>\n",
       "    <tr>\n",
       "      <th>saledate</th>\n",
       "      <td>2006-11-16 00:00:00</td>\n",
       "      <td>2004-03-26 00:00:00</td>\n",
       "      <td>2004-02-26 00:00:00</td>\n",
       "      <td>2011-05-19 00:00:00</td>\n",
       "      <td>2009-07-23 00:00:00</td>\n",
       "    </tr>\n",
       "    <tr>\n",
       "      <th>fiModelDesc</th>\n",
       "      <td>521D</td>\n",
       "      <td>950FII</td>\n",
       "      <td>226</td>\n",
       "      <td>PC120-6E</td>\n",
       "      <td>S175</td>\n",
       "    </tr>\n",
       "    <tr>\n",
       "      <th>fiBaseModel</th>\n",
       "      <td>521</td>\n",
       "      <td>950</td>\n",
       "      <td>226</td>\n",
       "      <td>PC120</td>\n",
       "      <td>S175</td>\n",
       "    </tr>\n",
       "    <tr>\n",
       "      <th>fiSecondaryDesc</th>\n",
       "      <td>D</td>\n",
       "      <td>F</td>\n",
       "      <td>NaN</td>\n",
       "      <td>NaN</td>\n",
       "      <td>NaN</td>\n",
       "    </tr>\n",
       "    <tr>\n",
       "      <th>fiModelSeries</th>\n",
       "      <td>NaN</td>\n",
       "      <td>II</td>\n",
       "      <td>NaN</td>\n",
       "      <td>-6E</td>\n",
       "      <td>NaN</td>\n",
       "    </tr>\n",
       "    <tr>\n",
       "      <th>fiModelDescriptor</th>\n",
       "      <td>NaN</td>\n",
       "      <td>NaN</td>\n",
       "      <td>NaN</td>\n",
       "      <td>NaN</td>\n",
       "      <td>NaN</td>\n",
       "    </tr>\n",
       "    <tr>\n",
       "      <th>ProductSize</th>\n",
       "      <td>NaN</td>\n",
       "      <td>Medium</td>\n",
       "      <td>NaN</td>\n",
       "      <td>Small</td>\n",
       "      <td>NaN</td>\n",
       "    </tr>\n",
       "    <tr>\n",
       "      <th>fiProductClassDesc</th>\n",
       "      <td>Wheel Loader - 110.0 to 120.0 Horsepower</td>\n",
       "      <td>Wheel Loader - 150.0 to 175.0 Horsepower</td>\n",
       "      <td>Skid Steer Loader - 1351.0 to 1601.0 Lb Operat...</td>\n",
       "      <td>Hydraulic Excavator, Track - 12.0 to 14.0 Metr...</td>\n",
       "      <td>Skid Steer Loader - 1601.0 to 1751.0 Lb Operat...</td>\n",
       "    </tr>\n",
       "    <tr>\n",
       "      <th>state</th>\n",
       "      <td>Alabama</td>\n",
       "      <td>North Carolina</td>\n",
       "      <td>New York</td>\n",
       "      <td>Texas</td>\n",
       "      <td>New York</td>\n",
       "    </tr>\n",
       "    <tr>\n",
       "      <th>ProductGroup</th>\n",
       "      <td>WL</td>\n",
       "      <td>WL</td>\n",
       "      <td>SSL</td>\n",
       "      <td>TEX</td>\n",
       "      <td>SSL</td>\n",
       "    </tr>\n",
       "    <tr>\n",
       "      <th>ProductGroupDesc</th>\n",
       "      <td>Wheel Loader</td>\n",
       "      <td>Wheel Loader</td>\n",
       "      <td>Skid Steer Loaders</td>\n",
       "      <td>Track Excavators</td>\n",
       "      <td>Skid Steer Loaders</td>\n",
       "    </tr>\n",
       "    <tr>\n",
       "      <th>Drive_System</th>\n",
       "      <td>NaN</td>\n",
       "      <td>NaN</td>\n",
       "      <td>NaN</td>\n",
       "      <td>NaN</td>\n",
       "      <td>NaN</td>\n",
       "    </tr>\n",
       "    <tr>\n",
       "      <th>Enclosure</th>\n",
       "      <td>EROPS w AC</td>\n",
       "      <td>EROPS w AC</td>\n",
       "      <td>OROPS</td>\n",
       "      <td>EROPS w AC</td>\n",
       "      <td>EROPS</td>\n",
       "    </tr>\n",
       "    <tr>\n",
       "      <th>Forks</th>\n",
       "      <td>None or Unspecified</td>\n",
       "      <td>None or Unspecified</td>\n",
       "      <td>None or Unspecified</td>\n",
       "      <td>NaN</td>\n",
       "      <td>None or Unspecified</td>\n",
       "    </tr>\n",
       "    <tr>\n",
       "      <th>Pad_Type</th>\n",
       "      <td>NaN</td>\n",
       "      <td>NaN</td>\n",
       "      <td>NaN</td>\n",
       "      <td>NaN</td>\n",
       "      <td>NaN</td>\n",
       "    </tr>\n",
       "    <tr>\n",
       "      <th>Ride_Control</th>\n",
       "      <td>None or Unspecified</td>\n",
       "      <td>None or Unspecified</td>\n",
       "      <td>NaN</td>\n",
       "      <td>NaN</td>\n",
       "      <td>NaN</td>\n",
       "    </tr>\n",
       "    <tr>\n",
       "      <th>Stick</th>\n",
       "      <td>NaN</td>\n",
       "      <td>NaN</td>\n",
       "      <td>NaN</td>\n",
       "      <td>NaN</td>\n",
       "      <td>NaN</td>\n",
       "    </tr>\n",
       "    <tr>\n",
       "      <th>Transmission</th>\n",
       "      <td>NaN</td>\n",
       "      <td>NaN</td>\n",
       "      <td>NaN</td>\n",
       "      <td>NaN</td>\n",
       "      <td>NaN</td>\n",
       "    </tr>\n",
       "    <tr>\n",
       "      <th>Turbocharged</th>\n",
       "      <td>NaN</td>\n",
       "      <td>NaN</td>\n",
       "      <td>NaN</td>\n",
       "      <td>NaN</td>\n",
       "      <td>NaN</td>\n",
       "    </tr>\n",
       "    <tr>\n",
       "      <th>Blade_Extension</th>\n",
       "      <td>NaN</td>\n",
       "      <td>NaN</td>\n",
       "      <td>NaN</td>\n",
       "      <td>NaN</td>\n",
       "      <td>NaN</td>\n",
       "    </tr>\n",
       "    <tr>\n",
       "      <th>Blade_Width</th>\n",
       "      <td>NaN</td>\n",
       "      <td>NaN</td>\n",
       "      <td>NaN</td>\n",
       "      <td>NaN</td>\n",
       "      <td>NaN</td>\n",
       "    </tr>\n",
       "    <tr>\n",
       "      <th>Enclosure_Type</th>\n",
       "      <td>NaN</td>\n",
       "      <td>NaN</td>\n",
       "      <td>NaN</td>\n",
       "      <td>NaN</td>\n",
       "      <td>NaN</td>\n",
       "    </tr>\n",
       "    <tr>\n",
       "      <th>Engine_Horsepower</th>\n",
       "      <td>NaN</td>\n",
       "      <td>NaN</td>\n",
       "      <td>NaN</td>\n",
       "      <td>NaN</td>\n",
       "      <td>NaN</td>\n",
       "    </tr>\n",
       "    <tr>\n",
       "      <th>Hydraulics</th>\n",
       "      <td>2 Valve</td>\n",
       "      <td>2 Valve</td>\n",
       "      <td>Auxiliary</td>\n",
       "      <td>2 Valve</td>\n",
       "      <td>Auxiliary</td>\n",
       "    </tr>\n",
       "    <tr>\n",
       "      <th>Pushblock</th>\n",
       "      <td>NaN</td>\n",
       "      <td>NaN</td>\n",
       "      <td>NaN</td>\n",
       "      <td>NaN</td>\n",
       "      <td>NaN</td>\n",
       "    </tr>\n",
       "    <tr>\n",
       "      <th>Ripper</th>\n",
       "      <td>NaN</td>\n",
       "      <td>NaN</td>\n",
       "      <td>NaN</td>\n",
       "      <td>NaN</td>\n",
       "      <td>NaN</td>\n",
       "    </tr>\n",
       "    <tr>\n",
       "      <th>Scarifier</th>\n",
       "      <td>NaN</td>\n",
       "      <td>NaN</td>\n",
       "      <td>NaN</td>\n",
       "      <td>NaN</td>\n",
       "      <td>NaN</td>\n",
       "    </tr>\n",
       "    <tr>\n",
       "      <th>Tip_Control</th>\n",
       "      <td>NaN</td>\n",
       "      <td>NaN</td>\n",
       "      <td>NaN</td>\n",
       "      <td>NaN</td>\n",
       "      <td>NaN</td>\n",
       "    </tr>\n",
       "    <tr>\n",
       "      <th>Tire_Size</th>\n",
       "      <td>None or Unspecified</td>\n",
       "      <td>23.5</td>\n",
       "      <td>NaN</td>\n",
       "      <td>NaN</td>\n",
       "      <td>NaN</td>\n",
       "    </tr>\n",
       "    <tr>\n",
       "      <th>Coupler</th>\n",
       "      <td>None or Unspecified</td>\n",
       "      <td>None or Unspecified</td>\n",
       "      <td>None or Unspecified</td>\n",
       "      <td>None or Unspecified</td>\n",
       "      <td>None or Unspecified</td>\n",
       "    </tr>\n",
       "    <tr>\n",
       "      <th>Coupler_System</th>\n",
       "      <td>NaN</td>\n",
       "      <td>NaN</td>\n",
       "      <td>None or Unspecified</td>\n",
       "      <td>NaN</td>\n",
       "      <td>None or Unspecified</td>\n",
       "    </tr>\n",
       "    <tr>\n",
       "      <th>Grouser_Tracks</th>\n",
       "      <td>NaN</td>\n",
       "      <td>NaN</td>\n",
       "      <td>None or Unspecified</td>\n",
       "      <td>NaN</td>\n",
       "      <td>None or Unspecified</td>\n",
       "    </tr>\n",
       "    <tr>\n",
       "      <th>Hydraulics_Flow</th>\n",
       "      <td>NaN</td>\n",
       "      <td>NaN</td>\n",
       "      <td>Standard</td>\n",
       "      <td>NaN</td>\n",
       "      <td>Standard</td>\n",
       "    </tr>\n",
       "    <tr>\n",
       "      <th>Track_Type</th>\n",
       "      <td>NaN</td>\n",
       "      <td>NaN</td>\n",
       "      <td>NaN</td>\n",
       "      <td>NaN</td>\n",
       "      <td>NaN</td>\n",
       "    </tr>\n",
       "    <tr>\n",
       "      <th>Undercarriage_Pad_Width</th>\n",
       "      <td>NaN</td>\n",
       "      <td>NaN</td>\n",
       "      <td>NaN</td>\n",
       "      <td>NaN</td>\n",
       "      <td>NaN</td>\n",
       "    </tr>\n",
       "    <tr>\n",
       "      <th>Stick_Length</th>\n",
       "      <td>NaN</td>\n",
       "      <td>NaN</td>\n",
       "      <td>NaN</td>\n",
       "      <td>NaN</td>\n",
       "      <td>NaN</td>\n",
       "    </tr>\n",
       "    <tr>\n",
       "      <th>Thumb</th>\n",
       "      <td>NaN</td>\n",
       "      <td>NaN</td>\n",
       "      <td>NaN</td>\n",
       "      <td>NaN</td>\n",
       "      <td>NaN</td>\n",
       "    </tr>\n",
       "    <tr>\n",
       "      <th>Pattern_Changer</th>\n",
       "      <td>NaN</td>\n",
       "      <td>NaN</td>\n",
       "      <td>NaN</td>\n",
       "      <td>NaN</td>\n",
       "      <td>NaN</td>\n",
       "    </tr>\n",
       "    <tr>\n",
       "      <th>Grouser_Type</th>\n",
       "      <td>NaN</td>\n",
       "      <td>NaN</td>\n",
       "      <td>NaN</td>\n",
       "      <td>NaN</td>\n",
       "      <td>NaN</td>\n",
       "    </tr>\n",
       "    <tr>\n",
       "      <th>Backhoe_Mounting</th>\n",
       "      <td>NaN</td>\n",
       "      <td>NaN</td>\n",
       "      <td>NaN</td>\n",
       "      <td>NaN</td>\n",
       "      <td>NaN</td>\n",
       "    </tr>\n",
       "    <tr>\n",
       "      <th>Blade_Type</th>\n",
       "      <td>NaN</td>\n",
       "      <td>NaN</td>\n",
       "      <td>NaN</td>\n",
       "      <td>NaN</td>\n",
       "      <td>NaN</td>\n",
       "    </tr>\n",
       "    <tr>\n",
       "      <th>Travel_Controls</th>\n",
       "      <td>NaN</td>\n",
       "      <td>NaN</td>\n",
       "      <td>NaN</td>\n",
       "      <td>NaN</td>\n",
       "      <td>NaN</td>\n",
       "    </tr>\n",
       "    <tr>\n",
       "      <th>Differential_Type</th>\n",
       "      <td>Standard</td>\n",
       "      <td>Standard</td>\n",
       "      <td>NaN</td>\n",
       "      <td>NaN</td>\n",
       "      <td>NaN</td>\n",
       "    </tr>\n",
       "    <tr>\n",
       "      <th>Steering_Controls</th>\n",
       "      <td>Conventional</td>\n",
       "      <td>Conventional</td>\n",
       "      <td>NaN</td>\n",
       "      <td>NaN</td>\n",
       "      <td>NaN</td>\n",
       "    </tr>\n",
       "  </tbody>\n",
       "</table>\n",
       "</div>"
      ],
      "text/plain": [
       "                                                                 0  \\\n",
       "SalesID                                                    1139246   \n",
       "SalePrice                                                    66000   \n",
       "MachineID                                                   999089   \n",
       "ModelID                                                       3157   \n",
       "datasource                                                     121   \n",
       "auctioneerID                                                     3   \n",
       "YearMade                                                      2004   \n",
       "MachineHoursCurrentMeter                                        68   \n",
       "UsageBand                                                      Low   \n",
       "saledate                                       2006-11-16 00:00:00   \n",
       "fiModelDesc                                                   521D   \n",
       "fiBaseModel                                                    521   \n",
       "fiSecondaryDesc                                                  D   \n",
       "fiModelSeries                                                  NaN   \n",
       "fiModelDescriptor                                              NaN   \n",
       "ProductSize                                                    NaN   \n",
       "fiProductClassDesc        Wheel Loader - 110.0 to 120.0 Horsepower   \n",
       "state                                                      Alabama   \n",
       "ProductGroup                                                    WL   \n",
       "ProductGroupDesc                                      Wheel Loader   \n",
       "Drive_System                                                   NaN   \n",
       "Enclosure                                               EROPS w AC   \n",
       "Forks                                          None or Unspecified   \n",
       "Pad_Type                                                       NaN   \n",
       "Ride_Control                                   None or Unspecified   \n",
       "Stick                                                          NaN   \n",
       "Transmission                                                   NaN   \n",
       "Turbocharged                                                   NaN   \n",
       "Blade_Extension                                                NaN   \n",
       "Blade_Width                                                    NaN   \n",
       "Enclosure_Type                                                 NaN   \n",
       "Engine_Horsepower                                              NaN   \n",
       "Hydraulics                                                 2 Valve   \n",
       "Pushblock                                                      NaN   \n",
       "Ripper                                                         NaN   \n",
       "Scarifier                                                      NaN   \n",
       "Tip_Control                                                    NaN   \n",
       "Tire_Size                                      None or Unspecified   \n",
       "Coupler                                        None or Unspecified   \n",
       "Coupler_System                                                 NaN   \n",
       "Grouser_Tracks                                                 NaN   \n",
       "Hydraulics_Flow                                                NaN   \n",
       "Track_Type                                                     NaN   \n",
       "Undercarriage_Pad_Width                                        NaN   \n",
       "Stick_Length                                                   NaN   \n",
       "Thumb                                                          NaN   \n",
       "Pattern_Changer                                                NaN   \n",
       "Grouser_Type                                                   NaN   \n",
       "Backhoe_Mounting                                               NaN   \n",
       "Blade_Type                                                     NaN   \n",
       "Travel_Controls                                                NaN   \n",
       "Differential_Type                                         Standard   \n",
       "Steering_Controls                                     Conventional   \n",
       "\n",
       "                                                                 1  \\\n",
       "SalesID                                                    1139248   \n",
       "SalePrice                                                    57000   \n",
       "MachineID                                                   117657   \n",
       "ModelID                                                         77   \n",
       "datasource                                                     121   \n",
       "auctioneerID                                                     3   \n",
       "YearMade                                                      1996   \n",
       "MachineHoursCurrentMeter                                      4640   \n",
       "UsageBand                                                      Low   \n",
       "saledate                                       2004-03-26 00:00:00   \n",
       "fiModelDesc                                                 950FII   \n",
       "fiBaseModel                                                    950   \n",
       "fiSecondaryDesc                                                  F   \n",
       "fiModelSeries                                                   II   \n",
       "fiModelDescriptor                                              NaN   \n",
       "ProductSize                                                 Medium   \n",
       "fiProductClassDesc        Wheel Loader - 150.0 to 175.0 Horsepower   \n",
       "state                                               North Carolina   \n",
       "ProductGroup                                                    WL   \n",
       "ProductGroupDesc                                      Wheel Loader   \n",
       "Drive_System                                                   NaN   \n",
       "Enclosure                                               EROPS w AC   \n",
       "Forks                                          None or Unspecified   \n",
       "Pad_Type                                                       NaN   \n",
       "Ride_Control                                   None or Unspecified   \n",
       "Stick                                                          NaN   \n",
       "Transmission                                                   NaN   \n",
       "Turbocharged                                                   NaN   \n",
       "Blade_Extension                                                NaN   \n",
       "Blade_Width                                                    NaN   \n",
       "Enclosure_Type                                                 NaN   \n",
       "Engine_Horsepower                                              NaN   \n",
       "Hydraulics                                                 2 Valve   \n",
       "Pushblock                                                      NaN   \n",
       "Ripper                                                         NaN   \n",
       "Scarifier                                                      NaN   \n",
       "Tip_Control                                                    NaN   \n",
       "Tire_Size                                                     23.5   \n",
       "Coupler                                        None or Unspecified   \n",
       "Coupler_System                                                 NaN   \n",
       "Grouser_Tracks                                                 NaN   \n",
       "Hydraulics_Flow                                                NaN   \n",
       "Track_Type                                                     NaN   \n",
       "Undercarriage_Pad_Width                                        NaN   \n",
       "Stick_Length                                                   NaN   \n",
       "Thumb                                                          NaN   \n",
       "Pattern_Changer                                                NaN   \n",
       "Grouser_Type                                                   NaN   \n",
       "Backhoe_Mounting                                               NaN   \n",
       "Blade_Type                                                     NaN   \n",
       "Travel_Controls                                                NaN   \n",
       "Differential_Type                                         Standard   \n",
       "Steering_Controls                                     Conventional   \n",
       "\n",
       "                                                                          2  \\\n",
       "SalesID                                                             1139249   \n",
       "SalePrice                                                             10000   \n",
       "MachineID                                                            434808   \n",
       "ModelID                                                                7009   \n",
       "datasource                                                              121   \n",
       "auctioneerID                                                              3   \n",
       "YearMade                                                               2001   \n",
       "MachineHoursCurrentMeter                                               2838   \n",
       "UsageBand                                                              High   \n",
       "saledate                                                2004-02-26 00:00:00   \n",
       "fiModelDesc                                                             226   \n",
       "fiBaseModel                                                             226   \n",
       "fiSecondaryDesc                                                         NaN   \n",
       "fiModelSeries                                                           NaN   \n",
       "fiModelDescriptor                                                       NaN   \n",
       "ProductSize                                                             NaN   \n",
       "fiProductClassDesc        Skid Steer Loader - 1351.0 to 1601.0 Lb Operat...   \n",
       "state                                                              New York   \n",
       "ProductGroup                                                            SSL   \n",
       "ProductGroupDesc                                         Skid Steer Loaders   \n",
       "Drive_System                                                            NaN   \n",
       "Enclosure                                                             OROPS   \n",
       "Forks                                                   None or Unspecified   \n",
       "Pad_Type                                                                NaN   \n",
       "Ride_Control                                                            NaN   \n",
       "Stick                                                                   NaN   \n",
       "Transmission                                                            NaN   \n",
       "Turbocharged                                                            NaN   \n",
       "Blade_Extension                                                         NaN   \n",
       "Blade_Width                                                             NaN   \n",
       "Enclosure_Type                                                          NaN   \n",
       "Engine_Horsepower                                                       NaN   \n",
       "Hydraulics                                                        Auxiliary   \n",
       "Pushblock                                                               NaN   \n",
       "Ripper                                                                  NaN   \n",
       "Scarifier                                                               NaN   \n",
       "Tip_Control                                                             NaN   \n",
       "Tire_Size                                                               NaN   \n",
       "Coupler                                                 None or Unspecified   \n",
       "Coupler_System                                          None or Unspecified   \n",
       "Grouser_Tracks                                          None or Unspecified   \n",
       "Hydraulics_Flow                                                    Standard   \n",
       "Track_Type                                                              NaN   \n",
       "Undercarriage_Pad_Width                                                 NaN   \n",
       "Stick_Length                                                            NaN   \n",
       "Thumb                                                                   NaN   \n",
       "Pattern_Changer                                                         NaN   \n",
       "Grouser_Type                                                            NaN   \n",
       "Backhoe_Mounting                                                        NaN   \n",
       "Blade_Type                                                              NaN   \n",
       "Travel_Controls                                                         NaN   \n",
       "Differential_Type                                                       NaN   \n",
       "Steering_Controls                                                       NaN   \n",
       "\n",
       "                                                                          3  \\\n",
       "SalesID                                                             1139251   \n",
       "SalePrice                                                             38500   \n",
       "MachineID                                                           1026470   \n",
       "ModelID                                                                 332   \n",
       "datasource                                                              121   \n",
       "auctioneerID                                                              3   \n",
       "YearMade                                                               2001   \n",
       "MachineHoursCurrentMeter                                               3486   \n",
       "UsageBand                                                              High   \n",
       "saledate                                                2011-05-19 00:00:00   \n",
       "fiModelDesc                                                        PC120-6E   \n",
       "fiBaseModel                                                           PC120   \n",
       "fiSecondaryDesc                                                         NaN   \n",
       "fiModelSeries                                                           -6E   \n",
       "fiModelDescriptor                                                       NaN   \n",
       "ProductSize                                                           Small   \n",
       "fiProductClassDesc        Hydraulic Excavator, Track - 12.0 to 14.0 Metr...   \n",
       "state                                                                 Texas   \n",
       "ProductGroup                                                            TEX   \n",
       "ProductGroupDesc                                           Track Excavators   \n",
       "Drive_System                                                            NaN   \n",
       "Enclosure                                                        EROPS w AC   \n",
       "Forks                                                                   NaN   \n",
       "Pad_Type                                                                NaN   \n",
       "Ride_Control                                                            NaN   \n",
       "Stick                                                                   NaN   \n",
       "Transmission                                                            NaN   \n",
       "Turbocharged                                                            NaN   \n",
       "Blade_Extension                                                         NaN   \n",
       "Blade_Width                                                             NaN   \n",
       "Enclosure_Type                                                          NaN   \n",
       "Engine_Horsepower                                                       NaN   \n",
       "Hydraulics                                                          2 Valve   \n",
       "Pushblock                                                               NaN   \n",
       "Ripper                                                                  NaN   \n",
       "Scarifier                                                               NaN   \n",
       "Tip_Control                                                             NaN   \n",
       "Tire_Size                                                               NaN   \n",
       "Coupler                                                 None or Unspecified   \n",
       "Coupler_System                                                          NaN   \n",
       "Grouser_Tracks                                                          NaN   \n",
       "Hydraulics_Flow                                                         NaN   \n",
       "Track_Type                                                              NaN   \n",
       "Undercarriage_Pad_Width                                                 NaN   \n",
       "Stick_Length                                                            NaN   \n",
       "Thumb                                                                   NaN   \n",
       "Pattern_Changer                                                         NaN   \n",
       "Grouser_Type                                                            NaN   \n",
       "Backhoe_Mounting                                                        NaN   \n",
       "Blade_Type                                                              NaN   \n",
       "Travel_Controls                                                         NaN   \n",
       "Differential_Type                                                       NaN   \n",
       "Steering_Controls                                                       NaN   \n",
       "\n",
       "                                                                          4  \n",
       "SalesID                                                             1139253  \n",
       "SalePrice                                                             11000  \n",
       "MachineID                                                           1057373  \n",
       "ModelID                                                               17311  \n",
       "datasource                                                              121  \n",
       "auctioneerID                                                              3  \n",
       "YearMade                                                               2007  \n",
       "MachineHoursCurrentMeter                                                722  \n",
       "UsageBand                                                            Medium  \n",
       "saledate                                                2009-07-23 00:00:00  \n",
       "fiModelDesc                                                            S175  \n",
       "fiBaseModel                                                            S175  \n",
       "fiSecondaryDesc                                                         NaN  \n",
       "fiModelSeries                                                           NaN  \n",
       "fiModelDescriptor                                                       NaN  \n",
       "ProductSize                                                             NaN  \n",
       "fiProductClassDesc        Skid Steer Loader - 1601.0 to 1751.0 Lb Operat...  \n",
       "state                                                              New York  \n",
       "ProductGroup                                                            SSL  \n",
       "ProductGroupDesc                                         Skid Steer Loaders  \n",
       "Drive_System                                                            NaN  \n",
       "Enclosure                                                             EROPS  \n",
       "Forks                                                   None or Unspecified  \n",
       "Pad_Type                                                                NaN  \n",
       "Ride_Control                                                            NaN  \n",
       "Stick                                                                   NaN  \n",
       "Transmission                                                            NaN  \n",
       "Turbocharged                                                            NaN  \n",
       "Blade_Extension                                                         NaN  \n",
       "Blade_Width                                                             NaN  \n",
       "Enclosure_Type                                                          NaN  \n",
       "Engine_Horsepower                                                       NaN  \n",
       "Hydraulics                                                        Auxiliary  \n",
       "Pushblock                                                               NaN  \n",
       "Ripper                                                                  NaN  \n",
       "Scarifier                                                               NaN  \n",
       "Tip_Control                                                             NaN  \n",
       "Tire_Size                                                               NaN  \n",
       "Coupler                                                 None or Unspecified  \n",
       "Coupler_System                                          None or Unspecified  \n",
       "Grouser_Tracks                                          None or Unspecified  \n",
       "Hydraulics_Flow                                                    Standard  \n",
       "Track_Type                                                              NaN  \n",
       "Undercarriage_Pad_Width                                                 NaN  \n",
       "Stick_Length                                                            NaN  \n",
       "Thumb                                                                   NaN  \n",
       "Pattern_Changer                                                         NaN  \n",
       "Grouser_Type                                                            NaN  \n",
       "Backhoe_Mounting                                                        NaN  \n",
       "Blade_Type                                                              NaN  \n",
       "Travel_Controls                                                         NaN  \n",
       "Differential_Type                                                       NaN  \n",
       "Steering_Controls                                                       NaN  "
      ]
     },
     "execution_count": 4,
     "metadata": {},
     "output_type": "execute_result"
    }
   ],
   "source": [
    "df_orig.head().T"
   ]
  },
  {
   "cell_type": "code",
   "execution_count": 5,
   "metadata": {},
   "outputs": [
    {
     "data": {
      "text/plain": [
       "Tip_Control                 93.70%\n",
       "Blade_Extension             93.70%\n",
       "Blade_Width                 93.70%\n",
       "Enclosure_Type              93.70%\n",
       "Engine_Horsepower           93.70%\n",
       "Pushblock                   93.70%\n",
       "Scarifier                   93.70%\n",
       "Hydraulics_Flow             89.13%\n",
       "Grouser_Tracks              89.13%\n",
       "Coupler_System              89.10%\n",
       "fiModelSeries               85.78%\n",
       "Steering_Controls           82.67%\n",
       "Differential_Type           82.66%\n",
       "UsageBand                   82.15%\n",
       "fiModelDescriptor           81.87%\n",
       "Backhoe_Mounting            80.44%\n",
       "Pad_Type                    80.35%\n",
       "Stick                       80.35%\n",
       "Turbocharged                80.35%\n",
       "Travel_Controls             80.16%\n",
       "Blade_Type                  80.16%\n",
       "Tire_Size                   76.34%\n",
       "Track_Type                  75.24%\n",
       "Grouser_Type                75.24%\n",
       "Pattern_Changer             75.22%\n",
       "Stick_Length                75.22%\n",
       "Thumb                       75.20%\n",
       "Undercarriage_Pad_Width     75.06%\n",
       "Ripper                      74.09%\n",
       "Drive_System                74.05%\n",
       "MachineHoursCurrentMeter    64.26%\n",
       "Ride_Control                62.99%\n",
       "Transmission                54.44%\n",
       "ProductSize                 52.49%\n",
       "Forks                       52.09%\n",
       "Coupler                     46.53%\n",
       "auctioneerID                 4.88%\n",
       "fiSecondaryDesc             34.10%\n",
       "Hydraulics                  20.01%\n",
       "Enclosure                    0.08%\n",
       "ProductGroupDesc             0.00%\n",
       "YearMade                     0.00%\n",
       "SalePrice                    0.00%\n",
       "MachineID                    0.00%\n",
       "ModelID                      0.00%\n",
       "datasource                   0.00%\n",
       "saledate                     0.00%\n",
       "ProductGroup                 0.00%\n",
       "fiModelDesc                  0.00%\n",
       "fiBaseModel                  0.00%\n",
       "fiProductClassDesc           0.00%\n",
       "state                        0.00%\n",
       "SalesID                      0.00%\n",
       "dtype: object"
      ]
     },
     "execution_count": 5,
     "metadata": {},
     "output_type": "execute_result"
    }
   ],
   "source": [
    "# Calculating the percentage of NaN values\n",
    "df_orig.isna().sum().apply(lambda x: f\"{(x*100/(len(df_orig))):.2f}%\").sort_values(ascending=False)"
   ]
  },
  {
   "cell_type": "markdown",
   "metadata": {},
   "source": [
    "## Preprocesing dataset // Feature Engineering\n",
    "\n",
    "To proceed with the machine learning model building, we have to turn all of our data into numbers and there can´t be any missing values. I will:\n",
    "\n",
    "* Enrich the dataset with time features extracted from the original `saledate` datetime.\n",
    "* Fill the _NaN_ values of the numeric features with the median value.\n",
    "* Add a new boolean (or binary) features to indicate those numeric rows who had missing values.\n",
    "* If there is 7 or more uniques values, convert the columns with string datatype into 'Category' datatype and then to a numeric one.\n",
    "* From the string datatype columns that less than 7 or uniques values, I´ll create dummies\n",
    "\n",
    "Also, as our model must be trained on training data and validated with a validation dataset, we will split the original dataset. Those must be formatted in the same way, as well as the test dataset."
   ]
  },
  {
   "cell_type": "markdown",
   "metadata": {},
   "source": [
    "**Time Features Extraction Step**"
   ]
  },
  {
   "cell_type": "markdown",
   "metadata": {},
   "source": [
    "When working with time series data, it's a good idea to make sure any date data is the format of a datetime object (a Python data type which encodes specific information about dates).\n",
    "\n",
    "Also, as we're working on a time series problem and trying to predict future examples given past examples, it makes sense to sort our data by date. \n",
    "\n",
    "As we are working with a date-time feature, the `add_datepart` method extracts particular date fields from a complete datetime for the purpose of constructing categoricals. Without expanding the date-time into these additional fields, we can’t capture any trend/cyclical behavior as a function of time at any of these granularities. With this, we can enrich a bit our dataset with as much information as possible."
   ]
  },
  {
   "cell_type": "code",
   "execution_count": 6,
   "metadata": {},
   "outputs": [],
   "source": [
    "def add_datepart(df, fldname, drop=True):\n",
    "    # New features to make from the date feature\n",
    "    new_features = ['Year', 'Month', 'Week', 'Day', 'Dayofweek', \n",
    "                    'Dayofyear', 'Is_month_end', 'Is_month_start', \n",
    "                    'Is_quarter_end', 'Is_quarter_start', 'Is_year_end', \n",
    "                    'Is_year_start']\n",
    "    \n",
    "    fld = df[fldname]\n",
    "    \n",
    "    # Make sure that the feature dtype is datetime\n",
    "    if not np.issubdtype(fld.dtype, np.datetime64):\n",
    "        df[fldname] = fld = pd.to_datetime(fld, infer_datetime_format=True)\n",
    "        \n",
    "    # Delete the \"date\" substring from the feature title\n",
    "    targ_pre = re.sub('[Dd]ate$', '', fldname)\n",
    "    \n",
    "    # Add the new features\n",
    "    for feature in new_features:\n",
    "        df[targ_pre+feature] = getattr(fld.dt, feature.lower())  # look inside of an object and find an attribute with that name\n",
    "\n",
    "    \n",
    "    # the number of days since the first day in the dataset \n",
    "    df[targ_pre+'Elapsed'] = fld.astype(np.int64) // 10**9\n",
    "    \n",
    "    # Sort DataFrame in date order\n",
    "    df.sort_values(by=[\"saledate\"], inplace=True, ascending=True)\n",
    "    \n",
    "    # Now we've enriched our DataFrame with date time features, we can remove the original feature\n",
    "    if drop: df.drop(fldname, axis=1, inplace=True)"
   ]
  },
  {
   "cell_type": "markdown",
   "metadata": {},
   "source": [
    "Apply `datepart` method to both df_origin and df_test"
   ]
  },
  {
   "cell_type": "code",
   "execution_count": 7,
   "metadata": {},
   "outputs": [],
   "source": [
    "add_datepart(df_orig, 'saledate')\n",
    "add_datepart(df_test, 'saledate')"
   ]
  },
  {
   "cell_type": "markdown",
   "metadata": {},
   "source": [
    "**Split data into training and validation**"
   ]
  },
  {
   "cell_type": "markdown",
   "metadata": {},
   "source": [
    "Since we're working on a time series problem, i.e., using past events to try and predict future events, randomly splitting our data into train and validation sets using something like train_test_split() wouldn't work.\n",
    "\n",
    "Instead, we split our data into training and validation using the date each sample occured."
   ]
  },
  {
   "cell_type": "code",
   "execution_count": 8,
   "metadata": {},
   "outputs": [],
   "source": [
    "df_train = df_orig[df_orig.saleYear < 2012].copy()\n",
    "df_val = df_orig[df_orig.saleYear >= 2012].copy()"
   ]
  },
  {
   "cell_type": "markdown",
   "metadata": {},
   "source": [
    "**Preproccess Datasets**\n",
    "\n",
    "Filling _NaNs_, changing strings dtype to categories, and adding features.\n",
    "\n",
    "**Note:** `Usage Band`, as an ordinal category variable, has as categories `'High', 'Low', 'Medium'`, in that order. As it is a little wierd, I´ll change that to `'High', 'Medium', 'Low'`. This should be a numeric feature, so I´ll transform it before the script make dummies from it.\n",
    "\n",
    "**Note 2:** as `fiModelDesc` is a concatenation of fiBaseModel & fiSecondaryDesc & fiModelSeries & fiModelDescriptor, I´ll drop it to know better which of the other features is important."
   ]
  },
  {
   "cell_type": "code",
   "execution_count": 9,
   "metadata": {},
   "outputs": [],
   "source": [
    "def preprocess_data(df, max_n_cat=7):\n",
    "    \"\"\"\n",
    "    Performs transformations on df and returns transformed df.\n",
    "    \"\"\"\n",
    "    # Drop fiModelDesc feature\n",
    "    df.drop(columns='fiModelDesc', inplace=True)\n",
    "    \n",
    "    # Transform UsageBand feature\n",
    "    df['UsageBand'] = df['UsageBand'].astype('category').cat.as_ordered()\n",
    "    df['UsageBand'].cat.set_categories(['High', 'Medium', 'Low'],\n",
    "                                               ordered=True, inplace=True)\n",
    "    df.loc[:,'UsageBand'] = pd.Categorical('UsageBand').codes+1\n",
    "    \n",
    "    for name, column in df.items():\n",
    "        # Numeric Rows\n",
    "        if pd.api.types.is_numeric_dtype(column):\n",
    "            if pd.isnull(column).sum():\n",
    "                # Add a binary column which tells us if the data was missing or not\n",
    "                df[name+\"_is_missing\"] = pd.isnull(column)\n",
    "                # Fill missing numeric values with median\n",
    "                df.loc[:,name] = column.fillna(column.median())\n",
    "    \n",
    "        # Categorical Rows\n",
    "        if not pd.api.types.is_numeric_dtype(column):\n",
    "            # Change dtype to 'category'\n",
    "            df[name] = column.astype('category').cat.as_ordered()\n",
    "            if len(df[name].cat.categories)>max_n_cat:\n",
    "                # Numericalize; we add +1 to the category code because pandas encodes missing categories as -1\n",
    "                df.loc[:,name] = pd.Categorical(column).codes+1\n",
    "              \n",
    "    df = pd.get_dummies(df)     \n",
    "                \n",
    "    return df"
   ]
  },
  {
   "cell_type": "code",
   "execution_count": 10,
   "metadata": {},
   "outputs": [],
   "source": [
    "df_train = preprocess_data(df_train)\n",
    "df_val = preprocess_data(df_val)\n",
    "df_test = preprocess_data(df_test);"
   ]
  },
  {
   "cell_type": "code",
   "execution_count": 11,
   "metadata": {},
   "outputs": [
    {
     "name": "stdout",
     "output_type": "stream",
     "text": [
      "Train dataset shape: (401125, 140)\n",
      "Validation dataset shape: (11573, 138)\n",
      "Test dataset shape: (12457, 134)\n"
     ]
    }
   ],
   "source": [
    "print(f\"Train dataset shape: {df_train.shape}\")\n",
    "print(f\"Validation dataset shape: {df_val.shape}\")\n",
    "print(f\"Test dataset shape: {df_test.shape}\")"
   ]
  },
  {
   "cell_type": "markdown",
   "metadata": {},
   "source": [
    "**We can see that the three datasets has different number of columns**\n",
    "\n",
    "After preprocessing, the test dataset has 134 columns, the validation has 138,  and the training dataset has 140 columns.\n",
    "Seems that a few features are missing (disregarding `SalePrice`, that the test dataset shouldn´t have). But this isn´t true:"
   ]
  },
  {
   "cell_type": "code",
   "execution_count": 12,
   "metadata": {},
   "outputs": [
    {
     "name": "stdout",
     "output_type": "stream",
     "text": [
      "Missing features in df_train: {'Transmission_Autoshift', 'Transmission_Hydrostatic', 'Transmission_Powershift', 'Transmission_Standard', 'Transmission_Powershuttle', 'Transmission_Direct Drive', 'Transmission_None or Unspecified'} \n",
      "\n",
      "Missing features in df_val: {'Differential_Type_Locking', 'Transmission', 'Enclosure_NO ROPS', 'Enclosure_None or Unspecified', 'auctioneerID_is_missing', 'Grouser_Type_Single', 'Steering_Controls_No', 'Steering_Controls_Wheel', 'Backhoe_Mounting_Yes'}\n"
     ]
    }
   ],
   "source": [
    "print(\"Missing features in df_train:\", set(df_val.columns) - set(df_train.columns), \"\\n\")\n",
    "print(\"Missing features in df_val:\", set(df_train.columns) - set(df_val.columns))"
   ]
  },
  {
   "cell_type": "code",
   "execution_count": 13,
   "metadata": {},
   "outputs": [
    {
     "name": "stdout",
     "output_type": "stream",
     "text": [
      "Missing features in df_train: {'Transmission_Autoshift', 'Transmission_Hydrostatic', 'Transmission_Powershift', 'Transmission_Standard', 'Transmission_Powershuttle', 'Transmission_Direct Drive', 'Transmission_None or Unspecified'} \n",
      "\n",
      "Missing features in df_test: {'Enclosure_EROPS AC', 'Differential_Type_Locking', 'Transmission', 'Enclosure_NO ROPS', 'Grouser_Type_Single', 'Travel_Controls_1 Speed', 'Enclosure_None or Unspecified', 'auctioneerID_is_missing', 'Steering_Controls_No', 'Steering_Controls_Wheel', 'SalePrice', 'Backhoe_Mounting_Yes', 'Pattern_Changer_No'}\n"
     ]
    }
   ],
   "source": [
    "print(\"Missing features in df_train:\", set(df_test.columns) - set(df_train.columns), \"\\n\")\n",
    "print(\"Missing features in df_test:\", set(df_train.columns) - set(df_test.columns))"
   ]
  },
  {
   "cell_type": "code",
   "execution_count": 14,
   "metadata": {},
   "outputs": [
    {
     "name": "stdout",
     "output_type": "stream",
     "text": [
      "{'Enclosure_EROPS AC', 'SalePrice', 'Pattern_Changer_No', 'Travel_Controls_1 Speed'}\n"
     ]
    }
   ],
   "source": [
    "# Comparing df_test and df_val\n",
    "# The features mssing in df_test but not in df_val\n",
    "print((set(df_train.columns) - set(df_test.columns)) - (set(df_train.columns) - set(df_val.columns)))"
   ]
  },
  {
   "cell_type": "markdown",
   "metadata": {},
   "source": [
    "Comparing the missing features in `df_train` comparing with `df_val` y `df_test`, we can see that there are missing the same features.\n",
    "`df_val` and `df_test` have missing almost the same features. We have to manually adjust this adding the feature with a `False` or `0` default value."
   ]
  },
  {
   "cell_type": "code",
   "execution_count": 15,
   "metadata": {},
   "outputs": [],
   "source": [
    "train_new_features = ['Transmission_Standard', 'Transmission_None or Unspecified', \n",
    "                      'Transmission_Direct Drive', 'Transmission_Autoshift', \n",
    "                      'Transmission_Hydrostatic', 'Transmission_Powershuttle', \n",
    "                      'Transmission_Powershift']\n",
    "\n",
    "for feature in train_new_features:\n",
    "    df_train[feature] = 0"
   ]
  },
  {
   "cell_type": "code",
   "execution_count": 16,
   "metadata": {},
   "outputs": [],
   "source": [
    "val_new_features = ['Enclosure_NO ROPS', 'auctioneerID_is_missing', 'Steering_Controls_Wheel', \n",
    "                    'Differential_Type_Locking', 'Transmission', 'Grouser_Type_Single', \n",
    "                    'Steering_Controls_No', 'Backhoe_Mounting_Yes', 'Enclosure_None or Unspecified']\n",
    "\n",
    "for feature in val_new_features:\n",
    "    df_val[feature] = 0"
   ]
  },
  {
   "cell_type": "code",
   "execution_count": 17,
   "metadata": {},
   "outputs": [],
   "source": [
    "test_new_features = ['Enclosure_NO ROPS', 'Travel_Controls_1 Speed', 'Enclosure_EROPS AC', \n",
    "                     'Steering_Controls_Wheel', 'Differential_Type_Locking', 'Transmission', \n",
    "                     'Grouser_Type_Single', 'Steering_Controls_No', 'Backhoe_Mounting_Yes', \n",
    "                     'Enclosure_None or Unspecified', 'Pattern_Changer_No']\n",
    "\n",
    "for feature in test_new_features:\n",
    "    df_test[feature] = 0"
   ]
  },
  {
   "cell_type": "code",
   "execution_count": 18,
   "metadata": {},
   "outputs": [],
   "source": [
    "# Manually adjust df_test and df_val to have auctioneerID_is_missing column\n",
    "df_test[\"auctioneerID_is_missing\"] = False\n",
    "df_val[\"auctioneerID_is_missing\"] = False"
   ]
  },
  {
   "cell_type": "code",
   "execution_count": 19,
   "metadata": {},
   "outputs": [
    {
     "name": "stdout",
     "output_type": "stream",
     "text": [
      "Train dataset shape: (401125, 147)\n",
      "Validation dataset shape: (11573, 147)\n",
      "Test dataset shape: (12457, 146)\n"
     ]
    }
   ],
   "source": [
    "print(f\"Train dataset shape: {df_train.shape}\")\n",
    "print(f\"Validation dataset shape: {df_val.shape}\")\n",
    "print(f\"Test dataset shape: {df_test.shape}\")"
   ]
  },
  {
   "cell_type": "markdown",
   "metadata": {},
   "source": [
    "### Save Processed Data"
   ]
  },
  {
   "cell_type": "code",
   "execution_count": 20,
   "metadata": {},
   "outputs": [],
   "source": [
    "# Save preprocessed data\n",
    "df_train.to_csv(\"data/df_train_preprocessed.csv\", index=False)\n",
    "df_val.to_csv(\"data/df_val_preprocessed.csv\", index=False)\n",
    "df_test.to_csv(\"data/df_test_preprocessed.csv\", index=False)"
   ]
  },
  {
   "cell_type": "markdown",
   "metadata": {},
   "source": [
    "## Splitting data and building a baseline model"
   ]
  },
  {
   "cell_type": "code",
   "execution_count": 22,
   "metadata": {},
   "outputs": [
    {
     "data": {
      "text/plain": [
       "((401125, 146), (401125,), (11573, 146), (11573,))"
      ]
     },
     "execution_count": 22,
     "metadata": {},
     "output_type": "execute_result"
    }
   ],
   "source": [
    "# Split data into X & y\n",
    "X_train, y_train = df_train.drop(\"SalePrice\", axis=1), df_train['SalePrice']\n",
    "X_valid, y_valid = df_val.drop(\"SalePrice\", axis=1), df_val['SalePrice']\n",
    "\n",
    "X_train.shape, y_train.shape, X_valid.shape, y_valid.shape"
   ]
  },
  {
   "cell_type": "code",
   "execution_count": 23,
   "metadata": {},
   "outputs": [
    {
     "name": "stdout",
     "output_type": "stream",
     "text": [
      "Wall time: 12min 9s\n"
     ]
    },
    {
     "data": {
      "text/plain": [
       "RandomForestRegressor(bootstrap=True, ccp_alpha=0.0, criterion='mse',\n",
       "                      max_depth=None, max_features='auto', max_leaf_nodes=None,\n",
       "                      max_samples=None, min_impurity_decrease=0.0,\n",
       "                      min_impurity_split=None, min_samples_leaf=1,\n",
       "                      min_samples_split=2, min_weight_fraction_leaf=0.0,\n",
       "                      n_estimators=100, n_jobs=-1, oob_score=False,\n",
       "                      random_state=42, verbose=0, warm_start=False)"
      ]
     },
     "execution_count": 23,
     "metadata": {},
     "output_type": "execute_result"
    }
   ],
   "source": [
    "%%time\n",
    "# Instantiate baseline model\n",
    "rfr = RandomForestRegressor(n_jobs=-1,\n",
    "                            random_state=42)\n",
    "\n",
    "# Fit the model\n",
    "rfr.fit(X_train, y_train)"
   ]
  },
  {
   "cell_type": "markdown",
   "metadata": {},
   "source": [
    "## Evaluation"
   ]
  },
  {
   "cell_type": "markdown",
   "metadata": {},
   "source": [
    "Since Scikit-Learn doesn't have a function built-in for RMSLE, I'll create my own.\n",
    "\n",
    "We can calculate RMSLE by taking the square root of Scikit-Learn's `mean_squared_log_error` (MSLE). MSLE is the same as taking the log of mean squared error (MSE).\n",
    "\n",
    "I'll also calculate the score, MAE and R^2 for fun."
   ]
  },
  {
   "cell_type": "code",
   "execution_count": 26,
   "metadata": {},
   "outputs": [],
   "source": [
    "# Building an evaluation function (the competition uses RMSLE)\n",
    "def rmsle(y_test, y_preds):\n",
    "    \"\"\"\n",
    "    Caculates root mean squared log error between predictions and\n",
    "    true labels.\n",
    "    \"\"\"\n",
    "    return np.sqrt(mean_squared_log_error(y_test, y_preds))\n",
    "\n",
    "# Create function to evaluate model on a few different levels\n",
    "def show_scores(model, X_train, y_train, X_valid, y_valid):\n",
    "    train_preds = model.predict(X_train)\n",
    "    val_preds = model.predict(X_valid)\n",
    "    scores = {\"Training Score\": model.score(X_train, y_train),\n",
    "              \"Valid Score\": model.score(X_valid, y_valid),\n",
    "              \"Training MAE\": mean_absolute_error(y_train, train_preds),\n",
    "              \"Valid MAE\": mean_absolute_error(y_valid, val_preds),\n",
    "              \"Training RMSLE\": rmsle(y_train, train_preds),\n",
    "              \"Valid RMSLE\": rmsle(y_valid, val_preds),\n",
    "              \"Training R^2\": r2_score(y_train, train_preds),\n",
    "              \"Valid R^2\": r2_score(y_valid, val_preds)}\n",
    "    return scores"
   ]
  },
  {
   "cell_type": "code",
   "execution_count": 27,
   "metadata": {},
   "outputs": [
    {
     "data": {
      "text/plain": [
       "{'Training Score': 0.9876427806808535,\n",
       " 'Valid Score': -0.8961597387777005,\n",
       " 'Training MAE': 1571.7442003864132,\n",
       " 'Valid MAE': 28379.475950056163,\n",
       " 'Training RMSLE': 0.08410882828586089,\n",
       " 'Valid RMSLE': 1.0479492844688643,\n",
       " 'Training R^2': 0.9876427806808536,\n",
       " 'Valid R^2': -0.8961597387777005}"
      ]
     },
     "execution_count": 27,
     "metadata": {},
     "output_type": "execute_result"
    }
   ],
   "source": [
    "show_scores(rfr, X_train, y_train, X_valid, y_valid)"
   ]
  },
  {
   "cell_type": "markdown",
   "metadata": {},
   "source": [
    "|Baseline Model Results =>|**15/06/20**|**16/06/20**|**19/06/20**|\n",
    "|---|---|---|---|\n",
    "|**Training Score**||0.9878314986397124|0.9876427806808535|\n",
    "|**Valid Score**||0.4954883571441704|-0.8961597387777005|\n",
    "|**Training MAE**|1578.2025454908076|1554.2344154565283|1571.7442003864132|\n",
    "|**Valid MAE**|10946.84583167718|10933.536512572367|28379.475950056163|\n",
    "|**Training RMSLE**| 0.0842641288386881|0.0834032953287856|0.08410882828586089|\n",
    "|**Valid RMSLE**|0.4894047893975085|0.4830386922282415|1.0479492844688643|\n",
    "|**Training R^2**|0.987515142490979|0.9878314986397124|0.9876427806808536|\n",
    "|**Valid R^2**|0.4962797869924276|0.4954883571441704|-0.8961597387777005|\n",
    "\n",
    "**Diferences**\n",
    "* 16/06: Add Score for training and valid\n",
    "* 19/06: Modify preprocessing and add dummies"
   ]
  },
  {
   "cell_type": "markdown",
   "metadata": {},
   "source": [
    "### Hyerparameter tuning with RandomizedSearchCV"
   ]
  },
  {
   "cell_type": "markdown",
   "metadata": {},
   "source": [
    "Retraining an entire model would take far too long to continuing experimenting as fast as we want to.\n",
    "\n",
    "So what I'll do is take a sample of the training set and tune the hyperparameters on that before training a larger model.\n",
    "\n",
    "Setting `max_samples` to 10000 means every `n_estimator` (default 100), our RandomForestRegressor will only see 10000 random samples from our DataFrame instead of the entire 400,000.\n",
    "\n",
    "In other words, we'll be looking at a lot less samples and we'll get faster computation speeds. But we should expect our results to be worse than a model that has been trained on the whole dataset (the model has less samples to learn patterns from).\n",
    "\n",
    "Also, I´ll try 100 different combinations of hyperparameters (setting `n_iter` to 100 in RandomizedSearchCV). This will take time (not so much as we take less samples) to found the best results possible."
   ]
  },
  {
   "cell_type": "code",
   "execution_count": 20,
   "metadata": {},
   "outputs": [
    {
     "name": "stdout",
     "output_type": "stream",
     "text": [
      "Fitting 5 folds for each of 100 candidates, totalling 500 fits\n"
     ]
    },
    {
     "name": "stderr",
     "output_type": "stream",
     "text": [
      "[Parallel(n_jobs=1)]: Using backend SequentialBackend with 1 concurrent workers.\n",
      "[Parallel(n_jobs=1)]: Done 500 out of 500 | elapsed: 99.5min finished\n"
     ]
    },
    {
     "name": "stdout",
     "output_type": "stream",
     "text": [
      "Wall time: 1h 39min 45s\n"
     ]
    },
    {
     "data": {
      "text/plain": [
       "RandomizedSearchCV(cv=5, error_score=nan,\n",
       "                   estimator=RandomForestRegressor(bootstrap=True,\n",
       "                                                   ccp_alpha=0.0,\n",
       "                                                   criterion='mse',\n",
       "                                                   max_depth=None,\n",
       "                                                   max_features='auto',\n",
       "                                                   max_leaf_nodes=None,\n",
       "                                                   max_samples=None,\n",
       "                                                   min_impurity_decrease=0.0,\n",
       "                                                   min_impurity_split=None,\n",
       "                                                   min_samples_leaf=1,\n",
       "                                                   min_samples_split=2,\n",
       "                                                   min_weight_fraction_leaf=0.0,\n",
       "                                                   n_estimators=100, n_jobs=-1,\n",
       "                                                   oob_score=False,...\n",
       "                   param_distributions={'max_depth': [None, 3, 5, 10],\n",
       "                                        'max_features': [0.5, 1, 'sqrt',\n",
       "                                                         'auto'],\n",
       "                                        'max_samples': [10000],\n",
       "                                        'min_samples_leaf': array([ 1,  3,  5,  7,  9, 11, 13, 15, 17, 19]),\n",
       "                                        'min_samples_split': array([ 2,  4,  6,  8, 10, 12, 14, 16, 18]),\n",
       "                                        'n_estimators': array([10, 20, 30, 40, 50, 60, 70, 80, 90])},\n",
       "                   pre_dispatch='2*n_jobs', random_state=None, refit=True,\n",
       "                   return_train_score=False, scoring=None, verbose=True)"
      ]
     },
     "execution_count": 20,
     "metadata": {},
     "output_type": "execute_result"
    }
   ],
   "source": [
    "%%time\n",
    "# To avoid making the experiment way too long...\n",
    "# Building a model with a max_samples of 10000 (2% of the df_train total rows) \n",
    "# Cutting down on the max number of samples each estimator can see improves training time\n",
    "\n",
    "# Different RandomForestRegressor hyperparameters\n",
    "rfr_grid = {\"n_estimators\": np.arange(10, 100, 10),\n",
    "           \"max_depth\": [None, 3, 5, 10],\n",
    "           \"min_samples_split\": np.arange(2, 20, 2),\n",
    "           \"min_samples_leaf\": np.arange(1, 20, 2),\n",
    "           \"max_features\": [0.5, 1, \"sqrt\", \"auto\"],\n",
    "           \"max_samples\": [10000]}\n",
    "\n",
    "# Instantiate RandomizedSearchCV model\n",
    "rs_rfr = RandomizedSearchCV(RandomForestRegressor(n_jobs=-1,\n",
    "                                                  random_state=42),\n",
    "                            param_distributions=rfr_grid,\n",
    "                            n_iter=100,\n",
    "                            cv=5,\n",
    "                            verbose=True)\n",
    "\n",
    "# Fit the RandomizedSearchCV model\n",
    "rs_rfr.fit(X_train, y_train)"
   ]
  },
  {
   "cell_type": "code",
   "execution_count": 21,
   "metadata": {},
   "outputs": [
    {
     "data": {
      "text/plain": [
       "{'n_estimators': 50,\n",
       " 'min_samples_split': 18,\n",
       " 'min_samples_leaf': 1,\n",
       " 'max_samples': 10000,\n",
       " 'max_features': 0.5,\n",
       " 'max_depth': None}"
      ]
     },
     "execution_count": 21,
     "metadata": {},
     "output_type": "execute_result"
    }
   ],
   "source": [
    "# Find the best model hyperparameters\n",
    "rs_rfr.best_params_"
   ]
  },
  {
   "cell_type": "code",
   "execution_count": 22,
   "metadata": {},
   "outputs": [
    {
     "data": {
      "text/plain": [
       "{'Training Score': 0.8414421120111798,\n",
       " 'Valid Score': 0.6255851137340632,\n",
       " 'Training MAE': 5961.525364275401,\n",
       " 'Valid MAE': 11222.090659518934,\n",
       " 'Training RMSLE': 0.27341379466553184,\n",
       " 'Valid RMSLE': 0.4518202404887292,\n",
       " 'Training R^2': 0.8414421120111798,\n",
       " 'Valid R^2': 0.6255851137340632}"
      ]
     },
     "execution_count": 22,
     "metadata": {},
     "output_type": "execute_result"
    }
   ],
   "source": [
    "# Evaluate the RandomizedSearch model\n",
    "show_scores(rs_rfr, X_train, y_train, X_valid, y_valid)"
   ]
  },
  {
   "cell_type": "markdown",
   "metadata": {},
   "source": [
    "|Best Model Results =>|**15/06/20**|**16/06/20**\n",
    "|---|---|---|\n",
    "|**Training Score**||0.8414421120111798|\n",
    "|**Valid Score**||0.6255851137340632|\n",
    "|**Training MAE**|5668.518925945034|5961.525364275401|\n",
    "|**Valid MAE**|9951.304269903676|11222.090659518934|\n",
    "|**Training RMSLE**|0.26153333984126514|0.27341379466553184|\n",
    "|**Valid RMSLE**|0.3982957035815262|0.4518202404887292|\n",
    "|**Training R^2**|0.8546702339072436|0.8414421120111798|\n",
    "|**Valid R^2**| 0.654470145494018|0.6255851137340632|"
   ]
  },
  {
   "cell_type": "markdown",
   "metadata": {},
   "source": [
    "## Training a model with the best hyperparameters"
   ]
  },
  {
   "cell_type": "markdown",
   "metadata": {},
   "source": [
    "I'll instantiate a new model with the discovered best hyperparameters from RandomSearchCV and reset the `max_samples` back to its original value.\n",
    "\n",
    "|Best model =>|15-06-20|16-06-20|\n",
    "|---|---|---|\n",
    "|**n_estimators**|40|50|\n",
    "|**min_samples_split**|6|18|\n",
    "|**min_samples_leaf**|1|1|\n",
    "|**max_features**|'auto'|0.5|\n",
    "|**max_depth**|None|None|"
   ]
  },
  {
   "cell_type": "code",
   "execution_count": 28,
   "metadata": {},
   "outputs": [
    {
     "name": "stdout",
     "output_type": "stream",
     "text": [
      "Wall time: 7min 22s\n"
     ]
    },
    {
     "data": {
      "text/plain": [
       "RandomForestRegressor(bootstrap=True, ccp_alpha=0.0, criterion='mse',\n",
       "                      max_depth=None, max_features='auto', max_leaf_nodes=None,\n",
       "                      max_samples=None, min_impurity_decrease=0.0,\n",
       "                      min_impurity_split=None, min_samples_leaf=1,\n",
       "                      min_samples_split=6, min_weight_fraction_leaf=0.0,\n",
       "                      n_estimators=40, n_jobs=-1, oob_score=False,\n",
       "                      random_state=42, verbose=0, warm_start=False)"
      ]
     },
     "execution_count": 28,
     "metadata": {},
     "output_type": "execute_result"
    }
   ],
   "source": [
    "%%time\n",
    "\n",
    "# Most ideal hyperparamters\n",
    "ideal_rfr = RandomForestRegressor(n_estimators=40,\n",
    "                                  min_samples_leaf=1,\n",
    "                                  min_samples_split=6,\n",
    "                                  max_features='auto',\n",
    "                                  max_depth=None,\n",
    "                                  n_jobs=-1,\n",
    "                                  max_samples=None,\n",
    "                                  random_state=42) # random state so our results are reproducible\n",
    "\n",
    "# Fit the ideal model\n",
    "ideal_rfr.fit(X_train, y_train)"
   ]
  },
  {
   "cell_type": "code",
   "execution_count": 30,
   "metadata": {},
   "outputs": [
    {
     "data": {
      "text/plain": [
       "{'Training Score': 0.9791156379862039,\n",
       " 'Valid Score': -0.9674031747735029,\n",
       " 'Training MAE': 2017.7131627937456,\n",
       " 'Valid MAE': 28824.84056714153,\n",
       " 'Training RMSLE': 0.10553861990793115,\n",
       " 'Valid RMSLE': 1.061031384265801,\n",
       " 'Training R^2': 0.9791156379862039,\n",
       " 'Valid R^2': -0.967403174773503}"
      ]
     },
     "execution_count": 30,
     "metadata": {},
     "output_type": "execute_result"
    }
   ],
   "source": [
    "# Scores for ideal_model (trained on all the data)\n",
    "show_scores(ideal_rfr, X_train, y_train, X_valid, y_valid)"
   ]
  },
  {
   "cell_type": "markdown",
   "metadata": {},
   "source": [
    "|Ideal Model Results =>|**15/06/20**|**16/06/20**|**19/06/20** (Using 15/06)|\n",
    "|---|---|---|---|\n",
    "|**Training Score**||0.955380466718034|0.9791156379862039|\n",
    "|**Valid Score**||0.6263749133356231|-0.9674031747735029|\n",
    "|**Training MAE**|5668.518925945034|3083.1525205820253|2017.7131627937456|\n",
    "|**Valid MAE**|9951.304269903676|10901.451287052954|28824.84056714153|\n",
    "|**Training RMSLE**|0.26153333984126514|0.15066938309267888|0.10553861990793115|\n",
    "|**Valid RMSLE**|0.3982957035815262|0.4348869866401782|1.061031384265801|\n",
    "|**Training R^2**|0.8546702339072436|0.955380466718034|0.9791156379862039|\n",
    "|**Valid R^2**| 0.654470145494018|0.6263749133356231|-0.967403174773503|"
   ]
  },
  {
   "cell_type": "markdown",
   "metadata": {},
   "source": [
    "## Making predictions on test data"
   ]
  },
  {
   "cell_type": "code",
   "execution_count": 31,
   "metadata": {},
   "outputs": [],
   "source": [
    "# Make predictions on the test data\n",
    "test_preds = ideal_rfr.predict(df_test)"
   ]
  },
  {
   "cell_type": "markdown",
   "metadata": {},
   "source": [
    "When looking at the Kaggle submission requirements, we see that if we wanted to make a submission, the data is required to be in a certain format. Namely, a DataFrame containing the SalesID and the predicted SalePrice of the bulldozer.\n",
    "\n"
   ]
  },
  {
   "cell_type": "code",
   "execution_count": 39,
   "metadata": {},
   "outputs": [
    {
     "data": {
      "text/html": [
       "<div>\n",
       "<style scoped>\n",
       "    .dataframe tbody tr th:only-of-type {\n",
       "        vertical-align: middle;\n",
       "    }\n",
       "\n",
       "    .dataframe tbody tr th {\n",
       "        vertical-align: top;\n",
       "    }\n",
       "\n",
       "    .dataframe thead th {\n",
       "        text-align: right;\n",
       "    }\n",
       "</style>\n",
       "<table border=\"1\" class=\"dataframe\">\n",
       "  <thead>\n",
       "    <tr style=\"text-align: right;\">\n",
       "      <th></th>\n",
       "      <th>SalesID</th>\n",
       "      <th>SalesPrice</th>\n",
       "    </tr>\n",
       "  </thead>\n",
       "  <tbody>\n",
       "    <tr>\n",
       "      <th>1408</th>\n",
       "      <td>4317459</td>\n",
       "      <td>11376.161706</td>\n",
       "    </tr>\n",
       "    <tr>\n",
       "      <th>1023</th>\n",
       "      <td>4249784</td>\n",
       "      <td>16622.808892</td>\n",
       "    </tr>\n",
       "    <tr>\n",
       "      <th>1728</th>\n",
       "      <td>4392603</td>\n",
       "      <td>22523.973214</td>\n",
       "    </tr>\n",
       "    <tr>\n",
       "      <th>1167</th>\n",
       "      <td>4274831</td>\n",
       "      <td>24989.376488</td>\n",
       "    </tr>\n",
       "    <tr>\n",
       "      <th>1594</th>\n",
       "      <td>4362801</td>\n",
       "      <td>10675.096275</td>\n",
       "    </tr>\n",
       "  </tbody>\n",
       "</table>\n",
       "</div>"
      ],
      "text/plain": [
       "      SalesID    SalesPrice\n",
       "1408  4317459  11376.161706\n",
       "1023  4249784  16622.808892\n",
       "1728  4392603  22523.973214\n",
       "1167  4274831  24989.376488\n",
       "1594  4362801  10675.096275"
      ]
     },
     "execution_count": 39,
     "metadata": {},
     "output_type": "execute_result"
    }
   ],
   "source": [
    "# Format predictions into the same format Kaggle is after\n",
    "df_preds = pd.DataFrame()\n",
    "df_preds[\"SalesID\"] = df_test[\"SalesID\"]\n",
    "df_preds[\"SalesPrice\"] = test_preds\n",
    "df_preds.head()"
   ]
  },
  {
   "cell_type": "code",
   "execution_count": 40,
   "metadata": {},
   "outputs": [],
   "source": [
    "# Export prediction data\n",
    "df_preds.to_csv(\"data/test_predictions.csv\", index=False)"
   ]
  },
  {
   "cell_type": "markdown",
   "metadata": {},
   "source": [
    "## Find feature importance of our best model\n",
    "\n",
    "Now we seek to figure out which different attributes of the data were most importance when it comes to predicting the target variable `SalePrice`\n",
    "\n",
    "give me some more insight there.\n",
    "\n",
    "it tells us that, for example, if we are looking for how we are dealing with missing value, is there noise in the data, if it is a high cardinality categorical variable — they are all different steps we would take."
   ]
  },
  {
   "cell_type": "code",
   "execution_count": 32,
   "metadata": {},
   "outputs": [
    {
     "data": {
      "text/plain": [
       "array([3.01244828e-02, 1.07208256e-02, 6.56166538e-02, 3.30559741e-04,\n",
       "       3.68977272e-03, 1.31384298e-01, 3.12190884e-03, 0.00000000e+00,\n",
       "       4.09158340e-02, 6.97669262e-02, 9.98846047e-03, 1.68713512e-02,\n",
       "       9.14475921e-02, 7.12935181e-03, 2.80395499e-03, 1.77549372e-03,\n",
       "       4.43588524e-03, 7.63463127e-04, 1.03216000e-03, 1.06607530e-02,\n",
       "       2.49979395e-03, 1.39388510e-03, 3.32235128e-03, 7.01794824e-03,\n",
       "       3.55634466e-03, 5.87917120e-03, 1.75395709e-04, 1.31010182e-04,\n",
       "       1.73921522e-04, 9.84833675e-05, 5.70545405e-09, 0.00000000e+00,\n",
       "       8.90529502e-02, 2.57809784e-04, 4.32919966e-04, 6.00795211e-04,\n",
       "       7.85321861e-03, 2.62194392e-02, 1.62135962e-02, 1.16012996e-02,\n",
       "       3.16449899e-03, 5.98660184e-05, 1.11003019e-02, 3.10889409e-02,\n",
       "       5.16514030e-05, 7.59976388e-04, 8.64952236e-05, 6.35528909e-05,\n",
       "       6.70395837e-03, 2.32998976e-02, 5.56891632e-05, 8.90107341e-04,\n",
       "       4.79629128e-05, 4.21632246e-05, 5.08521236e-04, 7.91513617e-05,\n",
       "       1.28265525e-03, 6.12704732e-04, 7.56228492e-08, 2.28667243e-01,\n",
       "       1.01377969e-07, 5.37302781e-09, 6.41570404e-04, 2.30072456e-04,\n",
       "       1.83550923e-04, 1.77733832e-07, 2.07052919e-05, 9.04244432e-06,\n",
       "       8.48134292e-06, 2.06986208e-04, 2.56780114e-04, 2.69715816e-04,\n",
       "       7.11574647e-05, 6.34079094e-05, 2.49911106e-05, 9.76425726e-06,\n",
       "       1.68578234e-04, 1.77479151e-05, 5.04984572e-05, 5.70095385e-06,\n",
       "       1.23997490e-04, 1.45397642e-04, 1.00050920e-06, 8.45450350e-05,\n",
       "       2.57264881e-05, 5.26782320e-05, 7.56652928e-05, 1.52158645e-04,\n",
       "       4.43076432e-05, 8.46902993e-05, 2.46568479e-04, 5.81901658e-04,\n",
       "       1.91731003e-03, 2.69016866e-04, 5.92857158e-04, 9.54738882e-05,\n",
       "       1.12049119e-04, 2.13075406e-04, 7.87135836e-05, 6.37915946e-05,\n",
       "       2.22666912e-04, 3.16901158e-04, 4.46504309e-04, 2.05445227e-05,\n",
       "       1.11716222e-06, 2.32904565e-05, 3.81219321e-06, 1.18006011e-06,\n",
       "       4.03524449e-08, 3.99767058e-05, 7.33784714e-05, 1.50345699e-04,\n",
       "       2.62632730e-04, 1.91726475e-04, 3.25160705e-04, 3.78210673e-07,\n",
       "       1.63209648e-04, 2.20306465e-04, 2.06989295e-04, 4.07964161e-08,\n",
       "       2.35498788e-04, 1.65022484e-04, 7.31777352e-07, 1.87438855e-06,\n",
       "       2.39769949e-05, 4.27132817e-04, 6.94711833e-05, 4.85781250e-05,\n",
       "       1.23172117e-03, 5.34171961e-06, 3.10064691e-05, 8.09312927e-09,\n",
       "       8.80379002e-06, 1.28717703e-04, 2.41813156e-05, 1.00945418e-04,\n",
       "       1.16874337e-06, 7.58902018e-09, 1.67798057e-07, 0.00000000e+00,\n",
       "       0.00000000e+00, 0.00000000e+00, 0.00000000e+00, 0.00000000e+00,\n",
       "       0.00000000e+00, 0.00000000e+00])"
      ]
     },
     "execution_count": 32,
     "metadata": {},
     "output_type": "execute_result"
    }
   ],
   "source": [
    "ideal_rfr.feature_importances_"
   ]
  },
  {
   "cell_type": "code",
   "execution_count": 33,
   "metadata": {},
   "outputs": [],
   "source": [
    "# Helper function for plotting feature importance\n",
    "def plot_features(columns, importances, n=20):\n",
    "    df = (pd.DataFrame({\"features\": columns,\n",
    "                        \"feature_importances\": importances})\n",
    "          .sort_values(\"feature_importances\", ascending=False)\n",
    "          .reset_index(drop=True))\n",
    "    \n",
    "    # Plot the dataframe\n",
    "    sns.barplot(x=\"feature_importances\",\n",
    "                y=\"features\",\n",
    "                data=df[:n],\n",
    "                orient=\"h\")"
   ]
  },
  {
   "cell_type": "code",
   "execution_count": 34,
   "metadata": {},
   "outputs": [
    {
     "data": {
      "image/png": "[encoded data removed]",
      "text/plain": [
       "<Figure size 432x288 with 1 Axes>"
      ]
     },
     "metadata": {
      "needs_background": "light"
     },
     "output_type": "display_data"
    }
   ],
   "source": [
    "plot_features(X_train.columns, ideal_rfr.feature_importances_)"
   ]
  },
  {
   "cell_type": "markdown",
   "metadata": {},
   "source": [
    "Then zooming in, turning it into a bar plot and then find where it becomes flat (~0.005).\n",
    "\n",
    "let’s just try grabbing the columns where it is greater than 0.005, create a new data frame called df_keep which is df_train with just those kept columns, create a new training and validation sets with just those columns, create a new random forest, and look to see how the validation set score. "
   ]
  },
  {
   "cell_type": "code",
   "execution_count": 35,
   "metadata": {},
   "outputs": [
    {
     "data": {
      "text/html": [
       "<div>\n",
       "<style scoped>\n",
       "    .dataframe tbody tr th:only-of-type {\n",
       "        vertical-align: middle;\n",
       "    }\n",
       "\n",
       "    .dataframe tbody tr th {\n",
       "        vertical-align: top;\n",
       "    }\n",
       "\n",
       "    .dataframe thead th {\n",
       "        text-align: right;\n",
       "    }\n",
       "</style>\n",
       "<table border=\"1\" class=\"dataframe\">\n",
       "  <thead>\n",
       "    <tr style=\"text-align: right;\">\n",
       "      <th></th>\n",
       "      <th>cols</th>\n",
       "      <th>imp</th>\n",
       "    </tr>\n",
       "  </thead>\n",
       "  <tbody>\n",
       "    <tr>\n",
       "      <th>59</th>\n",
       "      <td>Enclosure_EROPS w AC</td>\n",
       "      <td>0.228667</td>\n",
       "    </tr>\n",
       "    <tr>\n",
       "      <th>5</th>\n",
       "      <td>YearMade</td>\n",
       "      <td>0.131384</td>\n",
       "    </tr>\n",
       "    <tr>\n",
       "      <th>12</th>\n",
       "      <td>fiProductClassDesc</td>\n",
       "      <td>0.091448</td>\n",
       "    </tr>\n",
       "    <tr>\n",
       "      <th>32</th>\n",
       "      <td>saleElapsed</td>\n",
       "      <td>0.089053</td>\n",
       "    </tr>\n",
       "    <tr>\n",
       "      <th>9</th>\n",
       "      <td>fiSecondaryDesc</td>\n",
       "      <td>0.069767</td>\n",
       "    </tr>\n",
       "    <tr>\n",
       "      <th>2</th>\n",
       "      <td>ModelID</td>\n",
       "      <td>0.065617</td>\n",
       "    </tr>\n",
       "    <tr>\n",
       "      <th>8</th>\n",
       "      <td>fiBaseModel</td>\n",
       "      <td>0.040916</td>\n",
       "    </tr>\n",
       "    <tr>\n",
       "      <th>43</th>\n",
       "      <td>ProductGroup_SSL</td>\n",
       "      <td>0.031089</td>\n",
       "    </tr>\n",
       "    <tr>\n",
       "      <th>0</th>\n",
       "      <td>SalesID</td>\n",
       "      <td>0.030124</td>\n",
       "    </tr>\n",
       "    <tr>\n",
       "      <th>37</th>\n",
       "      <td>ProductSize_Large / Medium</td>\n",
       "      <td>0.026219</td>\n",
       "    </tr>\n",
       "  </tbody>\n",
       "</table>\n",
       "</div>"
      ],
      "text/plain": [
       "                          cols       imp\n",
       "59        Enclosure_EROPS w AC  0.228667\n",
       "5                     YearMade  0.131384\n",
       "12          fiProductClassDesc  0.091448\n",
       "32                 saleElapsed  0.089053\n",
       "9              fiSecondaryDesc  0.069767\n",
       "2                      ModelID  0.065617\n",
       "8                  fiBaseModel  0.040916\n",
       "43            ProductGroup_SSL  0.031089\n",
       "0                      SalesID  0.030124\n",
       "37  ProductSize_Large / Medium  0.026219"
      ]
     },
     "execution_count": 35,
     "metadata": {},
     "output_type": "execute_result"
    }
   ],
   "source": [
    "fi = pd.DataFrame({'cols':X_train.columns, 'imp':ideal_rfr.feature_importances_}\n",
    "                       ).sort_values('imp', ascending=False)\n",
    "fi[:10]"
   ]
  },
  {
   "cell_type": "code",
   "execution_count": 36,
   "metadata": {},
   "outputs": [
    {
     "data": {
      "text/plain": [
       "23"
      ]
     },
     "execution_count": 36,
     "metadata": {},
     "output_type": "execute_result"
    }
   ],
   "source": [
    "to_keep = fi[fi.imp>0.005].cols\n",
    "len(to_keep)"
   ]
  },
  {
   "cell_type": "code",
   "execution_count": 39,
   "metadata": {},
   "outputs": [
    {
     "data": {
      "text/plain": [
       "((401125, 23), (11573, 23))"
      ]
     },
     "execution_count": 39,
     "metadata": {},
     "output_type": "execute_result"
    }
   ],
   "source": [
    "X_train_keep = df_train[to_keep].copy()\n",
    "X_val_keep = df_val[to_keep].copy()\n",
    "\n",
    "X_train_keep.shape, X_val_keep.shape"
   ]
  },
  {
   "cell_type": "code",
   "execution_count": 41,
   "metadata": {},
   "outputs": [
    {
     "data": {
      "text/plain": [
       "{'Training Score': 0.9776949953088898,\n",
       " 'Valid Score': 0.5689502558080058,\n",
       " 'Training MAE': 2110.718200715059,\n",
       " 'Valid MAE': 11213.916229772352,\n",
       " 'Training RMSLE': 0.10894936118176218,\n",
       " 'Valid RMSLE': 0.43541330233308845,\n",
       " 'Training R^2': 0.9776949953088899,\n",
       " 'Valid R^2': 0.5689502558080057}"
      ]
     },
     "execution_count": 41,
     "metadata": {},
     "output_type": "execute_result"
    }
   ],
   "source": [
    "new_rfr = RandomForestRegressor(n_estimators=40,\n",
    "                                  min_samples_leaf=1,\n",
    "                                  min_samples_split=6,\n",
    "                                  max_features='auto',\n",
    "                                  max_depth=None,\n",
    "                                  n_jobs=-1,\n",
    "                                  max_samples=None,\n",
    "                                  random_state=42) # random state so our results are reproducible\n",
    "\n",
    "new_rfr.fit(X_train_keep, y_train)\n",
    "show_scores(new_rfr, X_train_keep, y_train, X_val_keep, y_valid)"
   ]
  },
  {
   "cell_type": "markdown",
   "metadata": {},
   "source": [
    "So I removed the features with < 0.005 importance and the validation score did better. Now we have a better and simpler model."
   ]
  },
  {
   "cell_type": "code",
   "execution_count": 42,
   "metadata": {},
   "outputs": [
    {
     "data": {
      "image/png": "[encoded data removed]",
      "text/plain": [
       "<Figure size 432x288 with 1 Axes>"
      ]
     },
     "metadata": {
      "needs_background": "light"
     },
     "output_type": "display_data"
    }
   ],
   "source": [
    "plot_features(X_train_keep.columns, new_rfr.feature_importances_)"
   ]
  },
  {
   "cell_type": "markdown",
   "metadata": {},
   "source": [
    "## Exploratory Data Analysis from Feature Importance\n",
    "\n",
    "(Using a copy of `df_orig`, but using `df_train` and `df_test` when necessary)"
   ]
  },
  {
   "cell_type": "markdown",
   "metadata": {},
   "source": [
    "### Distribution of bulldozers by the Year they were made"
   ]
  },
  {
   "cell_type": "code",
   "execution_count": 58,
   "metadata": {},
   "outputs": [
    {
     "data": {
      "text/plain": [
       "<matplotlib.axes._subplots.AxesSubplot at 0x19a806b7490>"
      ]
     },
     "execution_count": 58,
     "metadata": {},
     "output_type": "execute_result"
    },
    {
     "data": {
      "image/png": "[encoded data removed]",
      "text/plain": [
       "<Figure size 432x288 with 1 Axes>"
      ]
     },
     "metadata": {
      "needs_background": "light"
     },
     "output_type": "display_data"
    }
   ],
   "source": [
    "df_orig.YearMade.plot.hist()"
   ]
  },
  {
   "cell_type": "code",
   "execution_count": 59,
   "metadata": {},
   "outputs": [
    {
     "name": "stdout",
     "output_type": "stream",
     "text": [
      "(39391, 65)\n",
      "(1637, 146)\n"
     ]
    }
   ],
   "source": [
    "print(df_orig[df_orig['YearMade'] == 1000].shape)\n",
    "print(df_test[df_test['YearMade'] == 1000].shape)"
   ]
  },
  {
   "cell_type": "markdown",
   "metadata": {},
   "source": [
    "There are more than 41k rows with a `YearMade` of 1000, between the train/validation and test datasets, which is very wierd.\n",
    "What happened here? They definitely aren´t typos, and these bulldozers weren’t actually made in the year 1000. There are there for a reason; they must have a reason to have these values. We should consult with the owners of the data; to whom extracted or inserted this data.\n",
    "What should we do with those rows? In order to understand this plot better, I’m just going to remove them from this interpretation section of the analysis."
   ]
  },
  {
   "cell_type": "code",
   "execution_count": 60,
   "metadata": {},
   "outputs": [
    {
     "data": {
      "text/plain": [
       "(1919, 2014)"
      ]
     },
     "execution_count": 60,
     "metadata": {},
     "output_type": "execute_result"
    }
   ],
   "source": [
    "# Checking the real minimum and maximum years that the data has\n",
    "df_orig[df_orig['YearMade'] != 1000]['YearMade'].min(), df_orig['YearMade'].max()"
   ]
  },
  {
   "cell_type": "code",
   "execution_count": 61,
   "metadata": {},
   "outputs": [
    {
     "data": {
      "text/plain": [
       "<matplotlib.axes._subplots.AxesSubplot at 0x19a806ba5b0>"
      ]
     },
     "execution_count": 61,
     "metadata": {},
     "output_type": "execute_result"
    },
    {
     "data": {
      "image/png": "[encoded data removed]",
      "text/plain": [
       "<Figure size 432x288 with 1 Axes>"
      ]
     },
     "metadata": {
      "needs_background": "light"
     },
     "output_type": "display_data"
    }
   ],
   "source": [
    "df_orig[df_orig['YearMade'] >= 1919]['YearMade'].plot.hist(bins=20,\n",
    "                                                               edgecolor='black', linewidth=1.2)"
   ]
  },
  {
   "cell_type": "markdown",
   "metadata": {},
   "source": [
    "**Warning:** We see that there are rows added to the dataset before 2012, which contradicts the data description provided for the Kaggle competition. Let´s see how many of them are."
   ]
  },
  {
   "cell_type": "code",
   "execution_count": 62,
   "metadata": {},
   "outputs": [
    {
     "data": {
      "text/plain": [
       "2014    2\n",
       "2013    1\n",
       "Name: YearMade, dtype: int64"
      ]
     },
     "execution_count": 62,
     "metadata": {},
     "output_type": "execute_result"
    }
   ],
   "source": [
    "df_orig[df_orig['YearMade'] > 2012]['YearMade'].value_counts()"
   ]
  },
  {
   "cell_type": "code",
   "execution_count": 63,
   "metadata": {},
   "outputs": [
    {
     "data": {
      "text/plain": [
       "2014    1\n",
       "Name: YearMade, dtype: int64"
      ]
     },
     "execution_count": 63,
     "metadata": {},
     "output_type": "execute_result"
    }
   ],
   "source": [
    "df_test[df_test['YearMade'] > 2012]['YearMade'].value_counts()"
   ]
  },
  {
   "cell_type": "markdown",
   "metadata": {},
   "source": [
    "Hopefully, they are only 4 rows. Should we drop them?"
   ]
  },
  {
   "cell_type": "markdown",
   "metadata": {},
   "source": [
    "So one obvious thing we could do would be to plot `YearMade` against `saleElapsed` because seems to make sense that they are both important but it seems very likely that they are combined together to find how old was the product when it was sold. So we could try plotting YearMade against saleElapsed to see how they relate to each other."
   ]
  },
  {
   "cell_type": "code",
   "execution_count": 74,
   "metadata": {},
   "outputs": [
    {
     "data": {
      "image/png": "[encoded data removed]",
      "text/plain": [
       "<Figure size 720x576 with 1 Axes>"
      ]
     },
     "metadata": {
      "needs_background": "light"
     },
     "output_type": "display_data"
    }
   ],
   "source": [
    "new_orig = df_orig[df_orig['YearMade'] >= 1919]\n",
    "new_orig.plot('YearMade', 'saleElapsed', 'scatter', alpha=0.01, figsize=(10,8));"
   ]
  },
  {
   "cell_type": "markdown",
   "metadata": {},
   "source": [
    "### Checking ProductSize"
   ]
  },
  {
   "cell_type": "code",
   "execution_count": 64,
   "metadata": {},
   "outputs": [
    {
     "data": {
      "text/plain": [
       "<matplotlib.axes._subplots.AxesSubplot at 0x19a80781a30>"
      ]
     },
     "execution_count": 64,
     "metadata": {},
     "output_type": "execute_result"
    },
    {
     "data": {
      "image/png": "[encoded data removed]",
      "text/plain": [
       "<Figure size 432x288 with 1 Axes>"
      ]
     },
     "metadata": {
      "needs_background": "light"
     },
     "output_type": "display_data"
    }
   ],
   "source": [
    "df_orig['ProductSize'].value_counts().plot.barh()"
   ]
  },
  {
   "cell_type": "markdown",
   "metadata": {},
   "source": [
    "### Checking fiSecondaryDesc"
   ]
  },
  {
   "cell_type": "code",
   "execution_count": 65,
   "metadata": {},
   "outputs": [
    {
     "data": {
      "text/plain": [
       "C         44431\n",
       "B         40165\n",
       "G         37915\n",
       "H         24729\n",
       "E         21532\n",
       "          ...  \n",
       "BLGPPS        1\n",
       "HX            1\n",
       "CKB           1\n",
       "CLR           1\n",
       "NLC           1\n",
       "Name: fiSecondaryDesc, Length: 177, dtype: int64"
      ]
     },
     "execution_count": 65,
     "metadata": {},
     "output_type": "execute_result"
    }
   ],
   "source": [
    "df_orig['fiSecondaryDesc'].value_counts()"
   ]
  },
  {
   "cell_type": "markdown",
   "metadata": {},
   "source": [
    "There are 177 categories of this feature. We´ll try to reduce this amount to those who were most sold."
   ]
  },
  {
   "cell_type": "code",
   "execution_count": 66,
   "metadata": {},
   "outputs": [
    {
     "data": {
      "text/plain": [
       "<matplotlib.axes._subplots.AxesSubplot at 0x19a8080ee20>"
      ]
     },
     "execution_count": 66,
     "metadata": {},
     "output_type": "execute_result"
    },
    {
     "data": {
      "image/png": "[encoded data removed]",
      "text/plain": [
       "<Figure size 1080x504 with 1 Axes>"
      ]
     },
     "metadata": {
      "needs_background": "light"
     },
     "output_type": "display_data"
    }
   ],
   "source": [
    "dsc = df_orig['fiSecondaryDesc'].value_counts()\n",
    "dsc[dsc > 100].plot.bar(figsize=(15,7))"
   ]
  },
  {
   "cell_type": "markdown",
   "metadata": {},
   "source": [
    "### Checking Enclosure"
   ]
  },
  {
   "cell_type": "code",
   "execution_count": 67,
   "metadata": {},
   "outputs": [
    {
     "data": {
      "text/plain": [
       "<matplotlib.axes._subplots.AxesSubplot at 0x19a811c0910>"
      ]
     },
     "execution_count": 67,
     "metadata": {},
     "output_type": "execute_result"
    },
    {
     "data": {
      "image/png": "[encoded data removed]",
      "text/plain": [
       "<Figure size 432x288 with 1 Axes>"
      ]
     },
     "metadata": {
      "needs_background": "light"
     },
     "output_type": "display_data"
    }
   ],
   "source": [
    "df_orig['Enclosure'].value_counts().plot.barh()"
   ]
  },
  {
   "cell_type": "code",
   "execution_count": 68,
   "metadata": {},
   "outputs": [
    {
     "data": {
      "text/plain": [
       "EROPS AC               18\n",
       "NO ROPS                 3\n",
       "None or Unspecified     2\n",
       "Name: Enclosure, dtype: int64"
      ]
     },
     "execution_count": 68,
     "metadata": {},
     "output_type": "execute_result"
    }
   ],
   "source": [
    "df_orig[df_orig['Enclosure'].isin(['None or Unspecified', 'NO ROPS', 'EROPS AC'])]['Enclosure'].value_counts()"
   ]
  },
  {
   "cell_type": "markdown",
   "metadata": {},
   "source": [
    "Those `Enclosure` values are negligibles."
   ]
  },
  {
   "cell_type": "markdown",
   "metadata": {},
   "source": [
    "# TODO: CHECK THE RMSLE FORMULA"
   ]
  },
  {
   "cell_type": "code",
   "execution_count": null,
   "metadata": {},
   "outputs": [],
   "source": []
  }
 ],
 "metadata": {
  "kernelspec": {
   "display_name": "Python 3",
   "language": "python",
   "name": "python3"
  },
  "language_info": {
   "codemirror_mode": {
    "name": "ipython",
    "version": 3
   },
   "file_extension": ".py",
   "mimetype": "text/x-python",
   "name": "python",
   "nbconvert_exporter": "python",
   "pygments_lexer": "ipython3",
   "version": "3.8.3"
  }
 },
 "nbformat": 4,
 "nbformat_minor": 4
}
